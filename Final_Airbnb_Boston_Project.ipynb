{
 "cells": [
  {
   "cell_type": "markdown",
   "metadata": {},
   "source": [
    "# Importing required libraries for the project"
   ]
  },
  {
   "cell_type": "code",
   "execution_count": 1,
   "metadata": {},
   "outputs": [],
   "source": [
    "import numpy as np\n",
    "import pandas as pd\n",
    "import matplotlib.pyplot as plt\n",
    "import seaborn as sns\n",
    "%matplotlib inline"
   ]
  },
  {
   "cell_type": "markdown",
   "metadata": {},
   "source": [
    "## Data preparation and understanding in the following section"
   ]
  },
  {
   "cell_type": "code",
   "execution_count": 2,
   "metadata": {},
   "outputs": [
    {
     "data": {
      "text/html": [
       "<div>\n",
       "<style scoped>\n",
       "    .dataframe tbody tr th:only-of-type {\n",
       "        vertical-align: middle;\n",
       "    }\n",
       "\n",
       "    .dataframe tbody tr th {\n",
       "        vertical-align: top;\n",
       "    }\n",
       "\n",
       "    .dataframe thead th {\n",
       "        text-align: right;\n",
       "    }\n",
       "</style>\n",
       "<table border=\"1\" class=\"dataframe\">\n",
       "  <thead>\n",
       "    <tr style=\"text-align: right;\">\n",
       "      <th></th>\n",
       "      <th>id</th>\n",
       "      <th>listing_url</th>\n",
       "      <th>scrape_id</th>\n",
       "      <th>last_scraped</th>\n",
       "      <th>name</th>\n",
       "      <th>summary</th>\n",
       "      <th>space</th>\n",
       "      <th>description</th>\n",
       "      <th>experiences_offered</th>\n",
       "      <th>neighborhood_overview</th>\n",
       "      <th>...</th>\n",
       "      <th>review_scores_value</th>\n",
       "      <th>requires_license</th>\n",
       "      <th>license</th>\n",
       "      <th>jurisdiction_names</th>\n",
       "      <th>instant_bookable</th>\n",
       "      <th>cancellation_policy</th>\n",
       "      <th>require_guest_profile_picture</th>\n",
       "      <th>require_guest_phone_verification</th>\n",
       "      <th>calculated_host_listings_count</th>\n",
       "      <th>reviews_per_month</th>\n",
       "    </tr>\n",
       "  </thead>\n",
       "  <tbody>\n",
       "    <tr>\n",
       "      <td>0</td>\n",
       "      <td>12147973</td>\n",
       "      <td>https://www.airbnb.com/rooms/12147973</td>\n",
       "      <td>20160906204935</td>\n",
       "      <td>2016-09-07</td>\n",
       "      <td>Sunny Bungalow in the City</td>\n",
       "      <td>Cozy, sunny, family home.  Master bedroom high...</td>\n",
       "      <td>The house has an open and cozy feel at the sam...</td>\n",
       "      <td>Cozy, sunny, family home.  Master bedroom high...</td>\n",
       "      <td>none</td>\n",
       "      <td>Roslindale is quiet, convenient and friendly. ...</td>\n",
       "      <td>...</td>\n",
       "      <td>NaN</td>\n",
       "      <td>f</td>\n",
       "      <td>NaN</td>\n",
       "      <td>NaN</td>\n",
       "      <td>f</td>\n",
       "      <td>moderate</td>\n",
       "      <td>f</td>\n",
       "      <td>f</td>\n",
       "      <td>1</td>\n",
       "      <td>NaN</td>\n",
       "    </tr>\n",
       "    <tr>\n",
       "      <td>1</td>\n",
       "      <td>3075044</td>\n",
       "      <td>https://www.airbnb.com/rooms/3075044</td>\n",
       "      <td>20160906204935</td>\n",
       "      <td>2016-09-07</td>\n",
       "      <td>Charming room in pet friendly apt</td>\n",
       "      <td>Charming and quiet room in a second floor 1910...</td>\n",
       "      <td>Small but cozy and quite room with a full size...</td>\n",
       "      <td>Charming and quiet room in a second floor 1910...</td>\n",
       "      <td>none</td>\n",
       "      <td>The room is in Roslindale, a diverse and prima...</td>\n",
       "      <td>...</td>\n",
       "      <td>9.0</td>\n",
       "      <td>f</td>\n",
       "      <td>NaN</td>\n",
       "      <td>NaN</td>\n",
       "      <td>t</td>\n",
       "      <td>moderate</td>\n",
       "      <td>f</td>\n",
       "      <td>f</td>\n",
       "      <td>1</td>\n",
       "      <td>1.30</td>\n",
       "    </tr>\n",
       "    <tr>\n",
       "      <td>2</td>\n",
       "      <td>6976</td>\n",
       "      <td>https://www.airbnb.com/rooms/6976</td>\n",
       "      <td>20160906204935</td>\n",
       "      <td>2016-09-07</td>\n",
       "      <td>Mexican Folk Art Haven in Boston</td>\n",
       "      <td>Come stay with a friendly, middle-aged guy in ...</td>\n",
       "      <td>Come stay with a friendly, middle-aged guy in ...</td>\n",
       "      <td>Come stay with a friendly, middle-aged guy in ...</td>\n",
       "      <td>none</td>\n",
       "      <td>The LOCATION: Roslindale is a safe and diverse...</td>\n",
       "      <td>...</td>\n",
       "      <td>10.0</td>\n",
       "      <td>f</td>\n",
       "      <td>NaN</td>\n",
       "      <td>NaN</td>\n",
       "      <td>f</td>\n",
       "      <td>moderate</td>\n",
       "      <td>t</td>\n",
       "      <td>f</td>\n",
       "      <td>1</td>\n",
       "      <td>0.47</td>\n",
       "    </tr>\n",
       "    <tr>\n",
       "      <td>3</td>\n",
       "      <td>1436513</td>\n",
       "      <td>https://www.airbnb.com/rooms/1436513</td>\n",
       "      <td>20160906204935</td>\n",
       "      <td>2016-09-07</td>\n",
       "      <td>Spacious Sunny Bedroom Suite in Historic Home</td>\n",
       "      <td>Come experience the comforts of home away from...</td>\n",
       "      <td>Most places you find in Boston are small howev...</td>\n",
       "      <td>Come experience the comforts of home away from...</td>\n",
       "      <td>none</td>\n",
       "      <td>Roslindale is a lovely little neighborhood loc...</td>\n",
       "      <td>...</td>\n",
       "      <td>10.0</td>\n",
       "      <td>f</td>\n",
       "      <td>NaN</td>\n",
       "      <td>NaN</td>\n",
       "      <td>f</td>\n",
       "      <td>moderate</td>\n",
       "      <td>f</td>\n",
       "      <td>f</td>\n",
       "      <td>1</td>\n",
       "      <td>1.00</td>\n",
       "    </tr>\n",
       "    <tr>\n",
       "      <td>4</td>\n",
       "      <td>7651065</td>\n",
       "      <td>https://www.airbnb.com/rooms/7651065</td>\n",
       "      <td>20160906204935</td>\n",
       "      <td>2016-09-07</td>\n",
       "      <td>Come Home to Boston</td>\n",
       "      <td>My comfy, clean and relaxing home is one block...</td>\n",
       "      <td>Clean, attractive, private room, one block fro...</td>\n",
       "      <td>My comfy, clean and relaxing home is one block...</td>\n",
       "      <td>none</td>\n",
       "      <td>I love the proximity to downtown, the neighbor...</td>\n",
       "      <td>...</td>\n",
       "      <td>10.0</td>\n",
       "      <td>f</td>\n",
       "      <td>NaN</td>\n",
       "      <td>NaN</td>\n",
       "      <td>f</td>\n",
       "      <td>flexible</td>\n",
       "      <td>f</td>\n",
       "      <td>f</td>\n",
       "      <td>1</td>\n",
       "      <td>2.25</td>\n",
       "    </tr>\n",
       "  </tbody>\n",
       "</table>\n",
       "<p>5 rows × 95 columns</p>\n",
       "</div>"
      ],
      "text/plain": [
       "         id                            listing_url       scrape_id  \\\n",
       "0  12147973  https://www.airbnb.com/rooms/12147973  20160906204935   \n",
       "1   3075044   https://www.airbnb.com/rooms/3075044  20160906204935   \n",
       "2      6976      https://www.airbnb.com/rooms/6976  20160906204935   \n",
       "3   1436513   https://www.airbnb.com/rooms/1436513  20160906204935   \n",
       "4   7651065   https://www.airbnb.com/rooms/7651065  20160906204935   \n",
       "\n",
       "  last_scraped                                           name  \\\n",
       "0   2016-09-07                     Sunny Bungalow in the City   \n",
       "1   2016-09-07              Charming room in pet friendly apt   \n",
       "2   2016-09-07               Mexican Folk Art Haven in Boston   \n",
       "3   2016-09-07  Spacious Sunny Bedroom Suite in Historic Home   \n",
       "4   2016-09-07                            Come Home to Boston   \n",
       "\n",
       "                                             summary  \\\n",
       "0  Cozy, sunny, family home.  Master bedroom high...   \n",
       "1  Charming and quiet room in a second floor 1910...   \n",
       "2  Come stay with a friendly, middle-aged guy in ...   \n",
       "3  Come experience the comforts of home away from...   \n",
       "4  My comfy, clean and relaxing home is one block...   \n",
       "\n",
       "                                               space  \\\n",
       "0  The house has an open and cozy feel at the sam...   \n",
       "1  Small but cozy and quite room with a full size...   \n",
       "2  Come stay with a friendly, middle-aged guy in ...   \n",
       "3  Most places you find in Boston are small howev...   \n",
       "4  Clean, attractive, private room, one block fro...   \n",
       "\n",
       "                                         description experiences_offered  \\\n",
       "0  Cozy, sunny, family home.  Master bedroom high...                none   \n",
       "1  Charming and quiet room in a second floor 1910...                none   \n",
       "2  Come stay with a friendly, middle-aged guy in ...                none   \n",
       "3  Come experience the comforts of home away from...                none   \n",
       "4  My comfy, clean and relaxing home is one block...                none   \n",
       "\n",
       "                               neighborhood_overview  ... review_scores_value  \\\n",
       "0  Roslindale is quiet, convenient and friendly. ...  ...                 NaN   \n",
       "1  The room is in Roslindale, a diverse and prima...  ...                 9.0   \n",
       "2  The LOCATION: Roslindale is a safe and diverse...  ...                10.0   \n",
       "3  Roslindale is a lovely little neighborhood loc...  ...                10.0   \n",
       "4  I love the proximity to downtown, the neighbor...  ...                10.0   \n",
       "\n",
       "  requires_license license jurisdiction_names instant_bookable  \\\n",
       "0                f     NaN                NaN                f   \n",
       "1                f     NaN                NaN                t   \n",
       "2                f     NaN                NaN                f   \n",
       "3                f     NaN                NaN                f   \n",
       "4                f     NaN                NaN                f   \n",
       "\n",
       "  cancellation_policy require_guest_profile_picture  \\\n",
       "0            moderate                             f   \n",
       "1            moderate                             f   \n",
       "2            moderate                             t   \n",
       "3            moderate                             f   \n",
       "4            flexible                             f   \n",
       "\n",
       "  require_guest_phone_verification calculated_host_listings_count  \\\n",
       "0                                f                              1   \n",
       "1                                f                              1   \n",
       "2                                f                              1   \n",
       "3                                f                              1   \n",
       "4                                f                              1   \n",
       "\n",
       "   reviews_per_month  \n",
       "0                NaN  \n",
       "1               1.30  \n",
       "2               0.47  \n",
       "3               1.00  \n",
       "4               2.25  \n",
       "\n",
       "[5 rows x 95 columns]"
      ]
     },
     "execution_count": 2,
     "metadata": {},
     "output_type": "execute_result"
    }
   ],
   "source": [
    "df_listing=pd.read_csv(\"./listings.csv\")\n",
    "df_listing.head()"
   ]
  },
  {
   "cell_type": "code",
   "execution_count": 3,
   "metadata": {},
   "outputs": [
    {
     "data": {
      "text/plain": [
       "(3585, 95)"
      ]
     },
     "execution_count": 3,
     "metadata": {},
     "output_type": "execute_result"
    }
   ],
   "source": [
    "df_listing.shape"
   ]
  },
  {
   "cell_type": "code",
   "execution_count": 4,
   "metadata": {},
   "outputs": [
    {
     "data": {
      "text/plain": [
       "id                                    0\n",
       "listing_url                           0\n",
       "scrape_id                             0\n",
       "last_scraped                          0\n",
       "name                                  0\n",
       "                                   ... \n",
       "cancellation_policy                   0\n",
       "require_guest_profile_picture         0\n",
       "require_guest_phone_verification      0\n",
       "calculated_host_listings_count        0\n",
       "reviews_per_month                   756\n",
       "Length: 95, dtype: int64"
      ]
     },
     "execution_count": 4,
     "metadata": {},
     "output_type": "execute_result"
    }
   ],
   "source": [
    "df_listing.isnull().sum()"
   ]
  },
  {
   "cell_type": "markdown",
   "metadata": {},
   "source": [
    "### We are dropping those columns which more than 90% of missing data"
   ]
  },
  {
   "cell_type": "code",
   "execution_count": 5,
   "metadata": {},
   "outputs": [
    {
     "name": "stdout",
     "output_type": "stream",
     "text": [
      "['neighbourhood_group_cleansed', 'square_feet', 'has_availability', 'license', 'jurisdiction_names']\n"
     ]
    }
   ],
   "source": [
    "most_missing_cols=[]\n",
    "sr=100 * df_listing.isnull().sum() / len(df_listing)\n",
    "sr=sr.to_dict()\n",
    "for key in sr:\n",
    "    if sr[key] > 90:\n",
    "        most_missing_cols.append(key)\n",
    "print(most_missing_cols)"
   ]
  },
  {
   "cell_type": "code",
   "execution_count": 6,
   "metadata": {},
   "outputs": [
    {
     "data": {
      "text/plain": [
       "id                                    0\n",
       "listing_url                           0\n",
       "scrape_id                             0\n",
       "last_scraped                          0\n",
       "name                                  0\n",
       "                                   ... \n",
       "cancellation_policy                   0\n",
       "require_guest_profile_picture         0\n",
       "require_guest_phone_verification      0\n",
       "calculated_host_listings_count        0\n",
       "reviews_per_month                   756\n",
       "Length: 90, dtype: int64"
      ]
     },
     "execution_count": 6,
     "metadata": {},
     "output_type": "execute_result"
    }
   ],
   "source": [
    "df_listing=df_listing.drop(most_missing_cols,axis=1)\n",
    "df_listing.isnull().sum()"
   ]
  },
  {
   "cell_type": "markdown",
   "metadata": {},
   "source": [
    "### Converting the price related columns into a float type"
   ]
  },
  {
   "cell_type": "code",
   "execution_count": 7,
   "metadata": {},
   "outputs": [],
   "source": [
    "def price_convertor(df,colname):\n",
    "    \"\"\" Here,\n",
    "        df: stands for the datafram which is to be converted.\n",
    "        colname: the name of the column, which is need to be cleansed.\n",
    "        \"\"\"\n",
    "    df[colname]=df[colname].str.replace('$', '').str.replace(',', '')\n",
    "    df[colname]=df[colname].astype(float)\n",
    "    return df[colname]"
   ]
  },
  {
   "cell_type": "code",
   "execution_count": 8,
   "metadata": {},
   "outputs": [
    {
     "data": {
      "text/plain": [
       "0       250.0\n",
       "1        65.0\n",
       "2        65.0\n",
       "3        75.0\n",
       "4        79.0\n",
       "        ...  \n",
       "3580     69.0\n",
       "3581    150.0\n",
       "3582    198.0\n",
       "3583     65.0\n",
       "3584     65.0\n",
       "Name: price, Length: 3585, dtype: float64"
      ]
     },
     "execution_count": 8,
     "metadata": {},
     "output_type": "execute_result"
    }
   ],
   "source": [
    "df_listing[\"price\"]=price_convertor(df_listing,\"price\")\n",
    "df_listing[\"price\"]"
   ]
  },
  {
   "cell_type": "code",
   "execution_count": 9,
   "metadata": {},
   "outputs": [],
   "source": [
    "df_listing[\"weekly_price\"]=price_convertor(df_listing,\"weekly_price\")\n",
    "df_listing[\"monthly_price\"]=price_convertor(df_listing,\"monthly_price\")\n",
    "df_listing[\"security_deposit\"]=price_convertor(df_listing,\"security_deposit\")\n",
    "df_listing[\"cleaning_fee\"]=price_convertor(df_listing,\"cleaning_fee\")\n",
    "df_listing[\"extra_people\"]=price_convertor(df_listing,\"extra_people\")"
   ]
  },
  {
   "cell_type": "code",
   "execution_count": 10,
   "metadata": {},
   "outputs": [
    {
     "data": {
      "text/html": [
       "<div>\n",
       "<style scoped>\n",
       "    .dataframe tbody tr th:only-of-type {\n",
       "        vertical-align: middle;\n",
       "    }\n",
       "\n",
       "    .dataframe tbody tr th {\n",
       "        vertical-align: top;\n",
       "    }\n",
       "\n",
       "    .dataframe thead th {\n",
       "        text-align: right;\n",
       "    }\n",
       "</style>\n",
       "<table border=\"1\" class=\"dataframe\">\n",
       "  <thead>\n",
       "    <tr style=\"text-align: right;\">\n",
       "      <th></th>\n",
       "      <th>price</th>\n",
       "      <th>weekly_price</th>\n",
       "      <th>monthly_price</th>\n",
       "      <th>security_deposit</th>\n",
       "      <th>cleaning_fee</th>\n",
       "      <th>extra_people</th>\n",
       "    </tr>\n",
       "  </thead>\n",
       "  <tbody>\n",
       "    <tr>\n",
       "      <td>0</td>\n",
       "      <td>250.0</td>\n",
       "      <td>NaN</td>\n",
       "      <td>NaN</td>\n",
       "      <td>NaN</td>\n",
       "      <td>35.0</td>\n",
       "      <td>0.0</td>\n",
       "    </tr>\n",
       "    <tr>\n",
       "      <td>1</td>\n",
       "      <td>65.0</td>\n",
       "      <td>400.0</td>\n",
       "      <td>NaN</td>\n",
       "      <td>95.0</td>\n",
       "      <td>10.0</td>\n",
       "      <td>0.0</td>\n",
       "    </tr>\n",
       "    <tr>\n",
       "      <td>2</td>\n",
       "      <td>65.0</td>\n",
       "      <td>395.0</td>\n",
       "      <td>1350.0</td>\n",
       "      <td>NaN</td>\n",
       "      <td>NaN</td>\n",
       "      <td>20.0</td>\n",
       "    </tr>\n",
       "    <tr>\n",
       "      <td>3</td>\n",
       "      <td>75.0</td>\n",
       "      <td>NaN</td>\n",
       "      <td>NaN</td>\n",
       "      <td>100.0</td>\n",
       "      <td>50.0</td>\n",
       "      <td>25.0</td>\n",
       "    </tr>\n",
       "    <tr>\n",
       "      <td>4</td>\n",
       "      <td>79.0</td>\n",
       "      <td>NaN</td>\n",
       "      <td>NaN</td>\n",
       "      <td>NaN</td>\n",
       "      <td>15.0</td>\n",
       "      <td>0.0</td>\n",
       "    </tr>\n",
       "  </tbody>\n",
       "</table>\n",
       "</div>"
      ],
      "text/plain": [
       "   price  weekly_price  monthly_price  security_deposit  cleaning_fee  \\\n",
       "0  250.0           NaN            NaN               NaN          35.0   \n",
       "1   65.0         400.0            NaN              95.0          10.0   \n",
       "2   65.0         395.0         1350.0               NaN           NaN   \n",
       "3   75.0           NaN            NaN             100.0          50.0   \n",
       "4   79.0           NaN            NaN               NaN          15.0   \n",
       "\n",
       "   extra_people  \n",
       "0           0.0  \n",
       "1           0.0  \n",
       "2          20.0  \n",
       "3          25.0  \n",
       "4           0.0  "
      ]
     },
     "execution_count": 10,
     "metadata": {},
     "output_type": "execute_result"
    }
   ],
   "source": [
    "df_listing[[\"price\",\"weekly_price\",\"monthly_price\",\"security_deposit\",\"cleaning_fee\",\"extra_people\"]].head()"
   ]
  },
  {
   "cell_type": "code",
   "execution_count": 11,
   "metadata": {},
   "outputs": [
    {
     "data": {
      "text/plain": [
       "price               0.000000\n",
       "weekly_price        0.751185\n",
       "monthly_price       0.752301\n",
       "security_deposit    0.625662\n",
       "cleaning_fee        0.308787\n",
       "extra_people        0.000000\n",
       "dtype: float64"
      ]
     },
     "execution_count": 11,
     "metadata": {},
     "output_type": "execute_result"
    }
   ],
   "source": [
    "df_listing[[\"price\",\"weekly_price\",\"monthly_price\",\"security_deposit\",\n",
    "            \"cleaning_fee\",\"extra_people\"]].isnull().sum()/len(df_listing)"
   ]
  },
  {
   "cell_type": "markdown",
   "metadata": {},
   "source": [
    "#### There is lot of missing data primarily in the columns weekly_price and monthly_price, and the columns price and extra_people   has no missing values.\n",
    "\n",
    "### Now we will be dropping columns with the url extension, because it doesn't add any information to our analysis."
   ]
  },
  {
   "cell_type": "code",
   "execution_count": 12,
   "metadata": {},
   "outputs": [],
   "source": [
    "def drop_url(df):\n",
    "    # df is the dataframe\n",
    "    list1=list(df.columns)\n",
    "    list_url=[]\n",
    "    for i in list1:\n",
    "        if 'url' in i:\n",
    "            list_url.append(i)\n",
    "    return list_url"
   ]
  },
  {
   "cell_type": "code",
   "execution_count": 13,
   "metadata": {},
   "outputs": [
    {
     "data": {
      "text/plain": [
       "['listing_url',\n",
       " 'thumbnail_url',\n",
       " 'medium_url',\n",
       " 'picture_url',\n",
       " 'xl_picture_url',\n",
       " 'host_url',\n",
       " 'host_thumbnail_url',\n",
       " 'host_picture_url']"
      ]
     },
     "execution_count": 13,
     "metadata": {},
     "output_type": "execute_result"
    }
   ],
   "source": [
    "url_cols=drop_url(df_listing)\n",
    "url_cols"
   ]
  },
  {
   "cell_type": "code",
   "execution_count": 14,
   "metadata": {},
   "outputs": [
    {
     "data": {
      "text/plain": [
       "(3585, 82)"
      ]
     },
     "execution_count": 14,
     "metadata": {},
     "output_type": "execute_result"
    }
   ],
   "source": [
    "df_listing=df_listing.drop(url_cols,axis=1)\n",
    "df_listing.shape"
   ]
  },
  {
   "cell_type": "markdown",
   "metadata": {},
   "source": [
    "#  Business understanding section.\n",
    "\n",
    "## We primarily be answering four business questions, which are stated as follows,\n",
    "- _What areas of Boston has the most and the least number of listings_ ?\n",
    "- _What areas of Boston are the costliest areas to stay_ ?\n",
    "- _What sets apart a super host from a normal host_ ?\n",
    "- _How the number of booked listing varies in the time of the year_ ?\n",
    "\n",
    "The importance of the first two questions is mainly for the person who is going to visit Boston, and want to know where in Boston the Airbnb listings are high, and which neighborhood fits to their budget. The last two questions primarily concerns for host who wants to transform from normal host to super host, and what to know what time of the year does Airbnb bookings increases, so that he/she can prep up his business.\n",
    "#### Note : ***For answering the above four questions we will be primarily be using inferential statistics, therefore Data Modelling and Evaluation of results sections of the CRISP-DM procedure is not covered in this notebook***\n",
    "\n",
    "### Now we will be addressing the first question in the above of list of questions."
   ]
  },
  {
   "cell_type": "code",
   "execution_count": 15,
   "metadata": {},
   "outputs": [
    {
     "data": {
      "text/html": [
       "<div>\n",
       "<style scoped>\n",
       "    .dataframe tbody tr th:only-of-type {\n",
       "        vertical-align: middle;\n",
       "    }\n",
       "\n",
       "    .dataframe tbody tr th {\n",
       "        vertical-align: top;\n",
       "    }\n",
       "\n",
       "    .dataframe thead th {\n",
       "        text-align: right;\n",
       "    }\n",
       "</style>\n",
       "<table border=\"1\" class=\"dataframe\">\n",
       "  <thead>\n",
       "    <tr style=\"text-align: right;\">\n",
       "      <th></th>\n",
       "      <th>neighbourhood</th>\n",
       "      <th>neigh_count</th>\n",
       "    </tr>\n",
       "  </thead>\n",
       "  <tbody>\n",
       "    <tr>\n",
       "      <td>0</td>\n",
       "      <td>Allston-Brighton</td>\n",
       "      <td>364</td>\n",
       "    </tr>\n",
       "    <tr>\n",
       "      <td>1</td>\n",
       "      <td>Jamaica Plain</td>\n",
       "      <td>314</td>\n",
       "    </tr>\n",
       "    <tr>\n",
       "      <td>2</td>\n",
       "      <td>South End</td>\n",
       "      <td>298</td>\n",
       "    </tr>\n",
       "    <tr>\n",
       "      <td>3</td>\n",
       "      <td>Back Bay</td>\n",
       "      <td>291</td>\n",
       "    </tr>\n",
       "    <tr>\n",
       "      <td>4</td>\n",
       "      <td>Fenway/Kenmore</td>\n",
       "      <td>249</td>\n",
       "    </tr>\n",
       "  </tbody>\n",
       "</table>\n",
       "</div>"
      ],
      "text/plain": [
       "      neighbourhood  neigh_count\n",
       "0  Allston-Brighton          364\n",
       "1     Jamaica Plain          314\n",
       "2         South End          298\n",
       "3          Back Bay          291\n",
       "4    Fenway/Kenmore          249"
      ]
     },
     "execution_count": 15,
     "metadata": {},
     "output_type": "execute_result"
    }
   ],
   "source": [
    "stat_neigh=df_listing.groupby([\"neighbourhood\"]).agg({\"neighbourhood\":\"count\"})\n",
    "stat_neigh.columns=[\"neigh_count\"]\n",
    "stat_neigh=stat_neigh.sort_values(ascending=False,by=\"neigh_count\")\n",
    "stat_neigh=stat_neigh.reset_index()\n",
    "stat_neigh.head()"
   ]
  },
  {
   "cell_type": "code",
   "execution_count": 16,
   "metadata": {},
   "outputs": [
    {
     "data": {
      "image/png": "[encoded data removed]",
      "text/plain": [
       "<Figure size 1224x360 with 1 Axes>"
      ]
     },
     "metadata": {
      "needs_background": "light"
     },
     "output_type": "display_data"
    }
   ],
   "source": [
    "#((stat_neigh*100)/df_listing.shape[0]).plot(kind=\"bar\",color=['black', 'red', 'green', 'blue', 'cyan']);\n",
    "\n",
    "plt.figure(figsize = (17,5))\n",
    "ax = sns.barplot(x=\"neighbourhood\", y=\"neigh_count\", data=stat_neigh)\n",
    "plt.xlabel(\"Neighbourhood\", fontsize= 16)\n",
    "plt.ylabel(\"Number of listings\", fontsize= 16)\n",
    "plt.title(\"Numbers of listings area wise in Boston\", fontsize=18)\n",
    "plt.xticks(rotation=75)\n",
    "plt.savefig('plot.png', dpi=400, bbox_inches='tight')"
   ]
  },
  {
   "cell_type": "markdown",
   "metadata": {},
   "source": [
    "## Now we will addressing the second question in the list of question\n",
    "- _What areas of Boston are the costliest areas to stay_ ?"
   ]
  },
  {
   "cell_type": "code",
   "execution_count": 17,
   "metadata": {},
   "outputs": [
    {
     "data": {
      "text/html": [
       "<div>\n",
       "<style scoped>\n",
       "    .dataframe tbody tr th:only-of-type {\n",
       "        vertical-align: middle;\n",
       "    }\n",
       "\n",
       "    .dataframe tbody tr th {\n",
       "        vertical-align: top;\n",
       "    }\n",
       "\n",
       "    .dataframe thead th {\n",
       "        text-align: right;\n",
       "    }\n",
       "</style>\n",
       "<table border=\"1\" class=\"dataframe\">\n",
       "  <thead>\n",
       "    <tr style=\"text-align: right;\">\n",
       "      <th></th>\n",
       "      <th>neighbourhood</th>\n",
       "      <th>avg_price</th>\n",
       "      <th>max_price</th>\n",
       "      <th>min_price</th>\n",
       "    </tr>\n",
       "  </thead>\n",
       "  <tbody>\n",
       "    <tr>\n",
       "      <td>0</td>\n",
       "      <td>Harvard Square</td>\n",
       "      <td>359.000000</td>\n",
       "      <td>459.0</td>\n",
       "      <td>259.0</td>\n",
       "    </tr>\n",
       "    <tr>\n",
       "      <td>1</td>\n",
       "      <td>Financial District</td>\n",
       "      <td>283.692308</td>\n",
       "      <td>400.0</td>\n",
       "      <td>100.0</td>\n",
       "    </tr>\n",
       "    <tr>\n",
       "      <td>2</td>\n",
       "      <td>Downtown Crossing</td>\n",
       "      <td>273.500000</td>\n",
       "      <td>449.0</td>\n",
       "      <td>95.0</td>\n",
       "    </tr>\n",
       "    <tr>\n",
       "      <td>3</td>\n",
       "      <td>Leather District</td>\n",
       "      <td>245.875000</td>\n",
       "      <td>400.0</td>\n",
       "      <td>139.0</td>\n",
       "    </tr>\n",
       "    <tr>\n",
       "      <td>4</td>\n",
       "      <td>Back Bay</td>\n",
       "      <td>245.457045</td>\n",
       "      <td>1250.0</td>\n",
       "      <td>40.0</td>\n",
       "    </tr>\n",
       "  </tbody>\n",
       "</table>\n",
       "</div>"
      ],
      "text/plain": [
       "        neighbourhood   avg_price  max_price  min_price\n",
       "0      Harvard Square  359.000000      459.0      259.0\n",
       "1  Financial District  283.692308      400.0      100.0\n",
       "2   Downtown Crossing  273.500000      449.0       95.0\n",
       "3    Leather District  245.875000      400.0      139.0\n",
       "4            Back Bay  245.457045     1250.0       40.0"
      ]
     },
     "execution_count": 17,
     "metadata": {},
     "output_type": "execute_result"
    }
   ],
   "source": [
    "stats_avg_price=df_listing.groupby(by=\"neighbourhood\").agg({\"price\":[\"mean\",\"max\",\"min\"]})\n",
    "stats_avg_price.columns=[\"avg_price\",\"max_price\",\"min_price\"]\n",
    "stats_avg_price=stats_avg_price.sort_values(ascending=False,by=\"avg_price\")\n",
    "stats_avg_price=stats_avg_price.reset_index()\n",
    "stats_avg_price.head()"
   ]
  },
  {
   "cell_type": "code",
   "execution_count": 18,
   "metadata": {},
   "outputs": [
    {
     "data": {
      "image/png": "[encoded data removed]",
      "text/plain": [
       "<Figure size 1224x360 with 1 Axes>"
      ]
     },
     "metadata": {
      "needs_background": "light"
     },
     "output_type": "display_data"
    }
   ],
   "source": [
    "plt.figure(figsize = (17,5))\n",
    "ax = sns.barplot(x=\"neighbourhood\", y=\"avg_price\", data=stats_avg_price)\n",
    "plt.xlabel(\"Neighbourhood\", fontsize= 16)\n",
    "plt.ylabel(\"Average price ($)\", fontsize= 16)\n",
    "plt.title(\"Average price for reservation in Airbnb Boston\", fontsize=18)\n",
    "plt.xticks(rotation=75)\n",
    "plt.savefig('avg_price_areawise.png', dpi=400, bbox_inches='tight')"
   ]
  },
  {
   "cell_type": "code",
   "execution_count": 19,
   "metadata": {},
   "outputs": [
    {
     "name": "stdout",
     "output_type": "stream",
     "text": [
      "User Guide: https://docs.kepler.gl/docs/keplergl-jupyter\n"
     ]
    },
    {
     "data": {
      "application/vnd.jupyter.widget-view+json": {
       "model_id": "a3b2800812bb460bae339167c80dd2f5",
       "version_major": 2,
       "version_minor": 0
      },
      "text/plain": [
       "KeplerGl(height=500)"
      ]
     },
     "metadata": {},
     "output_type": "display_data"
    }
   ],
   "source": [
    "from keplergl import KeplerGl\n",
    "map_1 = KeplerGl(height=500)\n",
    "map_1"
   ]
  },
  {
   "cell_type": "code",
   "execution_count": 20,
   "metadata": {},
   "outputs": [
    {
     "data": {
      "text/html": [
       "<div>\n",
       "<style scoped>\n",
       "    .dataframe tbody tr th:only-of-type {\n",
       "        vertical-align: middle;\n",
       "    }\n",
       "\n",
       "    .dataframe tbody tr th {\n",
       "        vertical-align: top;\n",
       "    }\n",
       "\n",
       "    .dataframe thead th {\n",
       "        text-align: right;\n",
       "    }\n",
       "</style>\n",
       "<table border=\"1\" class=\"dataframe\">\n",
       "  <thead>\n",
       "    <tr style=\"text-align: right;\">\n",
       "      <th></th>\n",
       "      <th>neighbourhood</th>\n",
       "      <th>latitude</th>\n",
       "      <th>longitude</th>\n",
       "      <th>neighbor_count</th>\n",
       "    </tr>\n",
       "  </thead>\n",
       "  <tbody>\n",
       "    <tr>\n",
       "      <td>0</td>\n",
       "      <td>Allston-Brighton</td>\n",
       "      <td>42.335887</td>\n",
       "      <td>-71.148954</td>\n",
       "      <td>1</td>\n",
       "    </tr>\n",
       "    <tr>\n",
       "      <td>1</td>\n",
       "      <td>Allston-Brighton</td>\n",
       "      <td>42.336894</td>\n",
       "      <td>-71.150790</td>\n",
       "      <td>1</td>\n",
       "    </tr>\n",
       "    <tr>\n",
       "      <td>2</td>\n",
       "      <td>Allston-Brighton</td>\n",
       "      <td>42.336898</td>\n",
       "      <td>-71.150180</td>\n",
       "      <td>1</td>\n",
       "    </tr>\n",
       "    <tr>\n",
       "      <td>3</td>\n",
       "      <td>Allston-Brighton</td>\n",
       "      <td>42.337170</td>\n",
       "      <td>-71.149654</td>\n",
       "      <td>1</td>\n",
       "    </tr>\n",
       "    <tr>\n",
       "      <td>4</td>\n",
       "      <td>Allston-Brighton</td>\n",
       "      <td>42.337190</td>\n",
       "      <td>-71.151437</td>\n",
       "      <td>1</td>\n",
       "    </tr>\n",
       "  </tbody>\n",
       "</table>\n",
       "</div>"
      ],
      "text/plain": [
       "      neighbourhood   latitude  longitude  neighbor_count\n",
       "0  Allston-Brighton  42.335887 -71.148954               1\n",
       "1  Allston-Brighton  42.336894 -71.150790               1\n",
       "2  Allston-Brighton  42.336898 -71.150180               1\n",
       "3  Allston-Brighton  42.337170 -71.149654               1\n",
       "4  Allston-Brighton  42.337190 -71.151437               1"
      ]
     },
     "execution_count": 20,
     "metadata": {},
     "output_type": "execute_result"
    }
   ],
   "source": [
    "map_boston=df_listing.groupby([\"neighbourhood\",\"latitude\",\"longitude\",]).agg({\"neighbourhood\":\"count\"})\n",
    "map_boston.columns=[\"neighbor_count\"]\n",
    "map_boston=map_boston.reset_index()\n",
    "map_boston.head()"
   ]
  },
  {
   "cell_type": "code",
   "execution_count": 21,
   "metadata": {},
   "outputs": [
    {
     "name": "stdout",
     "output_type": "stream",
     "text": [
      "Map saved to first_map.html!\n"
     ]
    }
   ],
   "source": [
    "map_1.add_data(data = map_boston, name='map_boston')\n",
    "map_1.save_to_html(file_name='first_map.html')"
   ]
  },
  {
   "cell_type": "markdown",
   "metadata": {},
   "source": [
    "## Now we address the third question\n",
    "- _What sets apart a super host from a normal host_ ?"
   ]
  },
  {
   "cell_type": "code",
   "execution_count": 22,
   "metadata": {},
   "outputs": [
    {
     "data": {
      "text/plain": [
       "0"
      ]
     },
     "execution_count": 22,
     "metadata": {},
     "output_type": "execute_result"
    }
   ],
   "source": [
    "df_listing[\"host_is_superhost\"].isnull().sum()"
   ]
  },
  {
   "cell_type": "code",
   "execution_count": 23,
   "metadata": {},
   "outputs": [
    {
     "data": {
      "text/plain": [
       "<matplotlib.axes._subplots.AxesSubplot at 0x7f3b9b455160>"
      ]
     },
     "execution_count": 23,
     "metadata": {},
     "output_type": "execute_result"
    },
    {
     "data": {
      "image/png": "[encoded data removed]",
      "text/plain": [
       "<Figure size 720x720 with 2 Axes>"
      ]
     },
     "metadata": {
      "needs_background": "light"
     },
     "output_type": "display_data"
    }
   ],
   "source": [
    "plt.figure(figsize = (10,10))\n",
    "sns.heatmap(df_listing.corr())"
   ]
  },
  {
   "cell_type": "markdown",
   "metadata": {},
   "source": [
    "#### It is hard to make correleation between two different variables, because there are lot of variables in it"
   ]
  },
  {
   "cell_type": "code",
   "execution_count": 24,
   "metadata": {},
   "outputs": [
    {
     "data": {
      "text/plain": [
       "host_is_superhost\n",
       "f    173.604468\n",
       "t    176.434889\n",
       "Name: price, dtype: float64"
      ]
     },
     "execution_count": 24,
     "metadata": {},
     "output_type": "execute_result"
    }
   ],
   "source": [
    "df_listing.groupby(by=\"host_is_superhost\").mean()[\"price\"]"
   ]
  },
  {
   "cell_type": "code",
   "execution_count": 25,
   "metadata": {},
   "outputs": [],
   "source": [
    "is_superhost=df_listing[df_listing[\"host_is_superhost\"]=='t']\n",
    "is_superhost=is_superhost.reset_index()\n",
    "not_superhost=df_listing[df_listing[\"host_is_superhost\"]=='f']\n",
    "not_superhost=not_superhost.reset_index()"
   ]
  },
  {
   "cell_type": "markdown",
   "metadata": {},
   "source": [
    "#### converting host_response_rate into float type"
   ]
  },
  {
   "cell_type": "code",
   "execution_count": 26,
   "metadata": {},
   "outputs": [
    {
     "data": {
      "text/plain": [
       "0.14663310258023915"
      ]
     },
     "execution_count": 26,
     "metadata": {},
     "output_type": "execute_result"
    }
   ],
   "source": [
    "not_superhost[\"host_response_rate\"]=not_superhost[\"host_response_rate\"].str.replace('%','').astype(float)\n",
    "not_superhost[\"host_response_rate\"].isnull().sum()/len(not_superhost)"
   ]
  },
  {
   "cell_type": "code",
   "execution_count": 27,
   "metadata": {},
   "outputs": [
    {
     "data": {
      "text/plain": [
       "0.012285012285012284"
      ]
     },
     "execution_count": 27,
     "metadata": {},
     "output_type": "execute_result"
    }
   ],
   "source": [
    "is_superhost[\"host_response_rate\"]=is_superhost[\"host_response_rate\"].str.replace('%','').astype(float)\n",
    "is_superhost[\"host_response_rate\"].isnull().sum()/len(is_superhost)"
   ]
  },
  {
   "cell_type": "code",
   "execution_count": 28,
   "metadata": {},
   "outputs": [
    {
     "name": "stdout",
     "output_type": "stream",
     "text": [
      "minimun of response rate of super host is  70.0\n",
      "minimun of response rate of normal host is  0.0\n"
     ]
    }
   ],
   "source": [
    "x=is_superhost[\"host_response_rate\"].min()\n",
    "print(\"minimun of response rate of super host is \",x)\n",
    "x=not_superhost[\"host_response_rate\"].min()\n",
    "print(\"minimun of response rate of normal host is \",x)\n",
    "del x"
   ]
  },
  {
   "cell_type": "code",
   "execution_count": 29,
   "metadata": {},
   "outputs": [
    {
     "data": {
      "text/html": [
       "<div>\n",
       "<style scoped>\n",
       "    .dataframe tbody tr th:only-of-type {\n",
       "        vertical-align: middle;\n",
       "    }\n",
       "\n",
       "    .dataframe tbody tr th {\n",
       "        vertical-align: top;\n",
       "    }\n",
       "\n",
       "    .dataframe thead th {\n",
       "        text-align: right;\n",
       "    }\n",
       "</style>\n",
       "<table border=\"1\" class=\"dataframe\">\n",
       "  <thead>\n",
       "    <tr style=\"text-align: right;\">\n",
       "      <th></th>\n",
       "      <th>host_response_rate</th>\n",
       "      <th>response_count</th>\n",
       "    </tr>\n",
       "  </thead>\n",
       "  <tbody>\n",
       "    <tr>\n",
       "      <td>0</td>\n",
       "      <td>0.0</td>\n",
       "      <td>13</td>\n",
       "    </tr>\n",
       "    <tr>\n",
       "      <td>1</td>\n",
       "      <td>6.0</td>\n",
       "      <td>1</td>\n",
       "    </tr>\n",
       "    <tr>\n",
       "      <td>2</td>\n",
       "      <td>10.0</td>\n",
       "      <td>2</td>\n",
       "    </tr>\n",
       "    <tr>\n",
       "      <td>3</td>\n",
       "      <td>14.0</td>\n",
       "      <td>2</td>\n",
       "    </tr>\n",
       "    <tr>\n",
       "      <td>4</td>\n",
       "      <td>17.0</td>\n",
       "      <td>1</td>\n",
       "    </tr>\n",
       "  </tbody>\n",
       "</table>\n",
       "</div>"
      ],
      "text/plain": [
       "   host_response_rate  response_count\n",
       "0                 0.0              13\n",
       "1                 6.0               1\n",
       "2                10.0               2\n",
       "3                14.0               2\n",
       "4                17.0               1"
      ]
     },
     "execution_count": 29,
     "metadata": {},
     "output_type": "execute_result"
    }
   ],
   "source": [
    "x=not_superhost.groupby([\"host_response_rate\"]).agg({\"host_response_rate\":\"count\"})\n",
    "x.columns=[\"response_count\"]\n",
    "x=x.reset_index()\n",
    "x.head()"
   ]
  },
  {
   "cell_type": "code",
   "execution_count": 30,
   "metadata": {},
   "outputs": [
    {
     "data": {
      "image/png": "[encoded data removed]",
      "text/plain": [
       "<Figure size 1224x360 with 1 Axes>"
      ]
     },
     "metadata": {
      "needs_background": "light"
     },
     "output_type": "display_data"
    }
   ],
   "source": [
    "ax2 = x.plot(x='host_response_rate',\n",
    "                      y='response_count',kind='bar',rot=90,figsize=(17,5))\n",
    "del x"
   ]
  },
  {
   "cell_type": "markdown",
   "metadata": {},
   "source": [
    "### From the above analysis we understood that both super host and normal host repsonse rate is a left skewed graph, therefore for filling the missing values for the skewed distribution of host response rate the median is the proper imputing method, and more details regarding this fact can be found [here](https://statisticsbyjim.com/basics/measures-central-tendency-mean-median-mode/)"
   ]
  },
  {
   "cell_type": "code",
   "execution_count": 31,
   "metadata": {},
   "outputs": [
    {
     "data": {
      "image/png": "[encoded data removed]",
      "text/plain": [
       "<Figure size 432x288 with 1 Axes>"
      ]
     },
     "metadata": {
      "needs_background": "light"
     },
     "output_type": "display_data"
    }
   ],
   "source": [
    "is_superhost[\"host_response_rate\"].fillna((is_superhost[[\"host_response_rate\"]].median()), inplace=True)\n",
    "x=is_superhost[\"host_response_rate\"]\n",
    "ax=x.plot.kde(ind=[0, 10, 20, 30, 40, 50, 60, 70, 80, 90, 100])\n",
    "plt.xlabel(\"Super host response rate\", fontsize= 14)\n",
    "plt.ylabel(\"Density\", fontsize= 14)\n",
    "plt.title(\"Density function of Super host response rate\", fontsize=16)\n",
    "plt.savefig('Density_superhost.png', dpi=400, bbox_inches='tight')\n",
    "del x"
   ]
  },
  {
   "cell_type": "code",
   "execution_count": 32,
   "metadata": {},
   "outputs": [
    {
     "data": {
      "image/png": "[encoded data removed]",
      "text/plain": [
       "<Figure size 432x288 with 1 Axes>"
      ]
     },
     "metadata": {
      "needs_background": "light"
     },
     "output_type": "display_data"
    }
   ],
   "source": [
    "not_superhost[\"host_response_rate\"].fillna((not_superhost[[\"host_response_rate\"]].median()), inplace=True)\n",
    "x=not_superhost[[\"host_response_rate\"]]\n",
    "ax=x.plot.kde(ind=[0, 10, 20, 30, 40, 50, 60, 70, 80, 90, 100])\n",
    "plt.xlabel(\"Normal host response rate\", fontsize= 14)\n",
    "plt.ylabel(\"Density\", fontsize= 14)\n",
    "plt.title(\"Density function of Normal host response rate\", fontsize=16)\n",
    "plt.savefig('Density_normalhost.png', dpi=400, bbox_inches='tight')\n",
    "del x;"
   ]
  },
  {
   "cell_type": "markdown",
   "metadata": {},
   "source": [
    "#### The above results show that is response rate is high for superhost\n",
    "\n",
    "### Now we are goin through the reviews comparision between host and superhost"
   ]
  },
  {
   "cell_type": "code",
   "execution_count": 33,
   "metadata": {},
   "outputs": [
    {
     "data": {
      "text/plain": [
       "review_scores_rating           0.031941\n",
       "review_scores_cleanliness      0.031941\n",
       "review_scores_checkin          0.031941\n",
       "review_scores_communication    0.031941\n",
       "review_scores_location         0.031941\n",
       "review_scores_value            0.031941\n",
       "dtype: float64"
      ]
     },
     "execution_count": 33,
     "metadata": {},
     "output_type": "execute_result"
    }
   ],
   "source": [
    "is_superhost[[\"review_scores_rating\",\"review_scores_cleanliness\",\n",
    "                           \"review_scores_checkin\",\"review_scores_communication\",\"review_scores_location\",\n",
    "                          \"review_scores_value\"]].isnull().sum()/len(is_superhost)"
   ]
  },
  {
   "cell_type": "code",
   "execution_count": 34,
   "metadata": {},
   "outputs": [
    {
     "data": {
      "text/plain": [
       "review_scores_rating           0.251731\n",
       "review_scores_cleanliness      0.253304\n",
       "review_scores_checkin          0.253933\n",
       "review_scores_communication    0.253304\n",
       "review_scores_location         0.254563\n",
       "review_scores_value            0.254248\n",
       "dtype: float64"
      ]
     },
     "execution_count": 34,
     "metadata": {},
     "output_type": "execute_result"
    }
   ],
   "source": [
    "not_superhost[[\"review_scores_rating\",\"review_scores_cleanliness\",\n",
    "                           \"review_scores_checkin\",\"review_scores_communication\",\"review_scores_location\",\n",
    "                          \"review_scores_value\"]].isnull().sum()/len(not_superhost)"
   ]
  },
  {
   "cell_type": "code",
   "execution_count": null,
   "metadata": {},
   "outputs": [],
   "source": [
    "plt.figure(figsize = (7,7))\n",
    "ax=sns.heatmap(is_superhost[[\"review_scores_rating\",\"review_scores_cleanliness\",\n",
    "                           \"review_scores_checkin\",\"review_scores_communication\",\"review_scores_location\",\n",
    "                          \"review_scores_value\"]].corr(),annot=True)\n",
    "plt.title(\"Super host\", fontsize=16)\n",
    "plt.savefig('Correleation_map_superhost.png', dpi=400, bbox_inches='tight')"
   ]
  },
  {
   "cell_type": "code",
   "execution_count": null,
   "metadata": {},
   "outputs": [],
   "source": [
    "plt.figure(figsize = (7,7))\n",
    "sns.heatmap(not_superhost[[\"review_scores_rating\",\"review_scores_cleanliness\",\n",
    "                           \"review_scores_checkin\",\"review_scores_communication\",\"review_scores_location\",\n",
    "                          \"review_scores_value\"]].corr(),annot=True)\n",
    "plt.title(\"Normal host\", fontsize=16)\n",
    "plt.savefig('Correleation_map_normalhost.png', dpi=400, bbox_inches='tight')"
   ]
  },
  {
   "cell_type": "markdown",
   "metadata": {},
   "source": [
    "#### From the above correleation maps we come to know that review_scores_rating has higher correleation review_score_cleanliness, particularly in the case non-superhost\n",
    "### Now we are goin through the pricing comparision between host and superhost"
   ]
  },
  {
   "cell_type": "code",
   "execution_count": null,
   "metadata": {},
   "outputs": [],
   "source": [
    "plt.figure(figsize = (5,5))\n",
    "sns.heatmap(is_superhost[[\"price\",\"security_deposit\",\"cleaning_fee\",\"extra_people\"]].corr(),\n",
    "            annot=True)\n",
    "plt.title(\"Superhost\", fontsize=16)\n",
    "plt.savefig('Correleation_map_price_superhost.png', dpi=400, bbox_inches='tight')"
   ]
  },
  {
   "cell_type": "code",
   "execution_count": null,
   "metadata": {},
   "outputs": [],
   "source": [
    "is_superhost[[\"price\",\"security_deposit\",\"cleaning_fee\",\"extra_people\"]].mean()"
   ]
  },
  {
   "cell_type": "code",
   "execution_count": null,
   "metadata": {},
   "outputs": [],
   "source": [
    "plt.figure(figsize = (5,5))\n",
    "sns.heatmap(not_superhost[[\"price\",\"security_deposit\",\"cleaning_fee\",\"extra_people\"]].corr(),\n",
    "            annot=True)\n",
    "plt.title(\"Normal host\", fontsize=16)\n",
    "plt.savefig('Correleation_map_price_normal.png', dpi=400, bbox_inches='tight')"
   ]
  },
  {
   "cell_type": "code",
   "execution_count": null,
   "metadata": {},
   "outputs": [],
   "source": [
    "not_superhost[[\"price\",\"security_deposit\",\"cleaning_fee\",\"extra_people\"]].mean()"
   ]
  },
  {
   "cell_type": "code",
   "execution_count": null,
   "metadata": {},
   "outputs": [],
   "source": [
    "x = is_superhost[[\"review_scores_cleanliness\",\n",
    "                           \"review_scores_checkin\",\"review_scores_communication\",\"review_scores_location\",\n",
    "                          \"review_scores_value\"]].mean()\n",
    "x.name=\"average\"\n",
    "print(x)\n",
    "ax=x.plot(kind='bar')\n",
    "plt.ylabel(\"Average rating\",fontsize=16)\n",
    "plt.ylim(9.5, 10)\n",
    "plt.title(\"Super host\",fontsize=18)\n",
    "plt.savefig('Average_rating_super_host.png', dpi=400, bbox_inches='tight')"
   ]
  },
  {
   "cell_type": "code",
   "execution_count": null,
   "metadata": {},
   "outputs": [],
   "source": [
    "x = not_superhost[[\"review_scores_cleanliness\",\n",
    "                           \"review_scores_checkin\",\"review_scores_communication\",\"review_scores_location\",\n",
    "                          \"review_scores_value\"]].mean()\n",
    "x.name=\"average\"\n",
    "print(x)\n",
    "ax=x.plot(kind='bar')\n",
    "plt.ylabel(\"Average rating\",fontsize=16)\n",
    "plt.ylim(9, 10)\n",
    "plt.title(\"Normal host\",fontsize=18)\n",
    "plt.savefig('Average_rating_normal_host.png', dpi=400, bbox_inches='tight')"
   ]
  },
  {
   "cell_type": "markdown",
   "metadata": {},
   "source": [
    "## Finally, we delve into our last question,\n",
    "- _What time of the year people usually vists Boston, USA_ ?"
   ]
  },
  {
   "cell_type": "code",
   "execution_count": null,
   "metadata": {},
   "outputs": [],
   "source": [
    "df_calendar=pd.read_csv(\"./calendar.csv\",parse_dates=[\"date\"])\n",
    "print(df_calendar.date.dtype)\n",
    "df_calendar.head()"
   ]
  },
  {
   "cell_type": "code",
   "execution_count": null,
   "metadata": {},
   "outputs": [],
   "source": [
    "df_calendar=df_calendar.drop([\"price\"],axis=1)\n",
    "df_calendar.head()"
   ]
  },
  {
   "cell_type": "code",
   "execution_count": null,
   "metadata": {},
   "outputs": [],
   "source": [
    "df_calendar=df_calendar.groupby([\"date\",\"available\"]).agg({\"available\":\"count\"})\n",
    "df_calendar.columns=[\"avail_count\"]\n",
    "df_calendar=df_calendar.reset_index()\n",
    "print(df_calendar.head())\n",
    "# Here we are only considering the reserved (booked) rooms\n",
    "df_calendar=df_calendar[df_calendar[\"available\"]==\"f\"]\n",
    "df_calendar.head()"
   ]
  },
  {
   "cell_type": "code",
   "execution_count": null,
   "metadata": {},
   "outputs": [],
   "source": [
    "df_calendar.isnull().sum()"
   ]
  },
  {
   "cell_type": "code",
   "execution_count": null,
   "metadata": {},
   "outputs": [],
   "source": [
    "plt.figure(figsize = (17,5))\n",
    "\n",
    "plt.plot_date(x=df_calendar[\"date\"], y=df_calendar[\"avail_count\"], fmt=\"r-\")\n",
    "plt.title(\"Time versus number of booked rooms\")\n",
    "plt.ylabel(\"Number of booked rooms\")\n",
    "plt.xlabel(\"Time series\")\n",
    "plt.grid(True)\n",
    "plt.savefig('Date_booked_rooms.png', dpi=400, bbox_inches='tight')\n",
    "plt.show()"
   ]
  },
  {
   "cell_type": "markdown",
   "metadata": {},
   "source": [
    "#### The analysis of the above graph is given in more detail in my Medium post"
   ]
  },
  {
   "cell_type": "code",
   "execution_count": null,
   "metadata": {},
   "outputs": [],
   "source": []
  }
 ],
 "metadata": {
  "kernelspec": {
   "display_name": "Python 3",
   "language": "python",
   "name": "python3"
  },
  "language_info": {
   "codemirror_mode": {
    "name": "ipython",
    "version": 3
   },
   "file_extension": ".py",
   "mimetype": "text/x-python",
   "name": "python",
   "nbconvert_exporter": "python",
   "pygments_lexer": "ipython3",
   "version": "3.7.3"
  },
  "widgets": {
   "application/vnd.jupyter.widget-state+json": {
    "state": {
     "26731467235f4b6693566559768e4953": {
      "model_module": "@jupyter-widgets/base",
      "model_module_version": "1.2.0",
      "model_name": "LayoutModel",
      "state": {}
     },
     "757811bfc3ab42ca93e30b407bf649f3": {
      "model_module": "keplergl-jupyter",
      "model_module_version": "^0.2.1",
      "model_name": "KeplerGlModal",
      "state": {
       "_model_module_version": "^0.2.1",
       "_view_module_version": "^0.2.1",
       "config": {
        "config": {
         "mapState": {
          "bearing": 0,
          "dragRotate": false,
          "isSplit": false,
          "latitude": 42.31312111954167,
          "longitude": -71.08612220358192,
          "pitch": 0,
          "zoom": 10.613026483715771
         },
         "mapStyle": {
          "mapStyles": {},
          "styleType": "satellite",
          "threeDBuildingColor": [
           3.7245996603793508,
           6.518049405663864,
           13.036098811327728
          ],
          "topLayerGroups": {},
          "visibleLayerGroups": {}
         },
         "visState": {
          "animationConfig": {
           "currentTime": null,
           "speed": 1
          },
          "filters": [],
          "interactionConfig": {
           "brush": {
            "enabled": false,
            "size": 0.5
           },
           "coordinate": {
            "enabled": false
           },
           "geocoder": {
            "enabled": false
           },
           "tooltip": {
            "compareMode": false,
            "compareType": "absolute",
            "enabled": true,
            "fieldsToShow": {
             "map_boston": [
              {
               "format": null,
               "name": "neighbourhood"
              },
              {
               "format": null,
               "name": "neighbor_count"
              }
             ]
            }
           }
          },
          "layerBlending": "normal",
          "layers": [
           {
            "config": {
             "color": [
              18,
              147,
              154
             ],
             "columns": {
              "lat": "latitude",
              "lng": "longitude"
             },
             "dataId": "map_boston",
             "hidden": false,
             "isVisible": true,
             "label": "Point",
             "textLabel": [
              {
               "alignment": "center",
               "anchor": "start",
               "color": [
                255,
                255,
                255
               ],
               "field": null,
               "offset": [
                0,
                0
               ],
               "size": 18
              }
             ],
             "visConfig": {
              "colorRange": {
               "category": "Uber",
               "colors": [
                "#5A1846",
                "#900C3F",
                "#C70039",
                "#E3611C",
                "#F1920E",
                "#FFC300"
               ],
               "name": "Global Warming",
               "type": "sequential"
              },
              "opacity": 0.8,
              "radius": 8
             }
            },
            "id": "rbt42z",
            "type": "heatmap",
            "visualChannels": {
             "weightField": null,
             "weightScale": "linear"
            }
           }
          ],
          "splitMaps": []
         }
        },
        "version": "v1"
       },
       "data": {
        "map_boston": {
         "columns": [
          "neighbourhood",
          "latitude",
          "longitude",
          "neighbor_count"
         ],
         "data": [
          [
           "Allston-Brighton",
           42.33588716697631,
           -71.14895443052323,
           1
          ],
          [
           "Allston-Brighton",
           42.336894318161725,
           -71.1507904421603,
           1
          ],
          [
           "Allston-Brighton",
           42.33689823185859,
           -71.15018022581782,
           1
          ],
          [
           "Allston-Brighton",
           42.33717041572977,
           -71.14965431332847,
           1
          ],
          [
           "Allston-Brighton",
           42.33718955561893,
           -71.15143736746808,
           1
          ],
          [
           "Allston-Brighton",
           42.33722882514028,
           -71.1514331530688,
           1
          ],
          [
           "Allston-Brighton",
           42.33758198746629,
           -71.15029962022373,
           1
          ],
          [
           "Allston-Brighton",
           42.33789228304368,
           -71.15631497071931,
           1
          ],
          [
           "Allston-Brighton",
           42.33829806692533,
           -71.15412329864637,
           1
          ],
          [
           "Allston-Brighton",
           42.338494212364466,
           -71.15534373669092,
           1
          ],
          [
           "Allston-Brighton",
           42.338515129250105,
           -71.1524077339656,
           1
          ],
          [
           "Allston-Brighton",
           42.338672074805935,
           -71.15702914937529,
           1
          ],
          [
           "Allston-Brighton",
           42.33879655229843,
           -71.14797600851912,
           1
          ],
          [
           "Allston-Brighton",
           42.33881929113953,
           -71.14803889393359,
           1
          ],
          [
           "Allston-Brighton",
           42.339090365245816,
           -71.15346249840326,
           1
          ],
          [
           "Allston-Brighton",
           42.33925093087387,
           -71.15959684318335,
           1
          ],
          [
           "Allston-Brighton",
           42.339392662865464,
           -71.14691828341799,
           1
          ],
          [
           "Allston-Brighton",
           42.33974883982183,
           -71.15094387267645,
           1
          ],
          [
           "Allston-Brighton",
           42.3399832041504,
           -71.15504853240198,
           1
          ],
          [
           "Allston-Brighton",
           42.33999633002245,
           -71.15351639352615,
           1
          ],
          [
           "Allston-Brighton",
           42.340010587465,
           -71.15542632945095,
           1
          ],
          [
           "Allston-Brighton",
           42.34011034856118,
           -71.14959062971751,
           1
          ],
          [
           "Allston-Brighton",
           42.3401309941684,
           -71.15834331601809,
           1
          ],
          [
           "Allston-Brighton",
           42.34014735666771,
           -71.14800087081292,
           1
          ],
          [
           "Allston-Brighton",
           42.34027979585835,
           -71.14327377372726,
           1
          ],
          [
           "Allston-Brighton",
           42.34029639034158,
           -71.15078825545704,
           1
          ],
          [
           "Allston-Brighton",
           42.34031439369014,
           -71.1449623111007,
           1
          ],
          [
           "Allston-Brighton",
           42.340332134369575,
           -71.15130495126171,
           1
          ],
          [
           "Allston-Brighton",
           42.34054213223037,
           -71.14671037647113,
           1
          ],
          [
           "Allston-Brighton",
           42.340571454068254,
           -71.151304610783,
           1
          ],
          [
           "Allston-Brighton",
           42.34064074628533,
           -71.15135644840727,
           1
          ],
          [
           "Allston-Brighton",
           42.34078722591221,
           -71.15366856690126,
           1
          ],
          [
           "Allston-Brighton",
           42.34088038224639,
           -71.14615876475263,
           1
          ],
          [
           "Allston-Brighton",
           42.34099873400789,
           -71.15994489630906,
           1
          ],
          [
           "Allston-Brighton",
           42.34106535359011,
           -71.15362521108494,
           1
          ],
          [
           "Allston-Brighton",
           42.34108933388485,
           -71.14633887252774,
           1
          ],
          [
           "Allston-Brighton",
           42.34112889897258,
           -71.14256187191944,
           1
          ],
          [
           "Allston-Brighton",
           42.34113081958153,
           -71.15979540402337,
           1
          ],
          [
           "Allston-Brighton",
           42.34126052063228,
           -71.15717343397297,
           1
          ],
          [
           "Allston-Brighton",
           42.34127612363598,
           -71.14638192985045,
           1
          ],
          [
           "Allston-Brighton",
           42.341359989845756,
           -71.14634379027316,
           1
          ],
          [
           "Allston-Brighton",
           42.3414054603102,
           -71.14994272534629,
           1
          ],
          [
           "Allston-Brighton",
           42.34151874110518,
           -71.14917642884372,
           1
          ],
          [
           "Allston-Brighton",
           42.34162149566071,
           -71.16701164926793,
           1
          ],
          [
           "Allston-Brighton",
           42.34171325284522,
           -71.14851195688931,
           1
          ],
          [
           "Allston-Brighton",
           42.34205904616325,
           -71.14395770430008,
           1
          ],
          [
           "Allston-Brighton",
           42.34212024818674,
           -71.1543926029886,
           1
          ],
          [
           "Allston-Brighton",
           42.34217373406151,
           -71.15293746921054,
           1
          ],
          [
           "Allston-Brighton",
           42.34221664723085,
           -71.14681130247415,
           1
          ],
          [
           "Allston-Brighton",
           42.34228685267564,
           -71.1551568757217,
           1
          ],
          [
           "Allston-Brighton",
           42.342416641976854,
           -71.14260046141861,
           1
          ],
          [
           "Allston-Brighton",
           42.343102940923366,
           -71.14985562924973,
           1
          ],
          [
           "Allston-Brighton",
           42.343327733698025,
           -71.1436268273382,
           1
          ],
          [
           "Allston-Brighton",
           42.34365612637672,
           -71.14689232059071,
           1
          ],
          [
           "Allston-Brighton",
           42.34379756233822,
           -71.15630479773084,
           1
          ],
          [
           "Allston-Brighton",
           42.34401439621053,
           -71.16894572376118,
           1
          ],
          [
           "Allston-Brighton",
           42.34424342355413,
           -71.15545336037981,
           1
          ],
          [
           "Allston-Brighton",
           42.344361199299534,
           -71.16707734149641,
           1
          ],
          [
           "Allston-Brighton",
           42.34438211174568,
           -71.16745949096205,
           1
          ],
          [
           "Allston-Brighton",
           42.344549996122964,
           -71.14500419479042,
           1
          ],
          [
           "Allston-Brighton",
           42.34472176917318,
           -71.14249483027079,
           1
          ],
          [
           "Allston-Brighton",
           42.34482360730596,
           -71.14139237613844,
           1
          ],
          [
           "Allston-Brighton",
           42.34482860169046,
           -71.13673350316112,
           1
          ],
          [
           "Allston-Brighton",
           42.3450200309596,
           -71.16814210836499,
           1
          ],
          [
           "Allston-Brighton",
           42.34505681510233,
           -71.13753461079641,
           1
          ],
          [
           "Allston-Brighton",
           42.34515785650861,
           -71.13659655882194,
           1
          ],
          [
           "Allston-Brighton",
           42.34528024327052,
           -71.1477012036146,
           1
          ],
          [
           "Allston-Brighton",
           42.345365985938564,
           -71.13987117789421,
           1
          ],
          [
           "Allston-Brighton",
           42.34538321298349,
           -71.13764336947422,
           1
          ],
          [
           "Allston-Brighton",
           42.345490392503976,
           -71.14081439500809,
           1
          ],
          [
           "Allston-Brighton",
           42.34553886772128,
           -71.13819016918848,
           1
          ],
          [
           "Allston-Brighton",
           42.34555339138632,
           -71.13660701547623,
           1
          ],
          [
           "Allston-Brighton",
           42.34566830800284,
           -71.13921858090492,
           1
          ],
          [
           "Allston-Brighton",
           42.34595464922923,
           -71.15275051264068,
           1
          ],
          [
           "Allston-Brighton",
           42.34598536891886,
           -71.13639659272495,
           1
          ],
          [
           "Allston-Brighton",
           42.34612242176923,
           -71.1518798956065,
           1
          ],
          [
           "Allston-Brighton",
           42.34614526787829,
           -71.1412565615727,
           1
          ],
          [
           "Allston-Brighton",
           42.34641385887015,
           -71.1373730844152,
           1
          ],
          [
           "Allston-Brighton",
           42.34645247323235,
           -71.13489574341412,
           1
          ],
          [
           "Allston-Brighton",
           42.34648098163572,
           -71.13848571540693,
           1
          ],
          [
           "Allston-Brighton",
           42.346806860680616,
           -71.13743089830942,
           1
          ],
          [
           "Allston-Brighton",
           42.34701863091083,
           -71.1464828101517,
           1
          ],
          [
           "Allston-Brighton",
           42.34706793241136,
           -71.13520913828836,
           1
          ],
          [
           "Allston-Brighton",
           42.347205670289455,
           -71.13433882349693,
           1
          ],
          [
           "Allston-Brighton",
           42.34735545038724,
           -71.13738685849842,
           1
          ],
          [
           "Allston-Brighton",
           42.34736893506985,
           -71.13824563728667,
           1
          ],
          [
           "Allston-Brighton",
           42.34737835201244,
           -71.13722682457094,
           1
          ],
          [
           "Allston-Brighton",
           42.34741609690839,
           -71.16731949128881,
           1
          ],
          [
           "Allston-Brighton",
           42.34763753472381,
           -71.13235921935194,
           1
          ],
          [
           "Allston-Brighton",
           42.34771383056896,
           -71.15539709952432,
           1
          ],
          [
           "Allston-Brighton",
           42.34772206964164,
           -71.13355036077327,
           1
          ],
          [
           "Allston-Brighton",
           42.347722118609,
           -71.13526354817758,
           1
          ],
          [
           "Allston-Brighton",
           42.347726006033604,
           -71.16658340254278,
           1
          ],
          [
           "Allston-Brighton",
           42.34774608970789,
           -71.13870237274399,
           1
          ],
          [
           "Allston-Brighton",
           42.347846494168095,
           -71.13559859547793,
           1
          ],
          [
           "Allston-Brighton",
           42.347955589202364,
           -71.15519609920945,
           1
          ],
          [
           "Allston-Brighton",
           42.34798839891038,
           -71.13939137582845,
           1
          ],
          [
           "Allston-Brighton",
           42.34802552722878,
           -71.13730591137174,
           1
          ],
          [
           "Allston-Brighton",
           42.34804797691153,
           -71.1414951889217,
           1
          ],
          [
           "Allston-Brighton",
           42.34805570962588,
           -71.13905558822462,
           1
          ],
          [
           "Allston-Brighton",
           42.34805623113406,
           -71.1333831316948,
           1
          ],
          [
           "Allston-Brighton",
           42.348074651980546,
           -71.13538817149717,
           1
          ],
          [
           "Allston-Brighton",
           42.348115389246566,
           -71.1392286536277,
           1
          ],
          [
           "Allston-Brighton",
           42.34820037204312,
           -71.13914025779506,
           1
          ],
          [
           "Allston-Brighton",
           42.348325931195504,
           -71.13613371218099,
           1
          ],
          [
           "Allston-Brighton",
           42.34839562033394,
           -71.13319099326112,
           1
          ],
          [
           "Allston-Brighton",
           42.34839859005365,
           -71.15696250309374,
           1
          ],
          [
           "Allston-Brighton",
           42.34848106128299,
           -71.13623582342883,
           1
          ],
          [
           "Allston-Brighton",
           42.348492891383216,
           -71.1690072767917,
           1
          ],
          [
           "Allston-Brighton",
           42.34851178204431,
           -71.16796812989959,
           1
          ],
          [
           "Allston-Brighton",
           42.34857517008484,
           -71.15871820909503,
           1
          ],
          [
           "Allston-Brighton",
           42.3486362332981,
           -71.14064758380056,
           1
          ],
          [
           "Allston-Brighton",
           42.34869537133585,
           -71.13325088022417,
           1
          ],
          [
           "Allston-Brighton",
           42.34871296059264,
           -71.13803295228391,
           1
          ],
          [
           "Allston-Brighton",
           42.348770519416135,
           -71.13343778707025,
           1
          ],
          [
           "Allston-Brighton",
           42.34877625118745,
           -71.13132203201167,
           1
          ],
          [
           "Allston-Brighton",
           42.34893114082529,
           -71.13788529734377,
           1
          ],
          [
           "Allston-Brighton",
           42.34901654982248,
           -71.13615119608934,
           1
          ],
          [
           "Allston-Brighton",
           42.34907817058224,
           -71.15260510699403,
           1
          ],
          [
           "Allston-Brighton",
           42.34908408466665,
           -71.13689600712105,
           1
          ],
          [
           "Allston-Brighton",
           42.34909986741747,
           -71.13098673014788,
           1
          ],
          [
           "Allston-Brighton",
           42.34916138634477,
           -71.16347986851599,
           1
          ],
          [
           "Allston-Brighton",
           42.34919131537339,
           -71.1294456634807,
           1
          ],
          [
           "Allston-Brighton",
           42.34923036032304,
           -71.12990007244908,
           1
          ],
          [
           "Allston-Brighton",
           42.34927683256522,
           -71.13074080882659,
           1
          ],
          [
           "Allston-Brighton",
           42.34930500953229,
           -71.12990336612322,
           1
          ],
          [
           "Allston-Brighton",
           42.349342483290464,
           -71.12908093453365,
           1
          ],
          [
           "Allston-Brighton",
           42.34936146297198,
           -71.13515064787317,
           1
          ],
          [
           "Allston-Brighton",
           42.34941460299111,
           -71.15642508923347,
           1
          ],
          [
           "Allston-Brighton",
           42.349420167886755,
           -71.1400810039892,
           1
          ],
          [
           "Allston-Brighton",
           42.34942211837766,
           -71.12938809271583,
           1
          ],
          [
           "Allston-Brighton",
           42.3494460874786,
           -71.13080633700315,
           1
          ],
          [
           "Allston-Brighton",
           42.34951254083382,
           -71.13427352193531,
           1
          ],
          [
           "Allston-Brighton",
           42.34954020442542,
           -71.1311172738734,
           1
          ],
          [
           "Allston-Brighton",
           42.34955268268768,
           -71.12960869393241,
           1
          ],
          [
           "Allston-Brighton",
           42.34966996402407,
           -71.1304892729014,
           1
          ],
          [
           "Allston-Brighton",
           42.34967163043419,
           -71.13114440922539,
           1
          ],
          [
           "Allston-Brighton",
           42.34972172705107,
           -71.13111851100706,
           1
          ],
          [
           "Allston-Brighton",
           42.34977527729296,
           -71.170850306103,
           1
          ],
          [
           "Allston-Brighton",
           42.3498136615265,
           -71.13208534640165,
           1
          ],
          [
           "Allston-Brighton",
           42.349821034684794,
           -71.16097748811548,
           1
          ],
          [
           "Allston-Brighton",
           42.34985002797799,
           -71.1645131549831,
           1
          ],
          [
           "Allston-Brighton",
           42.34988640574164,
           -71.13085675537378,
           1
          ],
          [
           "Allston-Brighton",
           42.34989152821842,
           -71.14256570935595,
           1
          ],
          [
           "Allston-Brighton",
           42.34989452075197,
           -71.1299221016894,
           1
          ],
          [
           "Allston-Brighton",
           42.34998547277939,
           -71.14202092083926,
           1
          ],
          [
           "Allston-Brighton",
           42.34999922872795,
           -71.13325251178459,
           1
          ],
          [
           "Allston-Brighton",
           42.35003054156228,
           -71.12729131304908,
           1
          ],
          [
           "Allston-Brighton",
           42.35005815941149,
           -71.13925009140948,
           1
          ],
          [
           "Allston-Brighton",
           42.3500945508879,
           -71.13258852888467,
           1
          ],
          [
           "Allston-Brighton",
           42.35013328377472,
           -71.171468533443,
           1
          ],
          [
           "Allston-Brighton",
           42.35018807157599,
           -71.13249909636312,
           1
          ],
          [
           "Allston-Brighton",
           42.35019416811648,
           -71.1421516491063,
           1
          ],
          [
           "Allston-Brighton",
           42.35021722460032,
           -71.14352208628422,
           1
          ],
          [
           "Allston-Brighton",
           42.350264718566656,
           -71.12703309536381,
           1
          ],
          [
           "Allston-Brighton",
           42.350271281983964,
           -71.16941387387625,
           1
          ],
          [
           "Allston-Brighton",
           42.350293710898924,
           -71.14726363904428,
           1
          ],
          [
           "Allston-Brighton",
           42.35046781948143,
           -71.13581038642003,
           1
          ],
          [
           "Allston-Brighton",
           42.35049293318264,
           -71.13328056855369,
           1
          ],
          [
           "Allston-Brighton",
           42.35053057087894,
           -71.12820936635137,
           1
          ],
          [
           "Allston-Brighton",
           42.35056521108992,
           -71.16248320161985,
           1
          ],
          [
           "Allston-Brighton",
           42.35057715661294,
           -71.16393919577621,
           1
          ],
          [
           "Allston-Brighton",
           42.35060159207441,
           -71.15926433633351,
           1
          ],
          [
           "Allston-Brighton",
           42.35065647108612,
           -71.13997201251834,
           1
          ],
          [
           "Allston-Brighton",
           42.35070452315665,
           -71.1260601956128,
           1
          ],
          [
           "Allston-Brighton",
           42.35073175722308,
           -71.12771611318988,
           1
          ],
          [
           "Allston-Brighton",
           42.35074236848616,
           -71.16995307103547,
           1
          ],
          [
           "Allston-Brighton",
           42.35075578295176,
           -71.12870645433884,
           1
          ],
          [
           "Allston-Brighton",
           42.35082994179695,
           -71.1641055755412,
           1
          ],
          [
           "Allston-Brighton",
           42.35086692335783,
           -71.12917517845777,
           1
          ],
          [
           "Allston-Brighton",
           42.350922040549946,
           -71.12768196478088,
           1
          ],
          [
           "Allston-Brighton",
           42.35103627005153,
           -71.12801698606269,
           1
          ],
          [
           "Allston-Brighton",
           42.351052318617995,
           -71.13383600343128,
           1
          ],
          [
           "Allston-Brighton",
           42.35107294545191,
           -71.12679921746106,
           1
          ],
          [
           "Allston-Brighton",
           42.351114421246926,
           -71.17045210824726,
           1
          ],
          [
           "Allston-Brighton",
           42.35122488041426,
           -71.13161808935436,
           1
          ],
          [
           "Allston-Brighton",
           42.35126875950941,
           -71.14888344909197,
           1
          ],
          [
           "Allston-Brighton",
           42.35135163208109,
           -71.16858777360264,
           1
          ],
          [
           "Allston-Brighton",
           42.3513614540841,
           -71.12615238537656,
           1
          ],
          [
           "Allston-Brighton",
           42.35136743395033,
           -71.13299116108895,
           1
          ],
          [
           "Allston-Brighton",
           42.35143023584929,
           -71.12604073475765,
           1
          ],
          [
           "Allston-Brighton",
           42.35145625199263,
           -71.12634005954234,
           1
          ],
          [
           "Allston-Brighton",
           42.35153184332368,
           -71.1250087633012,
           1
          ],
          [
           "Allston-Brighton",
           42.351545709155154,
           -71.12558205269595,
           1
          ],
          [
           "Allston-Brighton",
           42.35156937370638,
           -71.13164991891409,
           1
          ],
          [
           "Allston-Brighton",
           42.351589313682965,
           -71.13346641408326,
           1
          ],
          [
           "Allston-Brighton",
           42.35159256998726,
           -71.1442112883861,
           1
          ],
          [
           "Allston-Brighton",
           42.35160285670509,
           -71.12651350020549,
           1
          ],
          [
           "Allston-Brighton",
           42.351687613094605,
           -71.13383981344633,
           1
          ],
          [
           "Allston-Brighton",
           42.35172557572753,
           -71.12104523832988,
           1
          ],
          [
           "Allston-Brighton",
           42.35179203125133,
           -71.12690081699625,
           1
          ],
          [
           "Allston-Brighton",
           42.35189564844315,
           -71.12958035736928,
           1
          ],
          [
           "Allston-Brighton",
           42.35191983848069,
           -71.13301243492488,
           1
          ],
          [
           "Allston-Brighton",
           42.35192949192535,
           -71.14205607147838,
           1
          ],
          [
           "Allston-Brighton",
           42.351959240944154,
           -71.1206430514588,
           1
          ],
          [
           "Allston-Brighton",
           42.35201383361056,
           -71.14047181121047,
           1
          ],
          [
           "Allston-Brighton",
           42.35208077328276,
           -71.13599057398088,
           1
          ],
          [
           "Allston-Brighton",
           42.352114106880926,
           -71.12959064900406,
           1
          ],
          [
           "Allston-Brighton",
           42.35216083792811,
           -71.12938189286888,
           1
          ],
          [
           "Allston-Brighton",
           42.3521916193394,
           -71.12261440974365,
           1
          ],
          [
           "Allston-Brighton",
           42.352194902478224,
           -71.12595064236262,
           1
          ],
          [
           "Allston-Brighton",
           42.352199888223524,
           -71.1344273715225,
           1
          ],
          [
           "Allston-Brighton",
           42.35231133439073,
           -71.13655217244086,
           1
          ],
          [
           "Allston-Brighton",
           42.352445452254116,
           -71.13715110749888,
           1
          ],
          [
           "Allston-Brighton",
           42.352566586828324,
           -71.12539767611463,
           1
          ],
          [
           "Allston-Brighton",
           42.352572976732944,
           -71.15056520109587,
           1
          ],
          [
           "Allston-Brighton",
           42.35266232919279,
           -71.1262483473859,
           1
          ],
          [
           "Allston-Brighton",
           42.3526726640971,
           -71.12718862016966,
           1
          ],
          [
           "Allston-Brighton",
           42.352683672246144,
           -71.12124797327608,
           1
          ],
          [
           "Allston-Brighton",
           42.352724933744454,
           -71.16881965750625,
           1
          ],
          [
           "Allston-Brighton",
           42.35272546427615,
           -71.12065085169205,
           1
          ],
          [
           "Allston-Brighton",
           42.35276204015237,
           -71.12726941836672,
           1
          ],
          [
           "Allston-Brighton",
           42.35280564501706,
           -71.12398135726829,
           1
          ],
          [
           "Allston-Brighton",
           42.35283178161134,
           -71.13295586895973,
           1
          ],
          [
           "Allston-Brighton",
           42.352842135959506,
           -71.12815277256124,
           1
          ],
          [
           "Allston-Brighton",
           42.352867697304674,
           -71.13933816967321,
           1
          ],
          [
           "Allston-Brighton",
           42.35287968493279,
           -71.1251194257534,
           1
          ],
          [
           "Allston-Brighton",
           42.352881212137795,
           -71.15818307105951,
           1
          ],
          [
           "Allston-Brighton",
           42.352935288175466,
           -71.12771394006761,
           1
          ],
          [
           "Allston-Brighton",
           42.352945787708016,
           -71.12187297544675,
           1
          ],
          [
           "Allston-Brighton",
           42.35303314210909,
           -71.13159940798838,
           1
          ],
          [
           "Allston-Brighton",
           42.353078816359975,
           -71.12640357261597,
           1
          ],
          [
           "Allston-Brighton",
           42.35316229713632,
           -71.12650086102738,
           1
          ],
          [
           "Allston-Brighton",
           42.35325032658771,
           -71.12957884634393,
           1
          ],
          [
           "Allston-Brighton",
           42.353344419809424,
           -71.12693351553787,
           1
          ],
          [
           "Allston-Brighton",
           42.353359183082155,
           -71.13034354292151,
           1
          ],
          [
           "Allston-Brighton",
           42.35338920079029,
           -71.126556022032,
           1
          ],
          [
           "Allston-Brighton",
           42.35339780167063,
           -71.14235466242799,
           1
          ],
          [
           "Allston-Brighton",
           42.35340079356615,
           -71.16644597999972,
           1
          ],
          [
           "Allston-Brighton",
           42.35344916645469,
           -71.13179683452269,
           1
          ],
          [
           "Allston-Brighton",
           42.35346124444336,
           -71.13266223160508,
           1
          ],
          [
           "Allston-Brighton",
           42.35349154423057,
           -71.16255660516158,
           1
          ],
          [
           "Allston-Brighton",
           42.3535357608676,
           -71.14414621337474,
           1
          ],
          [
           "Allston-Brighton",
           42.35358003604817,
           -71.12786863577439,
           1
          ],
          [
           "Allston-Brighton",
           42.35365396271907,
           -71.14827415262265,
           1
          ],
          [
           "Allston-Brighton",
           42.35368862936061,
           -71.14154539533905,
           1
          ],
          [
           "Allston-Brighton",
           42.353730114965074,
           -71.16107243312364,
           1
          ],
          [
           "Allston-Brighton",
           42.353839520145456,
           -71.16794708942089,
           1
          ],
          [
           "Allston-Brighton",
           42.35385193794485,
           -71.12209681221768,
           1
          ],
          [
           "Allston-Brighton",
           42.35389221103398,
           -71.15954400902984,
           1
          ],
          [
           "Allston-Brighton",
           42.3539943450268,
           -71.14661544788838,
           1
          ],
          [
           "Allston-Brighton",
           42.35405674490555,
           -71.12737268438966,
           1
          ],
          [
           "Allston-Brighton",
           42.35412285944836,
           -71.1304857316918,
           1
          ],
          [
           "Allston-Brighton",
           42.35417082432304,
           -71.12753883536548,
           1
          ],
          [
           "Allston-Brighton",
           42.35417693143646,
           -71.1326162028498,
           1
          ],
          [
           "Allston-Brighton",
           42.35422819016895,
           -71.12701636199365,
           1
          ],
          [
           "Allston-Brighton",
           42.354253656825954,
           -71.1371532900762,
           1
          ],
          [
           "Allston-Brighton",
           42.354375697125505,
           -71.12548068679705,
           1
          ],
          [
           "Allston-Brighton",
           42.35438526508017,
           -71.1311801896186,
           1
          ],
          [
           "Allston-Brighton",
           42.35449350295057,
           -71.15457237752759,
           1
          ],
          [
           "Allston-Brighton",
           42.354509484390704,
           -71.12934350563087,
           1
          ],
          [
           "Allston-Brighton",
           42.35451644287794,
           -71.13961327676337,
           1
          ],
          [
           "Allston-Brighton",
           42.35452204280227,
           -71.13872848232197,
           1
          ],
          [
           "Allston-Brighton",
           42.35452544933531,
           -71.13657899368661,
           1
          ],
          [
           "Allston-Brighton",
           42.35457384301818,
           -71.15949263919991,
           1
          ],
          [
           "Allston-Brighton",
           42.35459579790608,
           -71.12811640300245,
           1
          ],
          [
           "Allston-Brighton",
           42.354659262987525,
           -71.12928642343341,
           1
          ],
          [
           "Allston-Brighton",
           42.35468892656869,
           -71.12760271501001,
           1
          ],
          [
           "Allston-Brighton",
           42.354787993602365,
           -71.13208846148751,
           1
          ],
          [
           "Allston-Brighton",
           42.354818856280296,
           -71.12599193778208,
           1
          ],
          [
           "Allston-Brighton",
           42.354886812034906,
           -71.13865334297633,
           1
          ],
          [
           "Allston-Brighton",
           42.35490971516949,
           -71.13806502190866,
           1
          ],
          [
           "Allston-Brighton",
           42.354976192352574,
           -71.12949326233621,
           1
          ],
          [
           "Allston-Brighton",
           42.35501678416424,
           -71.12759005765862,
           1
          ],
          [
           "Allston-Brighton",
           42.35502536449858,
           -71.13740266410173,
           1
          ],
          [
           "Allston-Brighton",
           42.35507101824252,
           -71.13262778120003,
           1
          ],
          [
           "Allston-Brighton",
           42.3550790298907,
           -71.13695878807253,
           1
          ],
          [
           "Allston-Brighton",
           42.355087971776655,
           -71.16241976458879,
           1
          ],
          [
           "Allston-Brighton",
           42.35514819423764,
           -71.13799960795815,
           1
          ],
          [
           "Allston-Brighton",
           42.35518988080188,
           -71.13798365643366,
           1
          ],
          [
           "Allston-Brighton",
           42.35524224515002,
           -71.13547457156938,
           1
          ],
          [
           "Allston-Brighton",
           42.355279802486244,
           -71.13449907260886,
           1
          ],
          [
           "Allston-Brighton",
           42.35534198237456,
           -71.13826509293719,
           1
          ],
          [
           "Allston-Brighton",
           42.35536688969624,
           -71.13735574278705,
           1
          ],
          [
           "Allston-Brighton",
           42.35540778924866,
           -71.13875386920864,
           1
          ],
          [
           "Allston-Brighton",
           42.35567962836822,
           -71.162144870875,
           1
          ],
          [
           "Allston-Brighton",
           42.35572890643184,
           -71.13072244801792,
           1
          ],
          [
           "Allston-Brighton",
           42.35585153546842,
           -71.12821635393415,
           1
          ],
          [
           "Allston-Brighton",
           42.356024509401614,
           -71.14814078719981,
           1
          ],
          [
           "Allston-Brighton",
           42.356025091988386,
           -71.13878860857865,
           1
          ],
          [
           "Allston-Brighton",
           42.35614366171549,
           -71.13712072817228,
           1
          ],
          [
           "Allston-Brighton",
           42.35617773113255,
           -71.13870502243529,
           1
          ],
          [
           "Allston-Brighton",
           42.35639291040471,
           -71.16396428401578,
           1
          ],
          [
           "Allston-Brighton",
           42.35645119358561,
           -71.13661022366645,
           1
          ],
          [
           "Allston-Brighton",
           42.35659961401221,
           -71.13718050963799,
           1
          ],
          [
           "Allston-Brighton",
           42.3566169433856,
           -71.13847571224116,
           1
          ],
          [
           "Allston-Brighton",
           42.3567553096765,
           -71.13745742822259,
           1
          ],
          [
           "Allston-Brighton",
           42.356860873789344,
           -71.13057789827434,
           1
          ],
          [
           "Allston-Brighton",
           42.357683179974586,
           -71.12936901023541,
           1
          ],
          [
           "Allston-Brighton",
           42.357694533580954,
           -71.12869546818817,
           1
          ],
          [
           "Allston-Brighton",
           42.35811824635457,
           -71.1309137213052,
           1
          ],
          [
           "Allston-Brighton",
           42.358245168376506,
           -71.15306801322231,
           1
          ],
          [
           "Allston-Brighton",
           42.358362294035956,
           -71.14087556565936,
           1
          ],
          [
           "Allston-Brighton",
           42.35849966334547,
           -71.12822624955673,
           1
          ],
          [
           "Allston-Brighton",
           42.358505658891936,
           -71.12944468687637,
           1
          ],
          [
           "Allston-Brighton",
           42.35857131198407,
           -71.12983366784165,
           1
          ],
          [
           "Allston-Brighton",
           42.358572945967616,
           -71.140600812196,
           1
          ],
          [
           "Allston-Brighton",
           42.35860655750685,
           -71.13057531631209,
           1
          ],
          [
           "Allston-Brighton",
           42.358659490330034,
           -71.14133391687972,
           1
          ],
          [
           "Allston-Brighton",
           42.35874345335444,
           -71.14000462888497,
           1
          ],
          [
           "Allston-Brighton",
           42.3587909671608,
           -71.12856524264339,
           1
          ],
          [
           "Allston-Brighton",
           42.35882253442461,
           -71.13018410513656,
           1
          ],
          [
           "Allston-Brighton",
           42.35890611746758,
           -71.1440086182883,
           1
          ],
          [
           "Allston-Brighton",
           42.3589929009505,
           -71.12883794427577,
           1
          ],
          [
           "Allston-Brighton",
           42.359025502967896,
           -71.13065800463157,
           1
          ],
          [
           "Allston-Brighton",
           42.35903476713924,
           -71.14167268534855,
           1
          ],
          [
           "Allston-Brighton",
           42.359076805332656,
           -71.1440690561767,
           1
          ],
          [
           "Allston-Brighton",
           42.3590776927106,
           -71.14058989352861,
           1
          ],
          [
           "Allston-Brighton",
           42.35913732960637,
           -71.13005211169698,
           1
          ],
          [
           "Allston-Brighton",
           42.359296325918,
           -71.14019685731922,
           1
          ],
          [
           "Allston-Brighton",
           42.35935511179833,
           -71.12935440566808,
           1
          ],
          [
           "Allston-Brighton",
           42.359372076847656,
           -71.13155989406006,
           1
          ],
          [
           "Allston-Brighton",
           42.359409779263096,
           -71.14319145067742,
           1
          ],
          [
           "Allston-Brighton",
           42.35942051649261,
           -71.12733180344244,
           1
          ],
          [
           "Allston-Brighton",
           42.359449060464,
           -71.14049676849287,
           1
          ],
          [
           "Allston-Brighton",
           42.359635313996506,
           -71.14318000535957,
           1
          ],
          [
           "Allston-Brighton",
           42.359642137376866,
           -71.14056890415277,
           1
          ],
          [
           "Allston-Brighton",
           42.359719535688704,
           -71.14550048696088,
           1
          ],
          [
           "Allston-Brighton",
           42.359773966355796,
           -71.13534874873876,
           1
          ],
          [
           "Allston-Brighton",
           42.35991552862768,
           -71.1248311214117,
           1
          ],
          [
           "Allston-Brighton",
           42.35995246779314,
           -71.12801212854845,
           1
          ],
          [
           "Allston-Brighton",
           42.36004670522718,
           -71.14668752058121,
           1
          ],
          [
           "Allston-Brighton",
           42.36017549345633,
           -71.12910390319256,
           1
          ],
          [
           "Allston-Brighton",
           42.36030977059385,
           -71.13411347506904,
           1
          ],
          [
           "Allston-Brighton",
           42.36040825267022,
           -71.12438589653615,
           1
          ],
          [
           "Allston-Brighton",
           42.36044564104602,
           -71.14164164397086,
           1
          ],
          [
           "Allston-Brighton",
           42.36053024971302,
           -71.12395222441882,
           1
          ],
          [
           "Allston-Brighton",
           42.36060819075061,
           -71.13187970457463,
           1
          ],
          [
           "Allston-Brighton",
           42.360686115441936,
           -71.14150842924266,
           1
          ],
          [
           "Allston-Brighton",
           42.360723739780504,
           -71.14147339828521,
           1
          ],
          [
           "Allston-Brighton",
           42.36083828553094,
           -71.13559987780964,
           1
          ],
          [
           "Allston-Brighton",
           42.36088058647316,
           -71.14139966710844,
           1
          ],
          [
           "Allston-Brighton",
           42.36088535309106,
           -71.14162431608945,
           1
          ],
          [
           "Allston-Brighton",
           42.36090845414096,
           -71.1419871429175,
           1
          ],
          [
           "Allston-Brighton",
           42.36093263073878,
           -71.1254883714559,
           1
          ],
          [
           "Allston-Brighton",
           42.36095774772868,
           -71.14129425665891,
           1
          ],
          [
           "Allston-Brighton",
           42.36102587418993,
           -71.14172423385703,
           1
          ],
          [
           "Allston-Brighton",
           42.3610776365189,
           -71.14232534154723,
           1
          ],
          [
           "Allston-Brighton",
           42.361134602387345,
           -71.1401136361576,
           1
          ],
          [
           "Allston-Brighton",
           42.36114983035629,
           -71.12551284151213,
           1
          ],
          [
           "Allston-Brighton",
           42.36117817683608,
           -71.12378115920009,
           1
          ],
          [
           "Allston-Brighton",
           42.36126465242879,
           -71.12532001360371,
           1
          ],
          [
           "Allston-Brighton",
           42.36127633993539,
           -71.12395963235808,
           1
          ],
          [
           "Allston-Brighton",
           42.36145303396209,
           -71.14580840312615,
           1
          ],
          [
           "Allston-Brighton",
           42.36164085512783,
           -71.12389447283763,
           1
          ],
          [
           "Allston-Brighton",
           42.361928853841,
           -71.13064063713792,
           1
          ],
          [
           "Allston-Brighton",
           42.36208644130208,
           -71.12470254798028,
           1
          ],
          [
           "Allston-Brighton",
           42.36230907844898,
           -71.13494210335833,
           1
          ],
          [
           "Allston-Brighton",
           42.36254624854516,
           -71.13394720472692,
           1
          ],
          [
           "Allston-Brighton",
           42.36259858221989,
           -71.13065251054749,
           1
          ],
          [
           "Allston-Brighton",
           42.36274373479513,
           -71.1290713870758,
           1
          ],
          [
           "Allston-Brighton",
           42.362750082466015,
           -71.1297622550589,
           1
          ],
          [
           "Allston-Brighton",
           42.36287772308311,
           -71.12940938019045,
           1
          ],
          [
           "Allston-Brighton",
           42.36317744091894,
           -71.13364063781297,
           1
          ],
          [
           "Allston-Brighton",
           42.363207934706246,
           -71.13441719334784,
           1
          ],
          [
           "Allston-Brighton",
           42.36358002054283,
           -71.1315050543147,
           1
          ],
          [
           "Allston-Brighton",
           42.36422300156797,
           -71.13069165481411,
           1
          ],
          [
           "Allston-Brighton",
           42.36424315185366,
           -71.13135873481029,
           1
          ],
          [
           "Allston-Brighton",
           42.364266540897425,
           -71.13078915086456,
           1
          ],
          [
           "Allston-Brighton",
           42.364314992851476,
           -71.12985757765765,
           1
          ],
          [
           "Allston-Brighton",
           42.36440045797446,
           -71.13076271051933,
           1
          ],
          [
           "Allston-Brighton",
           42.364442577765715,
           -71.13058404714846,
           1
          ],
          [
           "Allston-Brighton",
           42.36453585044336,
           -71.11837974523743,
           1
          ],
          [
           "Allston-Brighton",
           42.36565214411161,
           -71.11989190274438,
           1
          ],
          [
           "Back Bay",
           42.342163452906,
           -71.08295567461526,
           1
          ],
          [
           "Back Bay",
           42.34230868140715,
           -71.08279042616411,
           1
          ],
          [
           "Back Bay",
           42.34272614685374,
           -71.08235023010137,
           1
          ],
          [
           "Back Bay",
           42.343140924444654,
           -71.08156872463519,
           1
          ],
          [
           "Back Bay",
           42.343185344581606,
           -71.08269224904575,
           1
          ],
          [
           "Back Bay",
           42.34323698976152,
           -71.08243592270834,
           1
          ],
          [
           "Back Bay",
           42.343270949461406,
           -71.08371100915447,
           1
          ],
          [
           "Back Bay",
           42.343367776888314,
           -71.08295283859245,
           1
          ],
          [
           "Back Bay",
           42.34356913792809,
           -71.08194891737973,
           1
          ],
          [
           "Back Bay",
           42.343786791768615,
           -71.08138591193283,
           1
          ],
          [
           "Back Bay",
           42.343826359124435,
           -71.08260980130042,
           1
          ],
          [
           "Back Bay",
           42.343880190626564,
           -71.08399516188275,
           1
          ],
          [
           "Back Bay",
           42.34397625597894,
           -71.08288061414346,
           1
          ],
          [
           "Back Bay",
           42.34398792552873,
           -71.08232026318744,
           1
          ],
          [
           "Back Bay",
           42.34402836742756,
           -71.08292014163338,
           1
          ],
          [
           "Back Bay",
           42.34413959667544,
           -71.08409557166532,
           1
          ],
          [
           "Back Bay",
           42.344471434571375,
           -71.08178606219539,
           1
          ],
          [
           "Back Bay",
           42.34448567335711,
           -71.08076259510034,
           1
          ],
          [
           "Back Bay",
           42.34465973157918,
           -71.07999360108029,
           1
          ],
          [
           "Back Bay",
           42.344751442668034,
           -71.08586355825072,
           1
          ],
          [
           "Back Bay",
           42.344835112457964,
           -71.08075172857512,
           1
          ],
          [
           "Back Bay",
           42.34491407344669,
           -71.07988699742863,
           1
          ],
          [
           "Back Bay",
           42.34501591990805,
           -71.08030237982021,
           1
          ],
          [
           "Back Bay",
           42.34505121921718,
           -71.07988910638004,
           1
          ],
          [
           "Back Bay",
           42.34506856744563,
           -71.08600744143051,
           1
          ],
          [
           "Back Bay",
           42.34507409996456,
           -71.08048462854534,
           1
          ],
          [
           "Back Bay",
           42.34508846863622,
           -71.08016534170244,
           1
          ],
          [
           "Back Bay",
           42.34512279321617,
           -71.08267392798517,
           1
          ],
          [
           "Back Bay",
           42.34514083390414,
           -71.08102884069211,
           1
          ],
          [
           "Back Bay",
           42.34519100844435,
           -71.07939373931755,
           1
          ],
          [
           "Back Bay",
           42.34520351943119,
           -71.079508113058,
           1
          ],
          [
           "Back Bay",
           42.345221677861154,
           -71.0795988393007,
           1
          ],
          [
           "Back Bay",
           42.34526224988893,
           -71.08078929797506,
           1
          ],
          [
           "Back Bay",
           42.34529924902717,
           -71.08564212118453,
           1
          ],
          [
           "Back Bay",
           42.34547013412014,
           -71.07881220331836,
           1
          ],
          [
           "Back Bay",
           42.345494521833295,
           -71.0790962119812,
           1
          ],
          [
           "Back Bay",
           42.3456365362353,
           -71.08067154382003,
           1
          ],
          [
           "Back Bay",
           42.34588119114087,
           -71.07862399449101,
           1
          ],
          [
           "Back Bay",
           42.3459210972832,
           -71.08156523877926,
           1
          ],
          [
           "Back Bay",
           42.345936047248294,
           -71.0797046489665,
           1
          ],
          [
           "Back Bay",
           42.34594763852984,
           -71.08194281965525,
           1
          ],
          [
           "Back Bay",
           42.345966438470924,
           -71.07829728029174,
           1
          ],
          [
           "Back Bay",
           42.345991317260754,
           -71.0798590124427,
           1
          ],
          [
           "Back Bay",
           42.34604445496711,
           -71.08017522974744,
           1
          ],
          [
           "Back Bay",
           42.3460967185965,
           -71.0789864696759,
           1
          ],
          [
           "Back Bay",
           42.34610828954821,
           -71.0780950326433,
           1
          ],
          [
           "Back Bay",
           42.34613197084408,
           -71.07942553607322,
           1
          ],
          [
           "Back Bay",
           42.34613830566531,
           -71.0797152763806,
           1
          ],
          [
           "Back Bay",
           42.34614523778011,
           -71.08002037914466,
           1
          ],
          [
           "Back Bay",
           42.346196860971546,
           -71.07856621775574,
           1
          ],
          [
           "Back Bay",
           42.34631971517924,
           -71.07807349661931,
           1
          ],
          [
           "Back Bay",
           42.34640823784515,
           -71.079837710634,
           1
          ],
          [
           "Back Bay",
           42.34642477551046,
           -71.07827018647994,
           1
          ],
          [
           "Back Bay",
           42.34643929992848,
           -71.07919862090827,
           1
          ],
          [
           "Back Bay",
           42.34648274328634,
           -71.07967502184705,
           1
          ],
          [
           "Back Bay",
           42.34648977513371,
           -71.07975896686729,
           1
          ],
          [
           "Back Bay",
           42.34649330922525,
           -71.07962505197085,
           1
          ],
          [
           "Back Bay",
           42.346503459004886,
           -71.07834995027376,
           1
          ],
          [
           "Back Bay",
           42.346517629629034,
           -71.07772599195843,
           1
          ],
          [
           "Back Bay",
           42.34652131433815,
           -71.07838416340084,
           1
          ],
          [
           "Back Bay",
           42.346540340328716,
           -71.07927440328857,
           1
          ],
          [
           "Back Bay",
           42.34654267232068,
           -71.07853071772206,
           1
          ],
          [
           "Back Bay",
           42.34655444904728,
           -71.0782034265307,
           1
          ],
          [
           "Back Bay",
           42.34659832547842,
           -71.0801231873253,
           1
          ],
          [
           "Back Bay",
           42.34665681392895,
           -71.07911571013813,
           1
          ],
          [
           "Back Bay",
           42.3466856189642,
           -71.07957332158732,
           1
          ],
          [
           "Back Bay",
           42.346686549726975,
           -71.07918967241032,
           1
          ],
          [
           "Back Bay",
           42.34671047234268,
           -71.07770712540359,
           1
          ],
          [
           "Back Bay",
           42.34676465164885,
           -71.0783528239843,
           1
          ],
          [
           "Back Bay",
           42.346836535893566,
           -71.07842855228066,
           1
          ],
          [
           "Back Bay",
           42.34685199498404,
           -71.07799518214941,
           1
          ],
          [
           "Back Bay",
           42.34686689996466,
           -71.07899933936599,
           1
          ],
          [
           "Back Bay",
           42.346898056561045,
           -71.08034964474446,
           1
          ],
          [
           "Back Bay",
           42.34707085326683,
           -71.07246978523966,
           1
          ],
          [
           "Back Bay",
           42.34717511247381,
           -71.07825316216427,
           1
          ],
          [
           "Back Bay",
           42.347198309516905,
           -71.08003031151644,
           1
          ],
          [
           "Back Bay",
           42.347350510542476,
           -71.07924229599945,
           1
          ],
          [
           "Back Bay",
           42.347616590105844,
           -71.08494956680563,
           1
          ],
          [
           "Back Bay",
           42.34782624281228,
           -71.08707702664313,
           1
          ],
          [
           "Back Bay",
           42.3478436907324,
           -71.08560863024267,
           1
          ],
          [
           "Back Bay",
           42.347892709028734,
           -71.08735026908802,
           1
          ],
          [
           "Back Bay",
           42.34794627306118,
           -71.08488222123127,
           1
          ],
          [
           "Back Bay",
           42.348000439971756,
           -71.08552158738037,
           1
          ],
          [
           "Back Bay",
           42.34806214578079,
           -71.08831382973688,
           1
          ],
          [
           "Back Bay",
           42.34807208652265,
           -71.07663898691975,
           1
          ],
          [
           "Back Bay",
           42.34810958200395,
           -71.08628317669933,
           1
          ],
          [
           "Back Bay",
           42.348176457907854,
           -71.08654983497297,
           1
          ],
          [
           "Back Bay",
           42.3481822030086,
           -71.09076067873428,
           1
          ],
          [
           "Back Bay",
           42.34823707653101,
           -71.0685174246612,
           1
          ],
          [
           "Back Bay",
           42.34831672344581,
           -71.08474346052387,
           1
          ],
          [
           "Back Bay",
           42.34834451890253,
           -71.08620417825242,
           1
          ],
          [
           "Back Bay",
           42.348415529287024,
           -71.08534241726764,
           1
          ],
          [
           "Back Bay",
           42.34845343360475,
           -71.08747775500325,
           1
          ],
          [
           "Back Bay",
           42.3484557168945,
           -71.06810028933633,
           1
          ],
          [
           "Back Bay",
           42.348475108099976,
           -71.07040673233617,
           1
          ],
          [
           "Back Bay",
           42.34850865691721,
           -71.06929010159307,
           1
          ],
          [
           "Back Bay",
           42.34853200852008,
           -71.08413591334903,
           1
          ],
          [
           "Back Bay",
           42.34862911850599,
           -71.08561477148602,
           1
          ],
          [
           "Back Bay",
           42.348630855291646,
           -71.09007694380695,
           1
          ],
          [
           "Back Bay",
           42.348630870704135,
           -71.08525711720037,
           1
          ],
          [
           "Back Bay",
           42.34864783624143,
           -71.08433664130031,
           1
          ],
          [
           "Back Bay",
           42.34865395770835,
           -71.08675315600337,
           1
          ],
          [
           "Back Bay",
           42.348731429223506,
           -71.06831683813056,
           1
          ],
          [
           "Back Bay",
           42.34877176092485,
           -71.08423396297167,
           1
          ],
          [
           "Back Bay",
           42.34880685343603,
           -71.06812836338845,
           1
          ],
          [
           "Back Bay",
           42.34880842272183,
           -71.08897714796561,
           1
          ],
          [
           "Back Bay",
           42.348833813648646,
           -71.06896545929068,
           1
          ],
          [
           "Back Bay",
           42.34886985619918,
           -71.08460420772631,
           1
          ],
          [
           "Back Bay",
           42.348891620501945,
           -71.08240563137821,
           1
          ],
          [
           "Back Bay",
           42.34889358180853,
           -71.06849710628192,
           1
          ],
          [
           "Back Bay",
           42.348896111887925,
           -71.0841468448245,
           1
          ],
          [
           "Back Bay",
           42.348921685569465,
           -71.09035524816704,
           1
          ],
          [
           "Back Bay",
           42.34892383089698,
           -71.08127251577542,
           1
          ],
          [
           "Back Bay",
           42.34897813439239,
           -71.06782458659784,
           1
          ],
          [
           "Back Bay",
           42.3490038530794,
           -71.06887725966722,
           1
          ],
          [
           "Back Bay",
           42.349084734455346,
           -71.08232079255343,
           1
          ],
          [
           "Back Bay",
           42.349180437050656,
           -71.06874937014906,
           1
          ],
          [
           "Back Bay",
           42.349203098042544,
           -71.08036997373881,
           1
          ],
          [
           "Back Bay",
           42.34922068461341,
           -71.06691407927605,
           1
          ],
          [
           "Back Bay",
           42.349237357940176,
           -71.08452694664723,
           1
          ],
          [
           "Back Bay",
           42.34924409216707,
           -71.07792578438381,
           1
          ],
          [
           "Back Bay",
           42.349251326949954,
           -71.06899058119524,
           1
          ],
          [
           "Back Bay",
           42.34926181893452,
           -71.08440122492242,
           1
          ],
          [
           "Back Bay",
           42.3492699829589,
           -71.09050312470507,
           1
          ],
          [
           "Back Bay",
           42.34929912373992,
           -71.08347012375727,
           1
          ],
          [
           "Back Bay",
           42.34930061992321,
           -71.06897966781574,
           1
          ],
          [
           "Back Bay",
           42.34931436189503,
           -71.08769559204535,
           1
          ],
          [
           "Back Bay",
           42.34931994912785,
           -71.06682139176101,
           1
          ],
          [
           "Back Bay",
           42.34932720297116,
           -71.0905884894385,
           1
          ],
          [
           "Back Bay",
           42.349328366695005,
           -71.08485519356563,
           1
          ],
          [
           "Back Bay",
           42.349349848256544,
           -71.08248800796298,
           1
          ],
          [
           "Back Bay",
           42.34935164400061,
           -71.08201364187337,
           1
          ],
          [
           "Back Bay",
           42.3493665814709,
           -71.08199538348683,
           1
          ],
          [
           "Back Bay",
           42.34940674848636,
           -71.08345968465333,
           1
          ],
          [
           "Back Bay",
           42.349407317123976,
           -71.08443316587649,
           1
          ],
          [
           "Back Bay",
           42.34944852973999,
           -71.090417863281,
           1
          ],
          [
           "Back Bay",
           42.34949627476548,
           -71.08595384961086,
           1
          ],
          [
           "Back Bay",
           42.34949953466093,
           -71.08592548056416,
           1
          ],
          [
           "Back Bay",
           42.34950979261725,
           -71.08205049512304,
           1
          ],
          [
           "Back Bay",
           42.34951621234428,
           -71.07101194500629,
           1
          ],
          [
           "Back Bay",
           42.34953235149585,
           -71.06944196366528,
           1
          ],
          [
           "Back Bay",
           42.34954061466672,
           -71.07848716335708,
           1
          ],
          [
           "Back Bay",
           42.349552172531034,
           -71.09002973714743,
           1
          ],
          [
           "Back Bay",
           42.34958554288832,
           -71.06757506075716,
           1
          ],
          [
           "Back Bay",
           42.34959776971692,
           -71.08934622692324,
           1
          ],
          [
           "Back Bay",
           42.34961978643654,
           -71.0777197745603,
           1
          ],
          [
           "Back Bay",
           42.34963192836867,
           -71.08311894250734,
           1
          ],
          [
           "Back Bay",
           42.34964029915511,
           -71.08834175881046,
           1
          ],
          [
           "Back Bay",
           42.34964226006277,
           -71.0843452927662,
           1
          ],
          [
           "Back Bay",
           42.34970659815711,
           -71.08462439884744,
           1
          ],
          [
           "Back Bay",
           42.3497134913012,
           -71.06985265838695,
           1
          ],
          [
           "Back Bay",
           42.34972969320107,
           -71.0879236417328,
           1
          ],
          [
           "Back Bay",
           42.34973369884361,
           -71.08465376110208,
           1
          ],
          [
           "Back Bay",
           42.34974875035604,
           -71.07856759744331,
           1
          ],
          [
           "Back Bay",
           42.349757160919,
           -71.08775450314117,
           1
          ],
          [
           "Back Bay",
           42.34990066879407,
           -71.06960020992611,
           1
          ],
          [
           "Back Bay",
           42.34994795093453,
           -71.08225904871169,
           1
          ],
          [
           "Back Bay",
           42.34995448181277,
           -71.08660245393479,
           1
          ],
          [
           "Back Bay",
           42.3499706088789,
           -71.08103176654691,
           1
          ],
          [
           "Back Bay",
           42.35000048452634,
           -71.08278843852919,
           1
          ],
          [
           "Back Bay",
           42.350005827227385,
           -71.07757406865338,
           1
          ],
          [
           "Back Bay",
           42.350016660126784,
           -71.06773808344789,
           1
          ],
          [
           "Back Bay",
           42.350028455706436,
           -71.08390690295413,
           1
          ],
          [
           "Back Bay",
           42.35005067464196,
           -71.08124416584337,
           1
          ],
          [
           "Back Bay",
           42.3500909185985,
           -71.08179656255358,
           1
          ],
          [
           "Back Bay",
           42.35010585906457,
           -71.08383846810091,
           1
          ],
          [
           "Back Bay",
           42.3501248300534,
           -71.08999740067043,
           1
          ],
          [
           "Back Bay",
           42.35015130461911,
           -71.09115128880198,
           1
          ],
          [
           "Back Bay",
           42.350153800748465,
           -71.0679307880178,
           1
          ],
          [
           "Back Bay",
           42.350294187619625,
           -71.0860715347519,
           1
          ],
          [
           "Back Bay",
           42.35030730652297,
           -71.08285057824554,
           1
          ],
          [
           "Back Bay",
           42.35031385894017,
           -71.07565657623756,
           1
          ],
          [
           "Back Bay",
           42.35031513825874,
           -71.08681015728966,
           1
          ],
          [
           "Back Bay",
           42.350358988268106,
           -71.06779348952853,
           1
          ],
          [
           "Back Bay",
           42.35037049424832,
           -71.07034497025259,
           1
          ],
          [
           "Back Bay",
           42.35041869035099,
           -71.08200914434188,
           1
          ],
          [
           "Back Bay",
           42.350427312594405,
           -71.08662782304664,
           1
          ],
          [
           "Back Bay",
           42.350461234336215,
           -71.08838128459587,
           1
          ],
          [
           "Back Bay",
           42.35046437147425,
           -71.08893992239963,
           1
          ],
          [
           "Back Bay",
           42.35046583775115,
           -71.06709322548006,
           1
          ],
          [
           "Back Bay",
           42.350471813576384,
           -71.0819709061086,
           1
          ],
          [
           "Back Bay",
           42.350476730299135,
           -71.08577905720527,
           1
          ],
          [
           "Back Bay",
           42.35049371153128,
           -71.06986261163799,
           1
          ],
          [
           "Back Bay",
           42.35055495632187,
           -71.07939899138711,
           1
          ],
          [
           "Back Bay",
           42.350557088473074,
           -71.08336259706302,
           1
          ],
          [
           "Back Bay",
           42.350617868749744,
           -71.08279118048424,
           1
          ],
          [
           "Back Bay",
           42.350648554034535,
           -71.08375482059041,
           1
          ],
          [
           "Back Bay",
           42.35068464125804,
           -71.08228083705681,
           1
          ],
          [
           "Back Bay",
           42.35069865782065,
           -71.08233054560111,
           1
          ],
          [
           "Back Bay",
           42.350703329871294,
           -71.09069811786318,
           1
          ],
          [
           "Back Bay",
           42.35074444829579,
           -71.08783569225069,
           1
          ],
          [
           "Back Bay",
           42.35080955889185,
           -71.08222456973219,
           1
          ],
          [
           "Back Bay",
           42.350818288630684,
           -71.08802691716497,
           1
          ],
          [
           "Back Bay",
           42.35082185936093,
           -71.08203890985298,
           1
          ],
          [
           "Back Bay",
           42.35084480245318,
           -71.08558353723168,
           1
          ],
          [
           "Back Bay",
           42.350860498156585,
           -71.080994162919,
           1
          ],
          [
           "Back Bay",
           42.350877524528244,
           -71.09015261482372,
           1
          ],
          [
           "Back Bay",
           42.35095492326392,
           -71.069194422319,
           1
          ],
          [
           "Back Bay",
           42.35097324243918,
           -71.08144480688703,
           1
          ],
          [
           "Back Bay",
           42.35106607747779,
           -71.08031618631631,
           1
          ],
          [
           "Back Bay",
           42.35108170954357,
           -71.09030968511986,
           1
          ],
          [
           "Back Bay",
           42.351174079188254,
           -71.08998038575538,
           1
          ],
          [
           "Back Bay",
           42.35121526707249,
           -71.08314799948815,
           1
          ],
          [
           "Back Bay",
           42.35125745334597,
           -71.08435198932179,
           1
          ],
          [
           "Back Bay",
           42.35128637261622,
           -71.08865659078783,
           1
          ],
          [
           "Back Bay",
           42.35130574498772,
           -71.08268033862973,
           1
          ],
          [
           "Back Bay",
           42.35132218195608,
           -71.0825907921931,
           1
          ],
          [
           "Back Bay",
           42.35139993302384,
           -71.07650820248895,
           1
          ],
          [
           "Back Bay",
           42.351429666115706,
           -71.07438802397489,
           1
          ],
          [
           "Back Bay",
           42.35143299578862,
           -71.08808721926776,
           1
          ],
          [
           "Back Bay",
           42.35147091712026,
           -71.08320443523486,
           1
          ],
          [
           "Back Bay",
           42.351503651029184,
           -71.0871041513763,
           1
          ],
          [
           "Back Bay",
           42.35153135746013,
           -71.08323670442063,
           1
          ],
          [
           "Back Bay",
           42.351546426954286,
           -71.0681580163002,
           1
          ],
          [
           "Back Bay",
           42.35162629930753,
           -71.07774054333473,
           1
          ],
          [
           "Back Bay",
           42.351626891634034,
           -71.08249268655617,
           1
          ],
          [
           "Back Bay",
           42.35168134093168,
           -71.08706448356695,
           1
          ],
          [
           "Back Bay",
           42.35173960955297,
           -71.08173351968077,
           1
          ],
          [
           "Back Bay",
           42.351752050189525,
           -71.08704748654992,
           1
          ],
          [
           "Back Bay",
           42.35176712672133,
           -71.08765359376078,
           1
          ],
          [
           "Back Bay",
           42.35192164447685,
           -71.07941320706328,
           1
          ],
          [
           "Back Bay",
           42.352023942176935,
           -71.08469114601566,
           1
          ],
          [
           "Back Bay",
           42.352136210728546,
           -71.07610265561482,
           1
          ],
          [
           "Back Bay",
           42.352178738231366,
           -71.08103039350623,
           1
          ],
          [
           "Back Bay",
           42.35219596740883,
           -71.07885459897311,
           1
          ],
          [
           "Back Bay",
           42.352246700045946,
           -71.08110195704289,
           1
          ],
          [
           "Back Bay",
           42.35225241644322,
           -71.07175693122319,
           1
          ],
          [
           "Back Bay",
           42.352273173397826,
           -71.08256662119476,
           1
          ],
          [
           "Back Bay",
           42.35227774054727,
           -71.08285933563151,
           1
          ],
          [
           "Back Bay",
           42.352350470215335,
           -71.08108186243321,
           1
          ],
          [
           "Back Bay",
           42.35252078993396,
           -71.08055812208198,
           1
          ],
          [
           "Back Bay",
           42.35255996024848,
           -71.0843337755702,
           1
          ],
          [
           "Back Bay",
           42.35257828561665,
           -71.08259945045045,
           1
          ],
          [
           "Back Bay",
           42.352579737702044,
           -71.07879094316347,
           1
          ],
          [
           "Back Bay",
           42.35261226840441,
           -71.07602728413896,
           1
          ],
          [
           "Back Bay",
           42.35262416707966,
           -71.08051383620193,
           1
          ],
          [
           "Back Bay",
           42.35264094794804,
           -71.07329225376554,
           1
          ],
          [
           "Back Bay",
           42.352642435597616,
           -71.07614545599691,
           1
          ],
          [
           "Back Bay",
           42.352652170996365,
           -71.07565295793515,
           1
          ],
          [
           "Back Bay",
           42.352726837675625,
           -71.0819361907127,
           1
          ],
          [
           "Back Bay",
           42.35281512566159,
           -71.08121725139918,
           1
          ],
          [
           "Back Bay",
           42.3528694442241,
           -71.08313771032157,
           1
          ],
          [
           "Back Bay",
           42.35289905728729,
           -71.08224032764255,
           1
          ],
          [
           "Back Bay",
           42.35291931229008,
           -71.07898548030663,
           1
          ],
          [
           "Back Bay",
           42.352923935629924,
           -71.08080354812249,
           1
          ],
          [
           "Back Bay",
           42.35296929099229,
           -71.07923603840048,
           1
          ],
          [
           "Back Bay",
           42.353074296820566,
           -71.0822420192819,
           1
          ],
          [
           "Back Bay",
           42.353169030580865,
           -71.07888777434367,
           1
          ],
          [
           "Back Bay",
           42.35323745036622,
           -71.0793958465477,
           1
          ],
          [
           "Back Bay",
           42.353280344973065,
           -71.07168886990594,
           1
          ],
          [
           "Back Bay",
           42.353292465630695,
           -71.07697309193651,
           1
          ],
          [
           "Back Bay",
           42.35329571000252,
           -71.07778636887703,
           1
          ],
          [
           "Back Bay",
           42.353356664601606,
           -71.08157617020447,
           1
          ],
          [
           "Back Bay",
           42.35355223711976,
           -71.0799048233613,
           1
          ],
          [
           "Back Bay",
           42.353558917388895,
           -71.0740979929516,
           1
          ],
          [
           "Back Bay",
           42.35357949532429,
           -71.07779788406096,
           1
          ],
          [
           "Back Bay",
           42.3536143910126,
           -71.07957868007081,
           1
          ],
          [
           "Back Bay",
           42.35361675796535,
           -71.0773942234172,
           1
          ],
          [
           "Back Bay",
           42.35362814191778,
           -71.07802598722238,
           1
          ],
          [
           "Back Bay",
           42.35366906848241,
           -71.07410717557798,
           1
          ],
          [
           "Back Bay",
           42.35371866549875,
           -71.07838108749516,
           1
          ],
          [
           "Back Bay",
           42.35376288379316,
           -71.07423910713261,
           1
          ],
          [
           "Back Bay",
           42.35380770989612,
           -71.07881418712098,
           1
          ],
          [
           "Back Bay",
           42.35382532939101,
           -71.07671360394994,
           1
          ],
          [
           "Back Bay",
           42.35385964677783,
           -71.07529441161311,
           1
          ],
          [
           "Back Bay",
           42.3538695963596,
           -71.07972258052565,
           1
          ],
          [
           "Back Bay",
           42.35391159412126,
           -71.0744372975915,
           1
          ],
          [
           "Back Bay",
           42.35391656654736,
           -71.07567158140867,
           1
          ],
          [
           "Back Bay",
           42.35392228988581,
           -71.07645347392805,
           1
          ],
          [
           "Back Bay",
           42.3539555723324,
           -71.07444555927097,
           1
          ],
          [
           "Back Bay",
           42.35397478093875,
           -71.07261173686383,
           1
          ],
          [
           "Back Bay",
           42.35410871698754,
           -71.07290449120174,
           1
          ],
          [
           "Back Bay",
           42.35411529429635,
           -71.07441444576361,
           1
          ],
          [
           "Back Bay",
           42.35428465578638,
           -71.07737376922702,
           1
          ],
          [
           "Back Bay",
           42.35428957525215,
           -71.0727722486024,
           1
          ],
          [
           "Back Bay",
           42.354327797179906,
           -71.073521139528,
           1
          ],
          [
           "Back Bay",
           42.35441478795728,
           -71.07794303369663,
           1
          ],
          [
           "Back Bay",
           42.35448687741874,
           -71.07537396287039,
           1
          ],
          [
           "Back Bay",
           42.354496674330846,
           -71.07241061491042,
           1
          ],
          [
           "Back Bay",
           42.35454321454043,
           -71.07345475876545,
           1
          ],
          [
           "Back Bay",
           42.35457366444874,
           -71.07242763352764,
           1
          ],
          [
           "Back Bay",
           42.35459064861711,
           -71.07238092387315,
           1
          ],
          [
           "Back Bay",
           42.35472247394193,
           -71.07524632107211,
           1
          ],
          [
           "Back Bay",
           42.35476045244558,
           -71.0736797996714,
           1
          ],
          [
           "Back Bay",
           42.35481432026883,
           -71.0746523547689,
           1
          ],
          [
           "Back Bay",
           42.35482453139531,
           -71.07334797058765,
           1
          ],
          [
           "Back Bay",
           42.35483811492339,
           -71.07631445495049,
           1
          ],
          [
           "Back Bay",
           42.35491206652637,
           -71.07642598084301,
           1
          ],
          [
           "Back Bay",
           42.355034477149296,
           -71.0737364410998,
           1
          ],
          [
           "Back Bay",
           42.35510226700914,
           -71.07316777262784,
           1
          ],
          [
           "Back Bay",
           42.355263199285815,
           -71.07279310137646,
           1
          ],
          [
           "Beacon Hill",
           42.355697356868326,
           -71.07316574199247,
           1
          ],
          [
           "Beacon Hill",
           42.356484327897945,
           -71.0694520845368,
           1
          ],
          [
           "Beacon Hill",
           42.35648905157266,
           -71.07076787634173,
           1
          ],
          [
           "Beacon Hill",
           42.356563186403974,
           -71.06996596728106,
           1
          ],
          [
           "Beacon Hill",
           42.356680738880335,
           -71.0715580820407,
           1
          ],
          [
           "Beacon Hill",
           42.356692701430994,
           -71.07297137662971,
           1
          ],
          [
           "Beacon Hill",
           42.3567161004591,
           -71.07147169563085,
           1
          ],
          [
           "Beacon Hill",
           42.35674747704935,
           -71.07014338357318,
           1
          ],
          [
           "Beacon Hill",
           42.35679757861307,
           -71.07309058872016,
           1
          ],
          [
           "Beacon Hill",
           42.35682271391546,
           -71.07024444961496,
           1
          ],
          [
           "Beacon Hill",
           42.35685565099392,
           -71.07025135971973,
           1
          ],
          [
           "Beacon Hill",
           42.356919562619936,
           -71.0705650432753,
           1
          ],
          [
           "Beacon Hill",
           42.357034222939035,
           -71.07056202564955,
           1
          ],
          [
           "Beacon Hill",
           42.35709462165028,
           -71.06919153389475,
           1
          ],
          [
           "Beacon Hill",
           42.357117482621454,
           -71.0617996576146,
           1
          ],
          [
           "Beacon Hill",
           42.35713132783332,
           -71.07131447263393,
           1
          ],
          [
           "Beacon Hill",
           42.35721790205242,
           -71.07050227797781,
           1
          ],
          [
           "Beacon Hill",
           42.357306808662585,
           -71.06178635429775,
           1
          ],
          [
           "Beacon Hill",
           42.35736754953065,
           -71.06513533397623,
           1
          ],
          [
           "Beacon Hill",
           42.35737821295598,
           -71.07135090525699,
           1
          ],
          [
           "Beacon Hill",
           42.35738232639453,
           -71.06161726265582,
           1
          ],
          [
           "Beacon Hill",
           42.3573889793,
           -71.07036385453631,
           1
          ],
          [
           "Beacon Hill",
           42.35744256035078,
           -71.06903190739797,
           1
          ],
          [
           "Beacon Hill",
           42.357558778305346,
           -71.07171963738033,
           1
          ],
          [
           "Beacon Hill",
           42.35756837956525,
           -71.06366054660595,
           1
          ],
          [
           "Beacon Hill",
           42.35757078432021,
           -71.07230206311364,
           1
          ],
          [
           "Beacon Hill",
           42.3575810722803,
           -71.06158526737697,
           1
          ],
          [
           "Beacon Hill",
           42.35761811579186,
           -71.0677209580928,
           1
          ],
          [
           "Beacon Hill",
           42.3576620251356,
           -71.0706933971195,
           1
          ],
          [
           "Beacon Hill",
           42.35767006555429,
           -71.06902611451345,
           1
          ],
          [
           "Beacon Hill",
           42.357708039786466,
           -71.07242019916289,
           1
          ],
          [
           "Beacon Hill",
           42.357721022845844,
           -71.06628546479884,
           1
          ],
          [
           "Beacon Hill",
           42.35776698226426,
           -71.07210011995728,
           1
          ],
          [
           "Beacon Hill",
           42.35776705745255,
           -71.06218007245228,
           1
          ],
          [
           "Beacon Hill",
           42.35779194890587,
           -71.07137385545597,
           1
          ],
          [
           "Beacon Hill",
           42.357799319458906,
           -71.06303531486179,
           1
          ],
          [
           "Beacon Hill",
           42.35781632723257,
           -71.06665887467764,
           1
          ],
          [
           "Beacon Hill",
           42.357877410732925,
           -71.06975348587542,
           1
          ],
          [
           "Beacon Hill",
           42.35789243298354,
           -71.06962757453424,
           1
          ],
          [
           "Beacon Hill",
           42.35802833769424,
           -71.07198029115679,
           1
          ],
          [
           "Beacon Hill",
           42.358050489894815,
           -71.07132938575543,
           1
          ],
          [
           "Beacon Hill",
           42.35811921026056,
           -71.0707293806522,
           1
          ],
          [
           "Beacon Hill",
           42.35812767164493,
           -71.07123523378782,
           1
          ],
          [
           "Beacon Hill",
           42.358186478604544,
           -71.07177429354016,
           1
          ],
          [
           "Beacon Hill",
           42.35822852008539,
           -71.06985730160402,
           1
          ],
          [
           "Beacon Hill",
           42.358300314212954,
           -71.0718692412584,
           1
          ],
          [
           "Beacon Hill",
           42.358332710630535,
           -71.06717657031841,
           1
          ],
          [
           "Beacon Hill",
           42.35834589888917,
           -71.06692803948859,
           1
          ],
          [
           "Beacon Hill",
           42.35839047029281,
           -71.06209849436034,
           1
          ],
          [
           "Beacon Hill",
           42.35840072260606,
           -71.07021793673707,
           1
          ],
          [
           "Beacon Hill",
           42.35840348816456,
           -71.06185033441072,
           1
          ],
          [
           "Beacon Hill",
           42.35841014102986,
           -71.0682283886542,
           1
          ],
          [
           "Beacon Hill",
           42.35841497736698,
           -71.0630821323763,
           1
          ],
          [
           "Beacon Hill",
           42.358415084888904,
           -71.06891422209479,
           1
          ],
          [
           "Beacon Hill",
           42.35846013534796,
           -71.06326992202112,
           1
          ],
          [
           "Beacon Hill",
           42.35847192699124,
           -71.06826281362132,
           1
          ],
          [
           "Beacon Hill",
           42.358480754877796,
           -71.06947903170361,
           1
          ],
          [
           "Beacon Hill",
           42.35849698264322,
           -71.06201144020238,
           1
          ],
          [
           "Beacon Hill",
           42.35851401998179,
           -71.06647413331109,
           1
          ],
          [
           "Beacon Hill",
           42.35851925265369,
           -71.06281729945019,
           1
          ],
          [
           "Beacon Hill",
           42.35858437330264,
           -71.0654938807978,
           1
          ],
          [
           "Beacon Hill",
           42.35866925366806,
           -71.06331526509506,
           1
          ],
          [
           "Beacon Hill",
           42.358672528867075,
           -71.07007545548723,
           1
          ],
          [
           "Beacon Hill",
           42.35871892420606,
           -71.06958858599741,
           1
          ],
          [
           "Beacon Hill",
           42.35876536707974,
           -71.06430904539252,
           1
          ],
          [
           "Beacon Hill",
           42.35877796569808,
           -71.07011902031627,
           1
          ],
          [
           "Beacon Hill",
           42.358785118535316,
           -71.06752595011125,
           1
          ],
          [
           "Beacon Hill",
           42.35883103935814,
           -71.06185488919928,
           1
          ],
          [
           "Beacon Hill",
           42.358835671516744,
           -71.06800152477905,
           1
          ],
          [
           "Beacon Hill",
           42.35887150469967,
           -71.06992198061587,
           1
          ],
          [
           "Beacon Hill",
           42.358891628560315,
           -71.06166258935436,
           1
          ],
          [
           "Beacon Hill",
           42.35889439429778,
           -71.0615700591196,
           1
          ],
          [
           "Beacon Hill",
           42.35890339819018,
           -71.07009064770922,
           1
          ],
          [
           "Beacon Hill",
           42.35892584388483,
           -71.06310908854002,
           1
          ],
          [
           "Beacon Hill",
           42.358931308258974,
           -71.06331100414958,
           1
          ],
          [
           "Beacon Hill",
           42.358972418712895,
           -71.06944362375978,
           1
          ],
          [
           "Beacon Hill",
           42.35898071106728,
           -71.06664824634025,
           1
          ],
          [
           "Beacon Hill",
           42.35898848993431,
           -71.06324696239577,
           1
          ],
          [
           "Beacon Hill",
           42.35901849368097,
           -71.06304087785213,
           1
          ],
          [
           "Beacon Hill",
           42.359019917247856,
           -71.0656971484648,
           1
          ],
          [
           "Beacon Hill",
           42.359097729383116,
           -71.07124754184737,
           1
          ],
          [
           "Beacon Hill",
           42.359108415266704,
           -71.06622663529956,
           1
          ],
          [
           "Beacon Hill",
           42.359115039059645,
           -71.06592181867758,
           1
          ],
          [
           "Beacon Hill",
           42.35913965938924,
           -71.0710973210847,
           1
          ],
          [
           "Beacon Hill",
           42.35914495775162,
           -71.06785123535221,
           1
          ],
          [
           "Beacon Hill",
           42.35915042089938,
           -71.06792989063233,
           1
          ],
          [
           "Beacon Hill",
           42.35916565524155,
           -71.06785397146307,
           1
          ],
          [
           "Beacon Hill",
           42.35924865856049,
           -71.06555836973574,
           1
          ],
          [
           "Beacon Hill",
           42.35927534499617,
           -71.07166437234035,
           1
          ],
          [
           "Beacon Hill",
           42.35927927735102,
           -71.06923436744644,
           1
          ],
          [
           "Beacon Hill",
           42.35933060974251,
           -71.06592570273932,
           1
          ],
          [
           "Beacon Hill",
           42.35934474352358,
           -71.06291668127326,
           1
          ],
          [
           "Beacon Hill",
           42.359354995830294,
           -71.06436761787046,
           1
          ],
          [
           "Beacon Hill",
           42.35935953022384,
           -71.06439164979805,
           1
          ],
          [
           "Beacon Hill",
           42.35936904589469,
           -71.07116179759925,
           1
          ],
          [
           "Beacon Hill",
           42.3594170554889,
           -71.06232329883342,
           1
          ],
          [
           "Beacon Hill",
           42.359428335012346,
           -71.06985689209802,
           1
          ],
          [
           "Beacon Hill",
           42.359464663231066,
           -71.07106480346663,
           1
          ],
          [
           "Beacon Hill",
           42.3594732887304,
           -71.07211869527731,
           1
          ],
          [
           "Beacon Hill",
           42.359525151000284,
           -71.06248984852309,
           1
          ],
          [
           "Beacon Hill",
           42.35957555630735,
           -71.06706379372844,
           1
          ],
          [
           "Beacon Hill",
           42.35958021977073,
           -71.06396674324603,
           1
          ],
          [
           "Beacon Hill",
           42.35960059714639,
           -71.06390773536619,
           1
          ],
          [
           "Beacon Hill",
           42.35964127184067,
           -71.06552063164794,
           1
          ],
          [
           "Beacon Hill",
           42.359748575194594,
           -71.06617818430853,
           1
          ],
          [
           "Beacon Hill",
           42.35975960262915,
           -71.06759512596133,
           1
          ],
          [
           "Beacon Hill",
           42.35980510467375,
           -71.06881615036389,
           1
          ],
          [
           "Beacon Hill",
           42.35984258695376,
           -71.06903669731649,
           1
          ],
          [
           "Beacon Hill",
           42.35986625886903,
           -71.06720102695712,
           1
          ],
          [
           "Beacon Hill",
           42.35987843601993,
           -71.07121096577602,
           1
          ],
          [
           "Beacon Hill",
           42.35989025509785,
           -71.06436429838327,
           1
          ],
          [
           "Beacon Hill",
           42.35989235705657,
           -71.06707166292912,
           1
          ],
          [
           "Beacon Hill",
           42.35990755591563,
           -71.06879350129806,
           1
          ],
          [
           "Beacon Hill",
           42.35994470638439,
           -71.06206011966226,
           1
          ],
          [
           "Beacon Hill",
           42.35997590586026,
           -71.06678112347387,
           1
          ],
          [
           "Beacon Hill",
           42.35998238011228,
           -71.06812793775775,
           1
          ],
          [
           "Beacon Hill",
           42.36000710094668,
           -71.06661125772438,
           1
          ],
          [
           "Beacon Hill",
           42.36002601113149,
           -71.06484686948849,
           1
          ],
          [
           "Beacon Hill",
           42.36003477904195,
           -71.07059547723476,
           1
          ],
          [
           "Beacon Hill",
           42.36006717639114,
           -71.06746134835807,
           1
          ],
          [
           "Beacon Hill",
           42.360079010600884,
           -71.06696565712132,
           1
          ],
          [
           "Beacon Hill",
           42.360097929219386,
           -71.06780061400849,
           1
          ],
          [
           "Beacon Hill",
           42.36013878822191,
           -71.06407199714536,
           1
          ],
          [
           "Beacon Hill",
           42.360146202161395,
           -71.06866122534215,
           1
          ],
          [
           "Beacon Hill",
           42.36020415031003,
           -71.06839983708964,
           1
          ],
          [
           "Beacon Hill",
           42.360261268175115,
           -71.0668503743707,
           1
          ],
          [
           "Beacon Hill",
           42.36029552671589,
           -71.06958375676562,
           1
          ],
          [
           "Beacon Hill",
           42.36031305418009,
           -71.06659066535445,
           1
          ],
          [
           "Beacon Hill",
           42.360328949260136,
           -71.06906867009059,
           1
          ],
          [
           "Beacon Hill",
           42.36033210319927,
           -71.06792075057331,
           1
          ],
          [
           "Beacon Hill",
           42.3603345259002,
           -71.06692518128426,
           1
          ],
          [
           "Beacon Hill",
           42.360351430952186,
           -71.067273442638,
           1
          ],
          [
           "Beacon Hill",
           42.36038187728936,
           -71.06780657681584,
           1
          ],
          [
           "Beacon Hill",
           42.360427122666614,
           -71.06515110102987,
           1
          ],
          [
           "Beacon Hill",
           42.36043324477765,
           -71.07134300780932,
           1
          ],
          [
           "Beacon Hill",
           42.3604697212397,
           -71.06954017181788,
           1
          ],
          [
           "Beacon Hill",
           42.360473327314025,
           -71.06292946071105,
           1
          ],
          [
           "Beacon Hill",
           42.36051977778303,
           -71.06401438870778,
           1
          ],
          [
           "Beacon Hill",
           42.36054101963022,
           -71.06885721556502,
           1
          ],
          [
           "Beacon Hill",
           42.36056064859132,
           -71.0714057212558,
           1
          ],
          [
           "Beacon Hill",
           42.36056405062218,
           -71.06531414641472,
           1
          ],
          [
           "Beacon Hill",
           42.36057008547229,
           -71.06815773706349,
           1
          ],
          [
           "Beacon Hill",
           42.36057290297437,
           -71.06548638624518,
           1
          ],
          [
           "Beacon Hill",
           42.36059643780757,
           -71.06666051364803,
           1
          ],
          [
           "Beacon Hill",
           42.36062562771717,
           -71.06945746836061,
           1
          ],
          [
           "Beacon Hill",
           42.360626928752986,
           -71.06580134322449,
           1
          ],
          [
           "Beacon Hill",
           42.36066017019649,
           -71.06672559880404,
           1
          ],
          [
           "Beacon Hill",
           42.360708765943436,
           -71.06421829728033,
           1
          ],
          [
           "Beacon Hill",
           42.36075066875911,
           -71.06293513256568,
           1
          ],
          [
           "Beacon Hill",
           42.36076898802033,
           -71.06444906350723,
           1
          ],
          [
           "Beacon Hill",
           42.360776062831896,
           -71.06445563747977,
           1
          ],
          [
           "Beacon Hill",
           42.360776233546964,
           -71.06492873560457,
           1
          ],
          [
           "Beacon Hill",
           42.36078945285849,
           -71.06710893749593,
           1
          ],
          [
           "Beacon Hill",
           42.3608016479687,
           -71.06450367804659,
           1
          ],
          [
           "Beacon Hill",
           42.36080932935789,
           -71.06419290889144,
           1
          ],
          [
           "Beacon Hill",
           42.36082994661295,
           -71.06417988061659,
           1
          ],
          [
           "Beacon Hill",
           42.36083639726832,
           -71.06412894008766,
           1
          ],
          [
           "Beacon Hill",
           42.3608574689739,
           -71.06594360239977,
           1
          ],
          [
           "Beacon Hill",
           42.36087382838455,
           -71.06299377704731,
           1
          ],
          [
           "Beacon Hill",
           42.36090969048259,
           -71.06510423932899,
           1
          ],
          [
           "Beacon Hill",
           42.36093112384436,
           -71.0639760275067,
           1
          ],
          [
           "Beacon Hill",
           42.36093936175189,
           -71.06379530400591,
           1
          ],
          [
           "Beacon Hill",
           42.360992316310345,
           -71.0644434563225,
           1
          ],
          [
           "Beacon Hill",
           42.361036560842074,
           -71.06384931204448,
           1
          ],
          [
           "Beacon Hill",
           42.36105123626994,
           -71.06678529935463,
           1
          ],
          [
           "Beacon Hill",
           42.36106480219581,
           -71.06636743014488,
           1
          ],
          [
           "Beacon Hill",
           42.36107942262385,
           -71.06562533879614,
           1
          ],
          [
           "Beacon Hill",
           42.361087380486346,
           -71.06531975810971,
           1
          ],
          [
           "Beacon Hill",
           42.36109379373899,
           -71.06244079490797,
           1
          ],
          [
           "Beacon Hill",
           42.36110702678796,
           -71.0702926780151,
           1
          ],
          [
           "Beacon Hill",
           42.36114286613522,
           -71.06521324184692,
           1
          ],
          [
           "Beacon Hill",
           42.36115665691108,
           -71.06603416127884,
           1
          ],
          [
           "Beacon Hill",
           42.36123199619656,
           -71.07050791596411,
           1
          ],
          [
           "Beacon Hill",
           42.36129981829768,
           -71.07161759742179,
           1
          ],
          [
           "Brookline",
           42.33455836291265,
           -71.11459172546341,
           1
          ],
          [
           "Brookline",
           42.33465689738429,
           -71.11345643936876,
           1
          ],
          [
           "Brookline",
           42.33637594727255,
           -71.14083351429836,
           1
          ],
          [
           "Brookline",
           42.33974852294104,
           -71.1364550323108,
           1
          ],
          [
           "Brookline",
           42.34100552712397,
           -71.11237533968209,
           1
          ],
          [
           "Brookline",
           42.347187056561424,
           -71.13185996505644,
           1
          ],
          [
           "Brookline",
           42.34910682295989,
           -71.12858566302741,
           1
          ],
          [
           "Brookline",
           42.349379893443604,
           -71.1228684685468,
           1
          ],
          [
           "Cambridge",
           42.355575057917854,
           -71.11156918509697,
           1
          ],
          [
           "Cambridge",
           42.35934172208254,
           -71.11404688704576,
           1
          ],
          [
           "Cambridge",
           42.359452846935326,
           -71.11368818159649,
           1
          ],
          [
           "Cambridge",
           42.365112317266274,
           -71.11480075951329,
           1
          ],
          [
           "Cambridge",
           42.365351115642575,
           -71.11436298605044,
           1
          ],
          [
           "Cambridge",
           42.36916541510093,
           -71.11555022243783,
           1
          ],
          [
           "Cambridge",
           42.36926546866599,
           -71.072024224819,
           1
          ],
          [
           "Charlestown",
           42.37191325559271,
           -71.06333019925495,
           1
          ],
          [
           "Charlestown",
           42.37294842275394,
           -71.06250928451718,
           1
          ],
          [
           "Charlestown",
           42.373282525150685,
           -71.0581517415366,
           1
          ],
          [
           "Charlestown",
           42.37350982026992,
           -71.06314575016056,
           1
          ],
          [
           "Charlestown",
           42.37355189265302,
           -71.06236328885844,
           1
          ],
          [
           "Charlestown",
           42.37394925336738,
           -71.06128123238629,
           1
          ],
          [
           "Charlestown",
           42.3740433333595,
           -71.0611766737255,
           1
          ],
          [
           "Charlestown",
           42.37415674756017,
           -71.06202512836366,
           1
          ],
          [
           "Charlestown",
           42.37423370980447,
           -71.06215495192623,
           1
          ],
          [
           "Charlestown",
           42.3745554955836,
           -71.05977738376616,
           1
          ],
          [
           "Charlestown",
           42.37465423256758,
           -71.05771053837672,
           1
          ],
          [
           "Charlestown",
           42.374757734019276,
           -71.05941798376456,
           1
          ],
          [
           "Charlestown",
           42.374999154241394,
           -71.05777501469449,
           1
          ],
          [
           "Charlestown",
           42.375023805694816,
           -71.05921092547085,
           1
          ],
          [
           "Charlestown",
           42.37508432707183,
           -71.05812700596243,
           1
          ],
          [
           "Charlestown",
           42.375254968139146,
           -71.0533086253225,
           1
          ],
          [
           "Charlestown",
           42.375439540681185,
           -71.06413642543394,
           1
          ],
          [
           "Charlestown",
           42.37567505547794,
           -71.06080414587312,
           1
          ],
          [
           "Charlestown",
           42.375871277133065,
           -71.05755969860121,
           1
          ],
          [
           "Charlestown",
           42.375882834949905,
           -71.05973714889127,
           1
          ],
          [
           "Charlestown",
           42.37603276384275,
           -71.06591865924472,
           1
          ],
          [
           "Charlestown",
           42.37618094303146,
           -71.05987823791533,
           1
          ],
          [
           "Charlestown",
           42.376385025671844,
           -71.05136254590931,
           1
          ],
          [
           "Charlestown",
           42.376435492668044,
           -71.06535119211516,
           1
          ],
          [
           "Charlestown",
           42.37649511684865,
           -71.0517246124798,
           1
          ],
          [
           "Charlestown",
           42.376532257719205,
           -71.06157887354844,
           1
          ],
          [
           "Charlestown",
           42.37655111058528,
           -71.06676905680453,
           1
          ],
          [
           "Charlestown",
           42.376603293548115,
           -71.05380183123417,
           1
          ],
          [
           "Charlestown",
           42.376634352984695,
           -71.05237883372453,
           1
          ],
          [
           "Charlestown",
           42.377009231895215,
           -71.06573513787451,
           1
          ],
          [
           "Charlestown",
           42.377380676697406,
           -71.05041078672215,
           1
          ],
          [
           "Charlestown",
           42.377387032265055,
           -71.06043519614649,
           1
          ],
          [
           "Charlestown",
           42.377549642397646,
           -71.06280466738484,
           1
          ],
          [
           "Charlestown",
           42.37755837170107,
           -71.05133817692955,
           1
          ],
          [
           "Charlestown",
           42.377578852405705,
           -71.0637641154371,
           1
          ],
          [
           "Charlestown",
           42.37767806528751,
           -71.06480028672766,
           1
          ],
          [
           "Charlestown",
           42.377723597976754,
           -71.05132419433814,
           1
          ],
          [
           "Charlestown",
           42.37785542167485,
           -71.06279709247991,
           1
          ],
          [
           "Charlestown",
           42.377895054802885,
           -71.06568058895711,
           1
          ],
          [
           "Charlestown",
           42.378078688488884,
           -71.06343261367424,
           1
          ],
          [
           "Charlestown",
           42.37813618799643,
           -71.0632869303694,
           1
          ],
          [
           "Charlestown",
           42.37816267880432,
           -71.06755657371468,
           1
          ],
          [
           "Charlestown",
           42.37824827391053,
           -71.06198813535029,
           1
          ],
          [
           "Charlestown",
           42.37833379967386,
           -71.06181846257596,
           1
          ],
          [
           "Charlestown",
           42.37833821738547,
           -71.06662682158364,
           1
          ],
          [
           "Charlestown",
           42.37853324504035,
           -71.06176887037249,
           1
          ],
          [
           "Charlestown",
           42.37867757767117,
           -71.06338339747694,
           1
          ],
          [
           "Charlestown",
           42.3788981259316,
           -71.06118225546153,
           1
          ],
          [
           "Charlestown",
           42.3790886009274,
           -71.06301537985014,
           1
          ],
          [
           "Charlestown",
           42.379633029456244,
           -71.06191588184478,
           1
          ],
          [
           "Charlestown",
           42.379800677578814,
           -71.06674953120306,
           1
          ],
          [
           "Charlestown",
           42.37994635344315,
           -71.06223270866468,
           1
          ],
          [
           "Charlestown",
           42.379994051092865,
           -71.06652460324518,
           1
          ],
          [
           "Charlestown",
           42.3799973196388,
           -71.06569762923866,
           1
          ],
          [
           "Charlestown",
           42.3800548793001,
           -71.0632410484762,
           1
          ],
          [
           "Charlestown",
           42.380182275374096,
           -71.06829119455756,
           1
          ],
          [
           "Charlestown",
           42.380373976839245,
           -71.06910599055006,
           1
          ],
          [
           "Charlestown",
           42.38041051740274,
           -71.06245272241284,
           1
          ],
          [
           "Charlestown",
           42.38134840856283,
           -71.06190760557617,
           1
          ],
          [
           "Charlestown",
           42.381540889560135,
           -71.07023648211687,
           1
          ],
          [
           "Charlestown",
           42.38181091994198,
           -71.06597189295363,
           1
          ],
          [
           "Charlestown",
           42.38189202730521,
           -71.06485197027199,
           1
          ],
          [
           "Charlestown",
           42.381920630337135,
           -71.0688369394787,
           1
          ],
          [
           "Charlestown",
           42.38214291888439,
           -71.08064408416544,
           1
          ],
          [
           "Charlestown",
           42.3822680618921,
           -71.06583593948568,
           1
          ],
          [
           "Charlestown",
           42.3826927598642,
           -71.07809993795176,
           1
          ],
          [
           "Charlestown",
           42.382704783503605,
           -71.07877178358189,
           1
          ],
          [
           "Charlestown",
           42.38302343438471,
           -71.07122356836284,
           1
          ],
          [
           "Charlestown",
           42.383230564659314,
           -71.07732678152603,
           1
          ],
          [
           "Charlestown",
           42.38329856541702,
           -71.06858152300224,
           1
          ],
          [
           "Charlestown",
           42.38344850717835,
           -71.06511108423524,
           1
          ],
          [
           "Charlestown",
           42.3836415267057,
           -71.06878726853384,
           1
          ],
          [
           "Charlestown",
           42.38370488376533,
           -71.06564446942194,
           1
          ],
          [
           "Charlestown",
           42.38374930116852,
           -71.07723138795625,
           1
          ],
          [
           "Charlestown",
           42.38382413902392,
           -71.06766904272655,
           1
          ],
          [
           "Charlestown",
           42.383907080542,
           -71.07878595806467,
           1
          ],
          [
           "Charlestown",
           42.383957953045204,
           -71.06771082633266,
           1
          ],
          [
           "Charlestown",
           42.384107634700925,
           -71.07805422051075,
           1
          ],
          [
           "Charlestown",
           42.38453396653739,
           -71.07807747994606,
           1
          ],
          [
           "Chestnut Hill",
           42.2960164154129,
           -71.1551478338741,
           1
          ],
          [
           "Chestnut Hill",
           42.3016697631621,
           -71.16482633725231,
           1
          ],
          [
           "Chestnut Hill",
           42.301903757168496,
           -71.16733329407919,
           1
          ],
          [
           "Chestnut Hill",
           42.30330535646915,
           -71.16193984091241,
           1
          ],
          [
           "Chinatown",
           42.347483322454345,
           -71.06079648978638,
           1
          ],
          [
           "Chinatown",
           42.34754058861708,
           -71.06021712789311,
           1
          ],
          [
           "Chinatown",
           42.348116363319,
           -71.06165024013819,
           1
          ],
          [
           "Chinatown",
           42.34816470077913,
           -71.05974390633995,
           1
          ],
          [
           "Chinatown",
           42.3483997905399,
           -71.06227730650363,
           1
          ],
          [
           "Chinatown",
           42.34846893154371,
           -71.06020839932364,
           1
          ],
          [
           "Chinatown",
           42.34859634227961,
           -71.0627601996312,
           1
          ],
          [
           "Chinatown",
           42.34864828206799,
           -71.06012875567642,
           1
          ],
          [
           "Chinatown",
           42.34867606531525,
           -71.06124332901369,
           1
          ],
          [
           "Chinatown",
           42.348829740918944,
           -71.05990613419607,
           1
          ],
          [
           "Chinatown",
           42.348840359477954,
           -71.06383871108021,
           1
          ],
          [
           "Chinatown",
           42.3488934738346,
           -71.05996425513219,
           1
          ],
          [
           "Chinatown",
           42.348988039328155,
           -71.06049315314665,
           1
          ],
          [
           "Chinatown",
           42.34939321303187,
           -71.06263703686577,
           1
          ],
          [
           "Chinatown",
           42.34942447726353,
           -71.06341296834017,
           1
          ],
          [
           "Chinatown",
           42.349523677333686,
           -71.05972639589817,
           1
          ],
          [
           "Chinatown",
           42.34953273016119,
           -71.0607307798942,
           1
          ],
          [
           "Chinatown",
           42.34955504102479,
           -71.06188093129498,
           1
          ],
          [
           "Chinatown",
           42.349611708674736,
           -71.06062286276433,
           1
          ],
          [
           "Chinatown",
           42.349733816781615,
           -71.0605232110554,
           1
          ],
          [
           "Chinatown",
           42.34989022574079,
           -71.06067686945971,
           1
          ],
          [
           "Chinatown",
           42.35008236175576,
           -71.05978020625918,
           1
          ],
          [
           "Chinatown",
           42.350194483914244,
           -71.06205569268481,
           1
          ],
          [
           "Chinatown",
           42.350297255857136,
           -71.06231125003633,
           1
          ],
          [
           "Chinatown",
           42.3504252777942,
           -71.05969261367373,
           1
          ],
          [
           "Chinatown",
           42.350546452659664,
           -71.06060285046114,
           1
          ],
          [
           "Chinatown",
           42.35055216014412,
           -71.06168614267253,
           1
          ],
          [
           "Chinatown",
           42.350641890254046,
           -71.06291037675189,
           1
          ],
          [
           "Chinatown",
           42.35067613459507,
           -71.06137717804795,
           1
          ],
          [
           "Chinatown",
           42.35072285766954,
           -71.06293732967991,
           1
          ],
          [
           "Chinatown",
           42.35074234923137,
           -71.06273125900049,
           1
          ],
          [
           "Chinatown",
           42.350771424025424,
           -71.06072599623613,
           1
          ],
          [
           "Chinatown",
           42.35080070816983,
           -71.06169059449208,
           1
          ],
          [
           "Chinatown",
           42.350898320864495,
           -71.06321290006319,
           1
          ],
          [
           "Chinatown",
           42.35090794513311,
           -71.06197529166677,
           1
          ],
          [
           "Chinatown",
           42.3509297039733,
           -71.05977195554615,
           1
          ],
          [
           "Chinatown",
           42.35094638720326,
           -71.06213032707227,
           1
          ],
          [
           "Chinatown",
           42.350948573088345,
           -71.06111384419096,
           1
          ],
          [
           "Chinatown",
           42.351015523339036,
           -71.06290707291346,
           1
          ],
          [
           "Chinatown",
           42.35103159640811,
           -71.06278886638864,
           1
          ],
          [
           "Chinatown",
           42.35105900975633,
           -71.06289157167829,
           1
          ],
          [
           "Chinatown",
           42.35107229312267,
           -71.06305596090544,
           1
          ],
          [
           "Chinatown",
           42.35114556123238,
           -71.05989021711312,
           1
          ],
          [
           "Chinatown",
           42.351214662070106,
           -71.05937481486707,
           1
          ],
          [
           "Chinatown",
           42.35124444173521,
           -71.06197822096027,
           1
          ],
          [
           "Chinatown",
           42.35125461850827,
           -71.06124547812514,
           1
          ],
          [
           "Chinatown",
           42.35126102439081,
           -71.06362541690929,
           1
          ],
          [
           "Chinatown",
           42.35126666725765,
           -71.06190274415641,
           1
          ],
          [
           "Chinatown",
           42.35130793025092,
           -71.06350574269595,
           1
          ],
          [
           "Chinatown",
           42.351321886219566,
           -71.06269213714495,
           1
          ],
          [
           "Chinatown",
           42.351341904003895,
           -71.0604915822739,
           1
          ],
          [
           "Chinatown",
           42.3514729979244,
           -71.06345473871647,
           1
          ],
          [
           "Chinatown",
           42.351509402541545,
           -71.06333625679352,
           1
          ],
          [
           "Chinatown",
           42.35151770894613,
           -71.06313824382536,
           1
          ],
          [
           "Chinatown",
           42.35152667387897,
           -71.0600035097666,
           1
          ],
          [
           "Chinatown",
           42.351566744068045,
           -71.0593080613562,
           1
          ],
          [
           "Chinatown",
           42.351569313485314,
           -71.06288547360207,
           1
          ],
          [
           "Chinatown",
           42.351581278638136,
           -71.06172714333803,
           1
          ],
          [
           "Chinatown",
           42.351605963130176,
           -71.06154627147038,
           1
          ],
          [
           "Chinatown",
           42.35163838388161,
           -71.062148069686,
           1
          ],
          [
           "Chinatown",
           42.351700401272566,
           -71.060162536567,
           1
          ],
          [
           "Chinatown",
           42.35171501766326,
           -71.05971001034017,
           1
          ],
          [
           "Chinatown",
           42.35182860560342,
           -71.0593418210191,
           1
          ],
          [
           "Chinatown",
           42.35192902074992,
           -71.05950779254559,
           1
          ],
          [
           "Chinatown",
           42.351981968332254,
           -71.05960861309754,
           1
          ],
          [
           "Chinatown",
           42.352068490162296,
           -71.06194463372994,
           1
          ],
          [
           "Chinatown",
           42.352070003526094,
           -71.06294914287153,
           1
          ],
          [
           "Chinatown",
           42.35210306886879,
           -71.06318368946836,
           1
          ],
          [
           "Chinatown",
           42.35211358924659,
           -71.06347463616113,
           1
          ],
          [
           "Chinatown",
           42.352141941032684,
           -71.06351949861497,
           1
          ],
          [
           "Chinatown",
           42.35217936276897,
           -71.06316023638313,
           1
          ],
          [
           "Chinatown",
           42.352197250498655,
           -71.06199510010265,
           1
          ],
          [
           "Chinatown",
           42.3522773819644,
           -71.06168847333879,
           1
          ],
          [
           "Chinatown",
           42.35229392411086,
           -71.06271603751182,
           1
          ],
          [
           "Chinatown",
           42.35231485272424,
           -71.06153921829257,
           1
          ],
          [
           "Chinatown",
           42.35232216396968,
           -71.06202555420086,
           1
          ],
          [
           "Chinatown",
           42.35240763670249,
           -71.0613966177352,
           1
          ],
          [
           "Chinatown",
           42.352417217659735,
           -71.06161905111236,
           1
          ],
          [
           "Dorchester",
           42.271762965905545,
           -71.0714474812458,
           1
          ],
          [
           "Dorchester",
           42.27197536345592,
           -71.06378548023146,
           1
          ],
          [
           "Dorchester",
           42.2721884880899,
           -71.07055817874209,
           1
          ],
          [
           "Dorchester",
           42.272581248194655,
           -71.06854760143612,
           1
          ],
          [
           "Dorchester",
           42.27289210141893,
           -71.07273106071193,
           1
          ],
          [
           "Dorchester",
           42.27355644211916,
           -71.07085837555849,
           1
          ],
          [
           "Dorchester",
           42.27366901779353,
           -71.07709408057416,
           1
          ],
          [
           "Dorchester",
           42.27398657794684,
           -71.07228756504061,
           1
          ],
          [
           "Dorchester",
           42.27398862756944,
           -71.07083490265401,
           1
          ],
          [
           "Dorchester",
           42.27489916460158,
           -71.07706633773087,
           1
          ],
          [
           "Dorchester",
           42.27513774634284,
           -71.07739961831643,
           1
          ],
          [
           "Dorchester",
           42.27963071423372,
           -71.0695712776291,
           1
          ],
          [
           "Dorchester",
           42.28284156904521,
           -71.07115571255615,
           1
          ],
          [
           "Dorchester",
           42.283185415860075,
           -71.0676301992643,
           1
          ],
          [
           "Dorchester",
           42.28358415047871,
           -71.06695110900299,
           1
          ],
          [
           "Dorchester",
           42.28366550730405,
           -71.06832233983724,
           1
          ],
          [
           "Dorchester",
           42.28393321127926,
           -71.06883548728614,
           1
          ],
          [
           "Dorchester",
           42.28429056544545,
           -71.06829088298191,
           1
          ],
          [
           "Dorchester",
           42.28439247742836,
           -71.0691162756608,
           1
          ],
          [
           "Dorchester",
           42.284524650586526,
           -71.05654046330514,
           1
          ],
          [
           "Dorchester",
           42.284938158331826,
           -71.0765105375469,
           1
          ],
          [
           "Dorchester",
           42.28515232867908,
           -71.06995755877081,
           1
          ],
          [
           "Dorchester",
           42.28527106162183,
           -71.06859175017793,
           1
          ],
          [
           "Dorchester",
           42.285509238081225,
           -71.06863201084887,
           1
          ],
          [
           "Dorchester",
           42.28553882410587,
           -71.06670333053314,
           1
          ],
          [
           "Dorchester",
           42.28622920482872,
           -71.05682397063839,
           1
          ],
          [
           "Dorchester",
           42.287137705946286,
           -71.06280658166426,
           1
          ],
          [
           "Dorchester",
           42.287710147644454,
           -71.06085870989217,
           1
          ],
          [
           "Dorchester",
           42.288467833614156,
           -71.05477404713753,
           1
          ],
          [
           "Dorchester",
           42.28871253185422,
           -71.05645543901394,
           1
          ],
          [
           "Dorchester",
           42.289483063261095,
           -71.05939283130931,
           1
          ],
          [
           "Dorchester",
           42.289796646332576,
           -71.06758203624595,
           1
          ],
          [
           "Dorchester",
           42.28981312038293,
           -71.059004563947,
           1
          ],
          [
           "Dorchester",
           42.290406778276896,
           -71.05853479240663,
           1
          ],
          [
           "Dorchester",
           42.290682960292465,
           -71.06191633527014,
           1
          ],
          [
           "Dorchester",
           42.290867508989116,
           -71.06089322820584,
           1
          ],
          [
           "Dorchester",
           42.290890895608186,
           -71.06018762554037,
           1
          ],
          [
           "Dorchester",
           42.29095370122077,
           -71.06754859973475,
           1
          ],
          [
           "Dorchester",
           42.29249110277151,
           -71.07464279242959,
           1
          ],
          [
           "Dorchester",
           42.292631326170365,
           -71.05575036336552,
           1
          ],
          [
           "Dorchester",
           42.292951292124464,
           -71.07317264184137,
           1
          ],
          [
           "Dorchester",
           42.29342799337781,
           -71.06773095505629,
           1
          ],
          [
           "Dorchester",
           42.2934727383476,
           -71.05580400147454,
           1
          ],
          [
           "Dorchester",
           42.293625679968635,
           -71.06652076227766,
           1
          ],
          [
           "Dorchester",
           42.293983876054774,
           -71.05256831157975,
           1
          ],
          [
           "Dorchester",
           42.29456314359375,
           -71.05566391796037,
           1
          ],
          [
           "Dorchester",
           42.29456752543741,
           -71.06681276312973,
           1
          ],
          [
           "Dorchester",
           42.2947307585787,
           -71.05525941750982,
           1
          ],
          [
           "Dorchester",
           42.29473076368444,
           -71.06111949307655,
           1
          ],
          [
           "Dorchester",
           42.294804773108794,
           -71.0681388398284,
           1
          ],
          [
           "Dorchester",
           42.29490127700488,
           -71.05770269661876,
           1
          ],
          [
           "Dorchester",
           42.29521626275393,
           -71.05732568610479,
           1
          ],
          [
           "Dorchester",
           42.295244253486544,
           -71.06544784292608,
           1
          ],
          [
           "Dorchester",
           42.29532738673,
           -71.05325871931055,
           1
          ],
          [
           "Dorchester",
           42.29536596549187,
           -71.05958006384482,
           1
          ],
          [
           "Dorchester",
           42.2953834517333,
           -71.0602789914378,
           1
          ],
          [
           "Dorchester",
           42.29595204741114,
           -71.06133744208005,
           1
          ],
          [
           "Dorchester",
           42.29620501045,
           -71.04894321761127,
           1
          ],
          [
           "Dorchester",
           42.296212896602356,
           -71.0545477155797,
           1
          ],
          [
           "Dorchester",
           42.29745364719143,
           -71.05850362673148,
           1
          ],
          [
           "Dorchester",
           42.29770901,
           -71.05979096181578,
           1
          ],
          [
           "Dorchester",
           42.297712083484114,
           -71.07623787494877,
           1
          ],
          [
           "Dorchester",
           42.297719717380254,
           -71.0592404613887,
           1
          ],
          [
           "Dorchester",
           42.29780454877129,
           -71.05892760838887,
           1
          ],
          [
           "Dorchester",
           42.2980111038138,
           -71.05844705458098,
           1
          ],
          [
           "Dorchester",
           42.29816667845315,
           -71.07456709666796,
           1
          ],
          [
           "Dorchester",
           42.29822350470986,
           -71.07621396071184,
           1
          ],
          [
           "Dorchester",
           42.29838951876525,
           -71.05931164774684,
           1
          ],
          [
           "Dorchester",
           42.298490908055584,
           -71.05880244016217,
           1
          ],
          [
           "Dorchester",
           42.29855670607365,
           -71.06806817217944,
           1
          ],
          [
           "Dorchester",
           42.29866324866309,
           -71.06087745921602,
           1
          ],
          [
           "Dorchester",
           42.29887614811749,
           -71.06489096445533,
           1
          ],
          [
           "Dorchester",
           42.29915433110693,
           -71.05878564109081,
           1
          ],
          [
           "Dorchester",
           42.2992898444257,
           -71.05996995396157,
           1
          ],
          [
           "Dorchester",
           42.299773412938755,
           -71.06047580828391,
           1
          ],
          [
           "Dorchester",
           42.299853423601974,
           -71.06773596473707,
           1
          ],
          [
           "Dorchester",
           42.300755134493855,
           -71.0640886271004,
           1
          ],
          [
           "Dorchester",
           42.30126170002632,
           -71.06280792351114,
           1
          ],
          [
           "Dorchester",
           42.30169262475224,
           -71.06263682838475,
           1
          ],
          [
           "Dorchester",
           42.30232767960903,
           -71.06769752761036,
           1
          ],
          [
           "Dorchester",
           42.30292036080019,
           -71.06850688370724,
           1
          ],
          [
           "Dorchester",
           42.303000972469675,
           -71.06710707612453,
           1
          ],
          [
           "Dorchester",
           42.30301007223536,
           -71.06354926488297,
           1
          ],
          [
           "Dorchester",
           42.30327328770219,
           -71.07203686724688,
           1
          ],
          [
           "Dorchester",
           42.304372794658335,
           -71.0719322604987,
           1
          ],
          [
           "Dorchester",
           42.30453932411603,
           -71.06103578449331,
           1
          ],
          [
           "Dorchester",
           42.30613474700478,
           -71.07287448194877,
           1
          ],
          [
           "Dorchester",
           42.308041989286,
           -71.04788234535555,
           1
          ],
          [
           "Dorchester",
           42.30805304392168,
           -71.04966350518264,
           1
          ],
          [
           "Dorchester",
           42.3081053390174,
           -71.04619636107569,
           1
          ],
          [
           "Dorchester",
           42.30838011648686,
           -71.04694266593916,
           1
          ],
          [
           "Dorchester",
           42.308382241525614,
           -71.0509494087118,
           1
          ],
          [
           "Dorchester",
           42.309219082933396,
           -71.0456411637393,
           1
          ],
          [
           "Dorchester",
           42.30944862067153,
           -71.04554951604072,
           1
          ],
          [
           "Dorchester",
           42.309534001905,
           -71.04918648698538,
           1
          ],
          [
           "Dorchester",
           42.309576646743885,
           -71.04792339859172,
           1
          ],
          [
           "Dorchester",
           42.30961782126247,
           -71.0510692682264,
           1
          ],
          [
           "Dorchester",
           42.309773538560414,
           -71.04715292340433,
           1
          ],
          [
           "Dorchester",
           42.310042043120994,
           -71.04941830401073,
           1
          ],
          [
           "Dorchester",
           42.31018703632418,
           -71.04828822804042,
           1
          ],
          [
           "Dorchester",
           42.31050175929706,
           -71.04811586364792,
           1
          ],
          [
           "Dorchester",
           42.31057856737861,
           -71.05507122762137,
           1
          ],
          [
           "Dorchester",
           42.310863883215255,
           -71.06815043883488,
           1
          ],
          [
           "Dorchester",
           42.31138523158288,
           -71.06891633339367,
           1
          ],
          [
           "Dorchester",
           42.311442085628684,
           -71.0576365688098,
           1
          ],
          [
           "Dorchester",
           42.31160697799131,
           -71.04612721949835,
           1
          ],
          [
           "Dorchester",
           42.311671216278356,
           -71.06168214898854,
           1
          ],
          [
           "Dorchester",
           42.311728786949615,
           -71.0610301964095,
           1
          ],
          [
           "Dorchester",
           42.31196149792243,
           -71.05442778016271,
           1
          ],
          [
           "Dorchester",
           42.31226913622693,
           -71.0580059129187,
           1
          ],
          [
           "Dorchester",
           42.31254826432297,
           -71.06227257063642,
           1
          ],
          [
           "Dorchester",
           42.31261081770296,
           -71.06709804398156,
           1
          ],
          [
           "Dorchester",
           42.312676456270864,
           -71.05371616245105,
           1
          ],
          [
           "Dorchester",
           42.31284015840455,
           -71.05800665667262,
           1
          ],
          [
           "Dorchester",
           42.31317861727431,
           -71.05637455090607,
           1
          ],
          [
           "Dorchester",
           42.3132399388275,
           -71.0624164733466,
           1
          ],
          [
           "Dorchester",
           42.313331655411204,
           -71.06585709564061,
           1
          ],
          [
           "Dorchester",
           42.31339234536343,
           -71.05665201343926,
           1
          ],
          [
           "Dorchester",
           42.313435747754134,
           -71.06187970637777,
           1
          ],
          [
           "Dorchester",
           42.31357973181839,
           -71.04696815124996,
           1
          ],
          [
           "Dorchester",
           42.313955247481694,
           -71.06142190679236,
           1
          ],
          [
           "Dorchester",
           42.31417775073274,
           -71.06036699730883,
           1
          ],
          [
           "Dorchester",
           42.31418505456127,
           -71.06000714910215,
           1
          ],
          [
           "Dorchester",
           42.314397730197896,
           -71.06461455558241,
           1
          ],
          [
           "Dorchester",
           42.314695977380424,
           -71.05816897117434,
           1
          ],
          [
           "Dorchester",
           42.314864810404906,
           -71.06565961173087,
           1
          ],
          [
           "Dorchester",
           42.3148951937513,
           -71.06119371442747,
           1
          ],
          [
           "Dorchester",
           42.314908788625026,
           -71.0621883389839,
           1
          ],
          [
           "Dorchester",
           42.31498684907553,
           -71.06664344625693,
           1
          ],
          [
           "Dorchester",
           42.31502071001499,
           -71.06252738089924,
           1
          ],
          [
           "Dorchester",
           42.315073262101826,
           -71.06342635378083,
           1
          ],
          [
           "Dorchester",
           42.31544375485308,
           -71.05460367006475,
           1
          ],
          [
           "Dorchester",
           42.31587738550808,
           -71.06323102602212,
           1
          ],
          [
           "Dorchester",
           42.316276936788476,
           -71.06008262465603,
           1
          ],
          [
           "Dorchester",
           42.31648144786054,
           -71.06502548202768,
           1
          ],
          [
           "Dorchester",
           42.31663192925843,
           -71.04185882269691,
           1
          ],
          [
           "Dorchester",
           42.31676005359577,
           -71.04105590572186,
           1
          ],
          [
           "Dorchester",
           42.31716801070755,
           -71.04048283843204,
           1
          ],
          [
           "Dorchester",
           42.317215644422774,
           -71.05524406685984,
           1
          ],
          [
           "Dorchester",
           42.31725532498189,
           -71.0538550102279,
           1
          ],
          [
           "Dorchester",
           42.31751337374316,
           -71.05386353873249,
           1
          ],
          [
           "Dorchester",
           42.31757133723939,
           -71.0587959888387,
           1
          ],
          [
           "Dorchester",
           42.31765907300954,
           -71.05346245162895,
           1
          ],
          [
           "Dorchester",
           42.3177560295494,
           -71.06167666341562,
           1
          ],
          [
           "Dorchester",
           42.317858591702546,
           -71.06289234803697,
           1
          ],
          [
           "Dorchester",
           42.317921753619984,
           -71.05345527831022,
           1
          ],
          [
           "Dorchester",
           42.31797688657727,
           -71.05501437734787,
           1
          ],
          [
           "Dorchester",
           42.31799209234161,
           -71.05715974386972,
           1
          ],
          [
           "Dorchester",
           42.317997420160815,
           -71.04020587726274,
           1
          ],
          [
           "Dorchester",
           42.3180341924828,
           -71.05451144897796,
           1
          ],
          [
           "Dorchester",
           42.31812609440498,
           -71.05451533252092,
           1
          ],
          [
           "Dorchester",
           42.31825074117534,
           -71.05788942532814,
           1
          ],
          [
           "Dorchester",
           42.31826027790799,
           -71.05793280422326,
           1
          ],
          [
           "Dorchester",
           42.31846537116893,
           -71.05769179775014,
           1
          ],
          [
           "Dorchester",
           42.318468573247564,
           -71.05096300963389,
           1
          ],
          [
           "Dorchester",
           42.318508397581155,
           -71.05688666176559,
           1
          ],
          [
           "Dorchester",
           42.31868652211072,
           -71.05484340601839,
           1
          ],
          [
           "Dorchester",
           42.31873348916368,
           -71.0536316962313,
           1
          ],
          [
           "Dorchester",
           42.31878288037554,
           -71.05250958626822,
           1
          ],
          [
           "Dorchester",
           42.31879040378467,
           -71.06014865304094,
           1
          ],
          [
           "Dorchester",
           42.318941484499256,
           -71.0583989329392,
           1
          ],
          [
           "Dorchester",
           42.31904631507957,
           -71.05797532800219,
           1
          ],
          [
           "Dorchester",
           42.3191115810243,
           -71.05885188767408,
           1
          ],
          [
           "Dorchester",
           42.319118276125344,
           -71.05745410273154,
           1
          ],
          [
           "Dorchester",
           42.319120838826564,
           -71.0515832464688,
           1
          ],
          [
           "Dorchester",
           42.319390599675884,
           -71.0422843882028,
           1
          ],
          [
           "Dorchester",
           42.31945990560139,
           -71.0563987954141,
           1
          ],
          [
           "Dorchester",
           42.31948574251487,
           -71.058498386918,
           1
          ],
          [
           "Dorchester",
           42.319491731476475,
           -71.0542338804317,
           1
          ],
          [
           "Dorchester",
           42.31972478615688,
           -71.05446841271824,
           1
          ],
          [
           "Dorchester",
           42.31998169134671,
           -71.05439068826655,
           1
          ],
          [
           "Dorchester",
           42.32001844049547,
           -71.05495674469714,
           1
          ],
          [
           "Dorchester",
           42.32009314883445,
           -71.04357167447675,
           1
          ],
          [
           "Dorchester",
           42.320428801388296,
           -71.05225173029531,
           1
          ],
          [
           "Dorchester",
           42.320431419818746,
           -71.06597556249976,
           1
          ],
          [
           "Dorchester",
           42.3205904956033,
           -71.04375557556561,
           1
          ],
          [
           "Dorchester",
           42.321242933979505,
           -71.04362264778388,
           1
          ],
          [
           "Dorchester",
           42.32188940933104,
           -71.06182926672871,
           1
          ],
          [
           "Dorchester",
           42.322216089246105,
           -71.05485480017639,
           1
          ],
          [
           "Dorchester",
           42.32239262873024,
           -71.05943009262447,
           1
          ],
          [
           "Dorchester",
           42.322452560912375,
           -71.05807981393903,
           1
          ],
          [
           "Dorchester",
           42.32280313962161,
           -71.06184460563564,
           1
          ],
          [
           "Dorchester",
           42.32293006282135,
           -71.05777994866747,
           1
          ],
          [
           "Dorchester",
           42.32328478333982,
           -71.05985844715369,
           1
          ],
          [
           "Dorchester",
           42.323285711989264,
           -71.06210286717581,
           1
          ],
          [
           "Dorchester",
           42.32396245649497,
           -71.05851324812433,
           1
          ],
          [
           "Dorchester",
           42.324265447858856,
           -71.05963204365459,
           1
          ],
          [
           "Dorchester",
           42.324570129401,
           -71.05838331223003,
           1
          ],
          [
           "Dorchester",
           42.32465991855066,
           -71.05781973014437,
           1
          ],
          [
           "Dorchester",
           42.32485325148462,
           -71.05936431325543,
           1
          ],
          [
           "Dorchester",
           42.325214584513375,
           -71.05860790437293,
           1
          ],
          [
           "Dorchester",
           42.32577477526832,
           -71.0580660029243,
           1
          ],
          [
           "Dorchester",
           42.3258608188432,
           -71.05796513914946,
           1
          ],
          [
           "Dorchester",
           42.32594687498614,
           -71.05921760667076,
           1
          ],
          [
           "Dorchester",
           42.32598026010625,
           -71.06134195630334,
           1
          ],
          [
           "Downtown",
           42.353265656163906,
           -71.06095515727358,
           1
          ],
          [
           "Downtown",
           42.35771005571988,
           -71.05672200011956,
           1
          ],
          [
           "Downtown",
           42.35795945476904,
           -71.05808346476711,
           1
          ],
          [
           "Downtown",
           42.35929959146369,
           -71.05443070528112,
           1
          ],
          [
           "Downtown",
           42.359706747866795,
           -71.05528418371385,
           1
          ],
          [
           "Downtown",
           42.35984896639969,
           -71.05779410822251,
           1
          ],
          [
           "Downtown",
           42.360194246882294,
           -71.05588182276712,
           1
          ],
          [
           "Downtown",
           42.36135706276269,
           -71.05567311398514,
           1
          ],
          [
           "Downtown Crossing",
           42.35439297534615,
           -71.06009357094518,
           1
          ],
          [
           "Downtown Crossing",
           42.35448103639743,
           -71.0613078474818,
           1
          ],
          [
           "Downtown Crossing",
           42.354831892880135,
           -71.06179050256777,
           1
          ],
          [
           "Downtown Crossing",
           42.35493353629534,
           -71.06238746745623,
           1
          ],
          [
           "Downtown Crossing",
           42.35495597184988,
           -71.05948774493788,
           1
          ],
          [
           "Downtown Crossing",
           42.3551004574346,
           -71.06147150509614,
           1
          ],
          [
           "Downtown Crossing",
           42.355201702029184,
           -71.06056985300016,
           1
          ],
          [
           "Downtown Crossing",
           42.355207782535906,
           -71.06278922064558,
           1
          ],
          [
           "Downtown Crossing",
           42.35522327197213,
           -71.05770431969195,
           1
          ],
          [
           "Downtown Crossing",
           42.35524342177149,
           -71.0612055232988,
           1
          ],
          [
           "Downtown Crossing",
           42.35524819719099,
           -71.057728990236,
           1
          ],
          [
           "Downtown Crossing",
           42.3554242369874,
           -71.0577594228468,
           1
          ],
          [
           "Downtown Crossing",
           42.35544359107686,
           -71.05798502172162,
           1
          ],
          [
           "Downtown Crossing",
           42.355478183061045,
           -71.05808820238184,
           1
          ],
          [
           "Downtown Crossing",
           42.355518696394334,
           -71.0615279629672,
           1
          ],
          [
           "Downtown Crossing",
           42.35561390723503,
           -71.06282257669695,
           1
          ],
          [
           "Downtown Crossing",
           42.35580917685614,
           -71.06128850091855,
           1
          ],
          [
           "Downtown Crossing",
           42.35591666917494,
           -71.05977497623061,
           1
          ],
          [
           "Downtown Crossing",
           42.356167084434205,
           -71.06108436778176,
           1
          ],
          [
           "Downtown Crossing",
           42.35618410726789,
           -71.06195985381298,
           1
          ],
          [
           "Downtown Crossing",
           42.35623878041575,
           -71.06042658684564,
           1
          ],
          [
           "Downtown Crossing",
           42.35628105475239,
           -71.06140929576179,
           1
          ],
          [
           "Downtown Crossing",
           42.35630612674598,
           -71.06134033605234,
           1
          ],
          [
           "Downtown Crossing",
           42.35634575348034,
           -71.06137947649627,
           1
          ],
          [
           "Downtown Crossing",
           42.356454173481715,
           -71.061030598429,
           1
          ],
          [
           "Downtown Crossing",
           42.35715190031668,
           -71.05953739408531,
           1
          ],
          [
           "East Boston",
           42.36382706230058,
           -71.02930344469219,
           1
          ],
          [
           "East Boston",
           42.363926094037296,
           -71.03033901049847,
           1
          ],
          [
           "East Boston",
           42.36422865818504,
           -71.02934771217218,
           1
          ],
          [
           "East Boston",
           42.36460804163824,
           -71.02902055720351,
           1
          ],
          [
           "East Boston",
           42.36460886185974,
           -71.0294975810476,
           1
          ],
          [
           "East Boston",
           42.36472850605321,
           -71.0321403309987,
           1
          ],
          [
           "East Boston",
           42.36479683265739,
           -71.03031285214159,
           1
          ],
          [
           "East Boston",
           42.364851742350176,
           -71.03016541624758,
           1
          ],
          [
           "East Boston",
           42.36511218470177,
           -71.03151328892399,
           1
          ],
          [
           "East Boston",
           42.366149161371006,
           -71.03943971265694,
           1
          ],
          [
           "East Boston",
           42.36622540390451,
           -71.03729354421608,
           1
          ],
          [
           "East Boston",
           42.366226219675376,
           -71.03143059241793,
           1
          ],
          [
           "East Boston",
           42.36629604480039,
           -71.03800818271141,
           1
          ],
          [
           "East Boston",
           42.3663865447592,
           -71.0332830858718,
           1
          ],
          [
           "East Boston",
           42.36661578887667,
           -71.03721079387468,
           1
          ],
          [
           "East Boston",
           42.36663691157528,
           -71.03884285263116,
           1
          ],
          [
           "East Boston",
           42.36664960917275,
           -71.0378679479571,
           1
          ],
          [
           "East Boston",
           42.366702318598534,
           -71.04192446075436,
           1
          ],
          [
           "East Boston",
           42.366709928102075,
           -71.03712593270234,
           1
          ],
          [
           "East Boston",
           42.366884883076146,
           -71.03615062952922,
           1
          ],
          [
           "East Boston",
           42.36692052511178,
           -71.03828528674799,
           1
          ],
          [
           "East Boston",
           42.366928373912366,
           -71.04017264115883,
           1
          ],
          [
           "East Boston",
           42.366959663083335,
           -71.03277789031864,
           1
          ],
          [
           "East Boston",
           42.36709820439286,
           -71.03334924268675,
           1
          ],
          [
           "East Boston",
           42.367126796179946,
           -71.03780591604058,
           1
          ],
          [
           "East Boston",
           42.36731306063387,
           -71.03878924844201,
           1
          ],
          [
           "East Boston",
           42.36735646665322,
           -71.03920033268635,
           1
          ],
          [
           "East Boston",
           42.36772572910221,
           -71.03980251502722,
           1
          ],
          [
           "East Boston",
           42.36777208310531,
           -71.03788730903814,
           1
          ],
          [
           "East Boston",
           42.36781282979623,
           -71.03485019599802,
           1
          ],
          [
           "East Boston",
           42.36798435376804,
           -71.03780897548135,
           1
          ],
          [
           "East Boston",
           42.36800728987766,
           -71.0353179595336,
           1
          ],
          [
           "East Boston",
           42.368104917624294,
           -71.03626170131075,
           1
          ],
          [
           "East Boston",
           42.36833507222235,
           -71.03603397604479,
           1
          ],
          [
           "East Boston",
           42.36849763182431,
           -71.03370610351725,
           1
          ],
          [
           "East Boston",
           42.36856642486891,
           -71.04089838561889,
           1
          ],
          [
           "East Boston",
           42.36860054694839,
           -71.0337863973948,
           1
          ],
          [
           "East Boston",
           42.36866337451226,
           -71.03492955473708,
           1
          ],
          [
           "East Boston",
           42.368933539574705,
           -71.03871041824999,
           1
          ],
          [
           "East Boston",
           42.36902328281249,
           -71.04154459603103,
           1
          ],
          [
           "East Boston",
           42.369094333691635,
           -71.03344142231019,
           1
          ],
          [
           "East Boston",
           42.36919461060086,
           -71.03607045492095,
           1
          ],
          [
           "East Boston",
           42.36924093862753,
           -71.04154478972363,
           1
          ],
          [
           "East Boston",
           42.36925900670464,
           -71.03613369483693,
           1
          ],
          [
           "East Boston",
           42.36947992644604,
           -71.0362596070171,
           1
          ],
          [
           "East Boston",
           42.369529911885216,
           -71.03515085321243,
           1
          ],
          [
           "East Boston",
           42.36961258127057,
           -71.03927683801552,
           1
          ],
          [
           "East Boston",
           42.369965405979706,
           -71.03987489674748,
           1
          ],
          [
           "East Boston",
           42.37049926804039,
           -71.03556083866216,
           1
          ],
          [
           "East Boston",
           42.371116609738905,
           -71.03339768539293,
           1
          ],
          [
           "East Boston",
           42.37199623859463,
           -71.0380073607884,
           1
          ],
          [
           "East Boston",
           42.372080049570144,
           -71.03198308642574,
           1
          ],
          [
           "East Boston",
           42.37234908234539,
           -71.04158968904288,
           1
          ],
          [
           "East Boston",
           42.37376239253955,
           -71.03807668224069,
           1
          ],
          [
           "East Boston",
           42.37416923110453,
           -71.03424002515277,
           1
          ],
          [
           "East Boston",
           42.37441280859101,
           -71.03399091110118,
           1
          ],
          [
           "East Boston",
           42.374505657533184,
           -71.03220529229122,
           1
          ],
          [
           "East Boston",
           42.37484037463057,
           -71.03204553980207,
           1
          ],
          [
           "East Boston",
           42.37496574822696,
           -71.03336978152277,
           1
          ],
          [
           "East Boston",
           42.37505927010074,
           -71.03432593425556,
           1
          ],
          [
           "East Boston",
           42.37510687198061,
           -71.0337126603536,
           1
          ],
          [
           "East Boston",
           42.375658664017465,
           -71.03266072695862,
           1
          ],
          [
           "East Boston",
           42.375742670698116,
           -71.03180237149311,
           1
          ],
          [
           "East Boston",
           42.376193204904254,
           -71.03354034847291,
           1
          ],
          [
           "East Boston",
           42.376572621939,
           -71.03294265772638,
           1
          ],
          [
           "East Boston",
           42.37664360636607,
           -71.03147888791709,
           1
          ],
          [
           "East Boston",
           42.37668853175393,
           -71.03428152050827,
           1
          ],
          [
           "East Boston",
           42.37671712966943,
           -71.03655030183927,
           1
          ],
          [
           "East Boston",
           42.37694735530489,
           -71.03023023664814,
           1
          ],
          [
           "East Boston",
           42.37705140595239,
           -71.0311886562327,
           1
          ],
          [
           "East Boston",
           42.37712966466541,
           -71.0367331689478,
           1
          ],
          [
           "East Boston",
           42.37751972317198,
           -71.0341811802471,
           1
          ],
          [
           "East Boston",
           42.377611839800785,
           -71.0351975764878,
           1
          ],
          [
           "East Boston",
           42.37775680004031,
           -71.03474222341573,
           1
          ],
          [
           "East Boston",
           42.37779633749722,
           -71.03466633086441,
           1
          ],
          [
           "East Boston",
           42.377832873360454,
           -71.03026247489727,
           1
          ],
          [
           "East Boston",
           42.37822137657732,
           -71.03031214548693,
           1
          ],
          [
           "East Boston",
           42.37829767913677,
           -71.03398042597308,
           1
          ],
          [
           "East Boston",
           42.37871045505126,
           -71.03297003098307,
           1
          ],
          [
           "East Boston",
           42.379130763323936,
           -71.03982748413877,
           1
          ],
          [
           "East Boston",
           42.37914284623583,
           -71.03956381332604,
           1
          ],
          [
           "East Boston",
           42.379326764153255,
           -71.03376093729794,
           1
          ],
          [
           "East Boston",
           42.37979971680247,
           -71.03325135790091,
           1
          ],
          [
           "East Boston",
           42.37990035098189,
           -71.0296025401109,
           1
          ],
          [
           "East Boston",
           42.380163416936504,
           -71.03585165649713,
           1
          ],
          [
           "East Boston",
           42.38023267162577,
           -71.0289433747736,
           1
          ],
          [
           "East Boston",
           42.380410973785146,
           -71.0306953422297,
           1
          ],
          [
           "East Boston",
           42.38066057619219,
           -71.03503978822826,
           1
          ],
          [
           "East Boston",
           42.38080839671258,
           -71.03744226099319,
           1
          ],
          [
           "East Boston",
           42.381379178335855,
           -71.03952569661864,
           1
          ],
          [
           "East Boston",
           42.38149456013531,
           -71.0387056415221,
           1
          ],
          [
           "East Boston",
           42.38154190555381,
           -71.03806231898041,
           1
          ],
          [
           "East Boston",
           42.3815861724369,
           -71.02917177296305,
           1
          ],
          [
           "East Boston",
           42.38160865623668,
           -71.03492187894905,
           1
          ],
          [
           "East Boston",
           42.38167016379894,
           -71.03991829438496,
           1
          ],
          [
           "East Boston",
           42.38171107679271,
           -71.0408659353063,
           1
          ],
          [
           "East Boston",
           42.38242833992243,
           -71.03155467471967,
           1
          ],
          [
           "East Boston",
           42.383011200253634,
           -71.0388948279829,
           1
          ],
          [
           "East Boston",
           42.38302131319332,
           -71.00033180127089,
           1
          ],
          [
           "East Boston",
           42.38362468405895,
           -71.02023225706048,
           1
          ],
          [
           "East Boston",
           42.383637057783716,
           -71.00009991969033,
           1
          ],
          [
           "East Boston",
           42.38366040503235,
           -71.00026054426053,
           1
          ],
          [
           "East Boston",
           42.383684892239756,
           -71.03808075641813,
           1
          ],
          [
           "East Boston",
           42.38382803668675,
           -71.00038139328625,
           1
          ],
          [
           "East Boston",
           42.38459710263749,
           -71.00312329412886,
           1
          ],
          [
           "East Boston",
           42.386187112481814,
           -71.00461976225016,
           1
          ],
          [
           "East Boston",
           42.386618593245366,
           -71.00525682071361,
           1
          ],
          [
           "East Boston",
           42.386622868618396,
           -71.00739903485719,
           1
          ],
          [
           "East Boston",
           42.38736001166394,
           -71.01041901965802,
           1
          ],
          [
           "East Boston",
           42.38772842497419,
           -71.01339573383821,
           1
          ],
          [
           "East Boston",
           42.3881729883446,
           -71.01272170912009,
           1
          ],
          [
           "East Boston",
           42.38911961393284,
           -71.00074121139774,
           1
          ],
          [
           "East Boston",
           42.38921070848657,
           -71.00268251833265,
           1
          ],
          [
           "East Boston",
           42.3895306348986,
           -71.0058574277738,
           1
          ],
          [
           "East Boston",
           42.38968172925277,
           -71.00471442388962,
           1
          ],
          [
           "East Boston",
           42.38982827376568,
           -71.00519179830751,
           1
          ],
          [
           "East Boston",
           42.38989750115748,
           -71.00338987041474,
           1
          ],
          [
           "Fenway/Kenmore",
           42.33886860712996,
           -71.10709963799906,
           1
          ],
          [
           "Fenway/Kenmore",
           42.33902000639815,
           -71.1066409301378,
           1
          ],
          [
           "Fenway/Kenmore",
           42.33938278771031,
           -71.10017235240565,
           1
          ],
          [
           "Fenway/Kenmore",
           42.34058426395056,
           -71.09941364223958,
           1
          ],
          [
           "Fenway/Kenmore",
           42.34066596606258,
           -71.10010512662683,
           1
          ],
          [
           "Fenway/Kenmore",
           42.34086101708686,
           -71.08828863604951,
           1
          ],
          [
           "Fenway/Kenmore",
           42.340920812780936,
           -71.09715098175862,
           1
          ],
          [
           "Fenway/Kenmore",
           42.34106024812434,
           -71.09831038367071,
           1
          ],
          [
           "Fenway/Kenmore",
           42.34116407203106,
           -71.09026447274216,
           1
          ],
          [
           "Fenway/Kenmore",
           42.34122489190963,
           -71.0943622960716,
           1
          ],
          [
           "Fenway/Kenmore",
           42.34125006144164,
           -71.0983956814528,
           1
          ],
          [
           "Fenway/Kenmore",
           42.34140073858634,
           -71.08422337234195,
           1
          ],
          [
           "Fenway/Kenmore",
           42.34142533621303,
           -71.09861340686845,
           1
          ],
          [
           "Fenway/Kenmore",
           42.34148305308143,
           -71.08952025969612,
           1
          ],
          [
           "Fenway/Kenmore",
           42.34157934373431,
           -71.0874060516473,
           1
          ],
          [
           "Fenway/Kenmore",
           42.341719032555055,
           -71.08889491975026,
           1
          ],
          [
           "Fenway/Kenmore",
           42.341748825358785,
           -71.09203402386727,
           1
          ],
          [
           "Fenway/Kenmore",
           42.341807827040576,
           -71.08998728516382,
           1
          ],
          [
           "Fenway/Kenmore",
           42.34184082037552,
           -71.1013802676703,
           1
          ],
          [
           "Fenway/Kenmore",
           42.34185766197388,
           -71.08904436916148,
           1
          ],
          [
           "Fenway/Kenmore",
           42.341911181688815,
           -71.10230378993293,
           1
          ],
          [
           "Fenway/Kenmore",
           42.341918191079095,
           -71.09001377006122,
           1
          ],
          [
           "Fenway/Kenmore",
           42.3420103245964,
           -71.08726558589241,
           1
          ],
          [
           "Fenway/Kenmore",
           42.3420573748055,
           -71.08633370764008,
           1
          ],
          [
           "Fenway/Kenmore",
           42.3420629672256,
           -71.09752654588951,
           1
          ],
          [
           "Fenway/Kenmore",
           42.34213477527224,
           -71.10702671182142,
           1
          ],
          [
           "Fenway/Kenmore",
           42.342139532575686,
           -71.0884137184413,
           1
          ],
          [
           "Fenway/Kenmore",
           42.3421438681176,
           -71.098756806957,
           1
          ],
          [
           "Fenway/Kenmore",
           42.342340469850285,
           -71.09100957047681,
           1
          ],
          [
           "Fenway/Kenmore",
           42.34238757407687,
           -71.09725113569735,
           1
          ],
          [
           "Fenway/Kenmore",
           42.342409775993616,
           -71.08670020248447,
           1
          ],
          [
           "Fenway/Kenmore",
           42.34244651085425,
           -71.08705936962791,
           1
          ],
          [
           "Fenway/Kenmore",
           42.34256487175279,
           -71.09661423663702,
           1
          ],
          [
           "Fenway/Kenmore",
           42.34259188863477,
           -71.10111717978636,
           1
          ],
          [
           "Fenway/Kenmore",
           42.342631849591115,
           -71.08757801587305,
           1
          ],
          [
           "Fenway/Kenmore",
           42.342703065311255,
           -71.09623777329331,
           1
          ],
          [
           "Fenway/Kenmore",
           42.34273793782018,
           -71.08843142726289,
           1
          ],
          [
           "Fenway/Kenmore",
           42.34275720922771,
           -71.09012122502668,
           1
          ],
          [
           "Fenway/Kenmore",
           42.342812174111636,
           -71.0977477894277,
           1
          ],
          [
           "Fenway/Kenmore",
           42.34296742058889,
           -71.10251384943079,
           1
          ],
          [
           "Fenway/Kenmore",
           42.34297065784965,
           -71.09981162063914,
           1
          ],
          [
           "Fenway/Kenmore",
           42.34297584607278,
           -71.08793266053452,
           1
          ],
          [
           "Fenway/Kenmore",
           42.34298008229919,
           -71.09438435450514,
           1
          ],
          [
           "Fenway/Kenmore",
           42.34299689044306,
           -71.09949188062751,
           1
          ],
          [
           "Fenway/Kenmore",
           42.34301558306146,
           -71.0998557698006,
           1
          ],
          [
           "Fenway/Kenmore",
           42.3430336391265,
           -71.10060763073669,
           1
          ],
          [
           "Fenway/Kenmore",
           42.343118444607406,
           -71.09383553031367,
           1
          ],
          [
           "Fenway/Kenmore",
           42.343124777885976,
           -71.10143718886964,
           1
          ],
          [
           "Fenway/Kenmore",
           42.34315877577973,
           -71.09434510009854,
           1
          ],
          [
           "Fenway/Kenmore",
           42.343160232924035,
           -71.08574162281444,
           1
          ],
          [
           "Fenway/Kenmore",
           42.34317272439679,
           -71.10119771091831,
           1
          ],
          [
           "Fenway/Kenmore",
           42.3432146879702,
           -71.101006733526,
           1
          ],
          [
           "Fenway/Kenmore",
           42.343221756973186,
           -71.10007916211529,
           1
          ],
          [
           "Fenway/Kenmore",
           42.34324137136411,
           -71.08678332976034,
           1
          ],
          [
           "Fenway/Kenmore",
           42.343256594248366,
           -71.08613203521625,
           1
          ],
          [
           "Fenway/Kenmore",
           42.34326408050333,
           -71.0909115119398,
           1
          ],
          [
           "Fenway/Kenmore",
           42.34326521956145,
           -71.10061666678733,
           1
          ],
          [
           "Fenway/Kenmore",
           42.343299155277364,
           -71.10016290573292,
           1
          ],
          [
           "Fenway/Kenmore",
           42.34330543250397,
           -71.10148920547795,
           1
          ],
          [
           "Fenway/Kenmore",
           42.34335155773515,
           -71.08897082850042,
           1
          ],
          [
           "Fenway/Kenmore",
           42.34337078514997,
           -71.09870840549256,
           1
          ],
          [
           "Fenway/Kenmore",
           42.34337636107528,
           -71.10127793822726,
           1
          ],
          [
           "Fenway/Kenmore",
           42.343388540551736,
           -71.08832040505789,
           1
          ],
          [
           "Fenway/Kenmore",
           42.3433955561153,
           -71.10105888205605,
           1
          ],
          [
           "Fenway/Kenmore",
           42.34340237726134,
           -71.09945478281419,
           1
          ],
          [
           "Fenway/Kenmore",
           42.343405099372866,
           -71.09846945432243,
           1
          ],
          [
           "Fenway/Kenmore",
           42.343450464706656,
           -71.09152371357774,
           1
          ],
          [
           "Fenway/Kenmore",
           42.343452988176544,
           -71.10166759098243,
           1
          ],
          [
           "Fenway/Kenmore",
           42.34345804087656,
           -71.10063537045478,
           1
          ],
          [
           "Fenway/Kenmore",
           42.34347120103421,
           -71.10038331384595,
           1
          ],
          [
           "Fenway/Kenmore",
           42.34349185767582,
           -71.10053674708269,
           1
          ],
          [
           "Fenway/Kenmore",
           42.34349333602471,
           -71.10056169574877,
           1
          ],
          [
           "Fenway/Kenmore",
           42.343495695672885,
           -71.09744934494148,
           1
          ],
          [
           "Fenway/Kenmore",
           42.343517105459256,
           -71.10204141203265,
           1
          ],
          [
           "Fenway/Kenmore",
           42.34354262597277,
           -71.09848601615046,
           1
          ],
          [
           "Fenway/Kenmore",
           42.34356435934461,
           -71.086233441572,
           1
          ],
          [
           "Fenway/Kenmore",
           42.34362171747609,
           -71.09797075902681,
           1
          ],
          [
           "Fenway/Kenmore",
           42.34362397838654,
           -71.09792813561556,
           1
          ],
          [
           "Fenway/Kenmore",
           42.34365442169048,
           -71.10056297431775,
           1
          ],
          [
           "Fenway/Kenmore",
           42.343659746902354,
           -71.09965337626295,
           1
          ],
          [
           "Fenway/Kenmore",
           42.34370039951436,
           -71.09752132395924,
           1
          ],
          [
           "Fenway/Kenmore",
           42.343707748339966,
           -71.08615963886952,
           1
          ],
          [
           "Fenway/Kenmore",
           42.3437215720711,
           -71.08912359024066,
           1
          ],
          [
           "Fenway/Kenmore",
           42.343728808658845,
           -71.09900791813267,
           1
          ],
          [
           "Fenway/Kenmore",
           42.34373315783049,
           -71.09932286904042,
           1
          ],
          [
           "Fenway/Kenmore",
           42.34374891538087,
           -71.09882810819722,
           1
          ],
          [
           "Fenway/Kenmore",
           42.343752897067844,
           -71.10035282684015,
           1
          ],
          [
           "Fenway/Kenmore",
           42.34377187732301,
           -71.10078307596594,
           1
          ],
          [
           "Fenway/Kenmore",
           42.34386365090381,
           -71.0998413496242,
           1
          ],
          [
           "Fenway/Kenmore",
           42.34386614247122,
           -71.10226740968201,
           1
          ],
          [
           "Fenway/Kenmore",
           42.34387262842771,
           -71.09796310187531,
           1
          ],
          [
           "Fenway/Kenmore",
           42.343896219455594,
           -71.09878066169898,
           1
          ],
          [
           "Fenway/Kenmore",
           42.34390103688957,
           -71.08754058969058,
           1
          ],
          [
           "Fenway/Kenmore",
           42.34392158932087,
           -71.09720065389364,
           1
          ],
          [
           "Fenway/Kenmore",
           42.34394424882334,
           -71.0983093544992,
           1
          ],
          [
           "Fenway/Kenmore",
           42.34394512362957,
           -71.1002404895735,
           1
          ],
          [
           "Fenway/Kenmore",
           42.34399794480785,
           -71.09661564844754,
           1
          ],
          [
           "Fenway/Kenmore",
           42.344003650308316,
           -71.09772749589216,
           1
          ],
          [
           "Fenway/Kenmore",
           42.344009807626975,
           -71.08808873027532,
           1
          ],
          [
           "Fenway/Kenmore",
           42.34401101498641,
           -71.09881498886284,
           1
          ],
          [
           "Fenway/Kenmore",
           42.34403683136278,
           -71.09470793139046,
           1
          ],
          [
           "Fenway/Kenmore",
           42.34405744614325,
           -71.09806546039562,
           1
          ],
          [
           "Fenway/Kenmore",
           42.34406564770265,
           -71.10174320278966,
           1
          ],
          [
           "Fenway/Kenmore",
           42.34408527141049,
           -71.0964367666906,
           1
          ],
          [
           "Fenway/Kenmore",
           42.34412911452888,
           -71.09050916713635,
           1
          ],
          [
           "Fenway/Kenmore",
           42.34414641149264,
           -71.08795154871889,
           1
          ],
          [
           "Fenway/Kenmore",
           42.34417120641239,
           -71.08938917836798,
           1
          ],
          [
           "Fenway/Kenmore",
           42.3441748042941,
           -71.09847907805019,
           1
          ],
          [
           "Fenway/Kenmore",
           42.344239141790574,
           -71.08935568628476,
           1
          ],
          [
           "Fenway/Kenmore",
           42.34431251506554,
           -71.09818505666581,
           1
          ],
          [
           "Fenway/Kenmore",
           42.34432354861778,
           -71.09756328902589,
           1
          ],
          [
           "Fenway/Kenmore",
           42.34432418748784,
           -71.09916558282711,
           1
          ],
          [
           "Fenway/Kenmore",
           42.34433172722542,
           -71.10097607447086,
           1
          ],
          [
           "Fenway/Kenmore",
           42.344422942721216,
           -71.09890810231927,
           1
          ],
          [
           "Fenway/Kenmore",
           42.34444183694495,
           -71.10191008403855,
           1
          ],
          [
           "Fenway/Kenmore",
           42.344500447366784,
           -71.10204139520458,
           1
          ],
          [
           "Fenway/Kenmore",
           42.34452373216799,
           -71.08683719659065,
           1
          ],
          [
           "Fenway/Kenmore",
           42.34453695841538,
           -71.0872044500859,
           1
          ],
          [
           "Fenway/Kenmore",
           42.344542940595176,
           -71.09930837828419,
           1
          ],
          [
           "Fenway/Kenmore",
           42.34455666558026,
           -71.09865503327505,
           1
          ],
          [
           "Fenway/Kenmore",
           42.34455755054201,
           -71.10136772740505,
           1
          ],
          [
           "Fenway/Kenmore",
           42.34457204336622,
           -71.09980814904063,
           1
          ],
          [
           "Fenway/Kenmore",
           42.344612051493186,
           -71.0879275502053,
           1
          ],
          [
           "Fenway/Kenmore",
           42.34462657762814,
           -71.09490790158945,
           1
          ],
          [
           "Fenway/Kenmore",
           42.34464188501917,
           -71.0989853611843,
           1
          ],
          [
           "Fenway/Kenmore",
           42.34466002570738,
           -71.10043857054194,
           1
          ],
          [
           "Fenway/Kenmore",
           42.34468694358433,
           -71.09836458279456,
           1
          ],
          [
           "Fenway/Kenmore",
           42.34469619798434,
           -71.10114763507123,
           1
          ],
          [
           "Fenway/Kenmore",
           42.34470967313529,
           -71.0977716673706,
           1
          ],
          [
           "Fenway/Kenmore",
           42.34471795950652,
           -71.0993000485672,
           1
          ],
          [
           "Fenway/Kenmore",
           42.344723596176884,
           -71.10009714488663,
           1
          ],
          [
           "Fenway/Kenmore",
           42.34472737509119,
           -71.09981247312481,
           1
          ],
          [
           "Fenway/Kenmore",
           42.34474158295014,
           -71.09970459637874,
           1
          ],
          [
           "Fenway/Kenmore",
           42.34475584567394,
           -71.10062117823438,
           1
          ],
          [
           "Fenway/Kenmore",
           42.344796782290146,
           -71.10174879415875,
           1
          ],
          [
           "Fenway/Kenmore",
           42.3448346779175,
           -71.1000629656702,
           1
          ],
          [
           "Fenway/Kenmore",
           42.34483908010575,
           -71.08935480178855,
           1
          ],
          [
           "Fenway/Kenmore",
           42.344850179708594,
           -71.09752630598851,
           1
          ],
          [
           "Fenway/Kenmore",
           42.3448650479359,
           -71.10259974303018,
           1
          ],
          [
           "Fenway/Kenmore",
           42.34488256371823,
           -71.1013972866695,
           1
          ],
          [
           "Fenway/Kenmore",
           42.344894929169975,
           -71.10003130040046,
           1
          ],
          [
           "Fenway/Kenmore",
           42.34492195078808,
           -71.10009487037276,
           1
          ],
          [
           "Fenway/Kenmore",
           42.34492728061189,
           -71.09931152792825,
           1
          ],
          [
           "Fenway/Kenmore",
           42.344959775013045,
           -71.10183348705235,
           1
          ],
          [
           "Fenway/Kenmore",
           42.3449627659556,
           -71.1045331067329,
           1
          ],
          [
           "Fenway/Kenmore",
           42.34496492832496,
           -71.09922517382306,
           1
          ],
          [
           "Fenway/Kenmore",
           42.34500940952589,
           -71.09872441400223,
           1
          ],
          [
           "Fenway/Kenmore",
           42.34504432485178,
           -71.10009298346712,
           1
          ],
          [
           "Fenway/Kenmore",
           42.34505188467318,
           -71.0982486266633,
           1
          ],
          [
           "Fenway/Kenmore",
           42.345061835994436,
           -71.10172523244051,
           1
          ],
          [
           "Fenway/Kenmore",
           42.34510900193237,
           -71.09667172524709,
           1
          ],
          [
           "Fenway/Kenmore",
           42.34511496657015,
           -71.10037999942826,
           1
          ],
          [
           "Fenway/Kenmore",
           42.34513001358319,
           -71.0907417961298,
           1
          ],
          [
           "Fenway/Kenmore",
           42.345165258442336,
           -71.1002281921089,
           1
          ],
          [
           "Fenway/Kenmore",
           42.34517102063217,
           -71.10049715916622,
           1
          ],
          [
           "Fenway/Kenmore",
           42.34517107002555,
           -71.0879522842409,
           1
          ],
          [
           "Fenway/Kenmore",
           42.345200652691716,
           -71.08891765491879,
           1
          ],
          [
           "Fenway/Kenmore",
           42.345222614522406,
           -71.10056885149133,
           1
          ],
          [
           "Fenway/Kenmore",
           42.34522598419493,
           -71.08771842663002,
           1
          ],
          [
           "Fenway/Kenmore",
           42.34523403119788,
           -71.10037894040879,
           1
          ],
          [
           "Fenway/Kenmore",
           42.34525254120465,
           -71.10416801082168,
           1
          ],
          [
           "Fenway/Kenmore",
           42.345257343838895,
           -71.1017419992736,
           1
          ],
          [
           "Fenway/Kenmore",
           42.345259217849744,
           -71.08827635019786,
           1
          ],
          [
           "Fenway/Kenmore",
           42.34535220761722,
           -71.10203036617204,
           1
          ],
          [
           "Fenway/Kenmore",
           42.34537074680644,
           -71.0889434641747,
           1
          ],
          [
           "Fenway/Kenmore",
           42.345377547846496,
           -71.10001766211451,
           1
          ],
          [
           "Fenway/Kenmore",
           42.3454216464319,
           -71.09988207830347,
           1
          ],
          [
           "Fenway/Kenmore",
           42.34548324231236,
           -71.10137047880296,
           1
          ],
          [
           "Fenway/Kenmore",
           42.345484415063545,
           -71.10207410221126,
           1
          ],
          [
           "Fenway/Kenmore",
           42.345540519508255,
           -71.10235883853902,
           1
          ],
          [
           "Fenway/Kenmore",
           42.34559710815953,
           -71.08781270864434,
           1
          ],
          [
           "Fenway/Kenmore",
           42.34565345606737,
           -71.10000603751296,
           1
          ],
          [
           "Fenway/Kenmore",
           42.34566831507417,
           -71.10465152038742,
           1
          ],
          [
           "Fenway/Kenmore",
           42.34569073544391,
           -71.09326627246774,
           1
          ],
          [
           "Fenway/Kenmore",
           42.345692770394365,
           -71.0877582347425,
           1
          ],
          [
           "Fenway/Kenmore",
           42.345705578513936,
           -71.08952424209427,
           1
          ],
          [
           "Fenway/Kenmore",
           42.345817498878546,
           -71.08757334848904,
           1
          ],
          [
           "Fenway/Kenmore",
           42.345823454552594,
           -71.08936151129126,
           1
          ],
          [
           "Fenway/Kenmore",
           42.345853561678574,
           -71.10363227282186,
           1
          ],
          [
           "Fenway/Kenmore",
           42.345854314522036,
           -71.08827174705465,
           1
          ],
          [
           "Fenway/Kenmore",
           42.34585845836077,
           -71.08958270661267,
           1
          ],
          [
           "Fenway/Kenmore",
           42.34585932124852,
           -71.10011757002653,
           1
          ],
          [
           "Fenway/Kenmore",
           42.34590449189773,
           -71.10469067280206,
           1
          ],
          [
           "Fenway/Kenmore",
           42.345926828493255,
           -71.10416646741119,
           1
          ],
          [
           "Fenway/Kenmore",
           42.34598257268191,
           -71.08971660461708,
           1
          ],
          [
           "Fenway/Kenmore",
           42.345993782692354,
           -71.08864693343483,
           1
          ],
          [
           "Fenway/Kenmore",
           42.34612850259963,
           -71.10656394116631,
           1
          ],
          [
           "Fenway/Kenmore",
           42.34615600803886,
           -71.09251527861801,
           1
          ],
          [
           "Fenway/Kenmore",
           42.34618873365362,
           -71.08887220972629,
           1
          ],
          [
           "Fenway/Kenmore",
           42.346214572781896,
           -71.09372008506031,
           1
          ],
          [
           "Fenway/Kenmore",
           42.34621843364542,
           -71.0884587364036,
           1
          ],
          [
           "Fenway/Kenmore",
           42.34626084236082,
           -71.09957111666637,
           1
          ],
          [
           "Fenway/Kenmore",
           42.346264426362055,
           -71.10295984636005,
           1
          ],
          [
           "Fenway/Kenmore",
           42.3462681379072,
           -71.10431989090918,
           1
          ],
          [
           "Fenway/Kenmore",
           42.346334759764105,
           -71.08832312205183,
           1
          ],
          [
           "Fenway/Kenmore",
           42.346340618880035,
           -71.09005111125059,
           1
          ],
          [
           "Fenway/Kenmore",
           42.34639848830777,
           -71.08833422206777,
           1
          ],
          [
           "Fenway/Kenmore",
           42.34642037798823,
           -71.09368977215709,
           1
          ],
          [
           "Fenway/Kenmore",
           42.346455204678826,
           -71.10340581785736,
           1
          ],
          [
           "Fenway/Kenmore",
           42.346456282737456,
           -71.10415928483286,
           1
          ],
          [
           "Fenway/Kenmore",
           42.34648892987342,
           -71.09214601176934,
           1
          ],
          [
           "Fenway/Kenmore",
           42.346549850616825,
           -71.09290997662639,
           1
          ],
          [
           "Fenway/Kenmore",
           42.34668620128948,
           -71.09852777006469,
           1
          ],
          [
           "Fenway/Kenmore",
           42.34671824075804,
           -71.08785507554508,
           1
          ],
          [
           "Fenway/Kenmore",
           42.34674633742564,
           -71.09977194774844,
           1
          ],
          [
           "Fenway/Kenmore",
           42.346784698665424,
           -71.08951117990317,
           1
          ],
          [
           "Fenway/Kenmore",
           42.346858065284366,
           -71.0950933183018,
           1
          ],
          [
           "Fenway/Kenmore",
           42.34689009807004,
           -71.1038083917513,
           1
          ],
          [
           "Fenway/Kenmore",
           42.346908960636355,
           -71.10492804923544,
           1
          ],
          [
           "Fenway/Kenmore",
           42.34692068773777,
           -71.09449196369121,
           1
          ],
          [
           "Fenway/Kenmore",
           42.347062381218976,
           -71.09469223198828,
           1
          ],
          [
           "Fenway/Kenmore",
           42.34712940716668,
           -71.09444160267505,
           1
          ],
          [
           "Fenway/Kenmore",
           42.34715285129972,
           -71.09299046608885,
           1
          ],
          [
           "Fenway/Kenmore",
           42.34715628319671,
           -71.08932037429881,
           1
          ],
          [
           "Fenway/Kenmore",
           42.34737368918427,
           -71.08906278810224,
           1
          ],
          [
           "Fenway/Kenmore",
           42.34743398890462,
           -71.10256420815412,
           1
          ],
          [
           "Fenway/Kenmore",
           42.34753064431261,
           -71.10353120295443,
           1
          ],
          [
           "Fenway/Kenmore",
           42.34753480529132,
           -71.08893981026479,
           1
          ],
          [
           "Fenway/Kenmore",
           42.34766793373452,
           -71.08939147035109,
           1
          ],
          [
           "Fenway/Kenmore",
           42.347683222959695,
           -71.1066369849853,
           1
          ],
          [
           "Fenway/Kenmore",
           42.347703669133296,
           -71.10262046145792,
           1
          ],
          [
           "Fenway/Kenmore",
           42.34771223310568,
           -71.0900557427862,
           1
          ],
          [
           "Fenway/Kenmore",
           42.34772633759232,
           -71.09394751834036,
           1
          ],
          [
           "Fenway/Kenmore",
           42.34773309500346,
           -71.10347595359238,
           1
          ],
          [
           "Fenway/Kenmore",
           42.34793449772825,
           -71.09757989112373,
           1
          ],
          [
           "Fenway/Kenmore",
           42.34808230881935,
           -71.10160119450103,
           1
          ],
          [
           "Fenway/Kenmore",
           42.34823296137953,
           -71.09454743882235,
           1
          ],
          [
           "Fenway/Kenmore",
           42.34861778717707,
           -71.0922023606865,
           1
          ],
          [
           "Fenway/Kenmore",
           42.34867013464364,
           -71.09442102048162,
           1
          ],
          [
           "Fenway/Kenmore",
           42.34914402100308,
           -71.09830532558644,
           1
          ],
          [
           "Fenway/Kenmore",
           42.34920943200752,
           -71.09281102192287,
           1
          ],
          [
           "Fenway/Kenmore",
           42.34947355506917,
           -71.09264659076742,
           1
          ],
          [
           "Fenway/Kenmore",
           42.34978248340333,
           -71.09596831896908,
           1
          ],
          [
           "Fenway/Kenmore",
           42.34980103768957,
           -71.09535022756495,
           1
          ],
          [
           "Fenway/Kenmore",
           42.349869561971744,
           -71.09886145358124,
           1
          ],
          [
           "Fenway/Kenmore",
           42.35009465594818,
           -71.10681797693022,
           1
          ],
          [
           "Fenway/Kenmore",
           42.350234161439964,
           -71.09295487209405,
           1
          ],
          [
           "Fenway/Kenmore",
           42.350282991983455,
           -71.09423941766819,
           1
          ],
          [
           "Fenway/Kenmore",
           42.35033913578852,
           -71.10117365617155,
           1
          ],
          [
           "Fenway/Kenmore",
           42.35045050612738,
           -71.09289954066196,
           1
          ],
          [
           "Fenway/Kenmore",
           42.35047342713808,
           -71.09723150233542,
           1
          ],
          [
           "Fenway/Kenmore",
           42.350479375457795,
           -71.09375666632826,
           1
          ],
          [
           "Fenway/Kenmore",
           42.350600927736245,
           -71.0947506114408,
           1
          ],
          [
           "Fenway/Kenmore",
           42.35062446583269,
           -71.09486023227228,
           1
          ],
          [
           "Fenway/Kenmore",
           42.350690326175155,
           -71.09782767375795,
           1
          ],
          [
           "Fenway/Kenmore",
           42.35076325444177,
           -71.09525948182029,
           1
          ],
          [
           "Fenway/Kenmore",
           42.350870020777435,
           -71.10197771354284,
           1
          ],
          [
           "Fenway/Kenmore",
           42.350929229242354,
           -71.09919306244385,
           1
          ],
          [
           "Fenway/Kenmore",
           42.3509751137914,
           -71.09750848108966,
           1
          ],
          [
           "Financial District",
           42.35737600293904,
           -71.05350942943257,
           1
          ],
          [
           "Financial District",
           42.357833273725426,
           -71.0550658488574,
           1
          ],
          [
           "Financial District",
           42.357886515918324,
           -71.05395895756246,
           1
          ],
          [
           "Financial District",
           42.357935801896,
           -71.05221256305288,
           1
          ],
          [
           "Financial District",
           42.35797600459186,
           -71.05307288174228,
           1
          ],
          [
           "Financial District",
           42.358060702118564,
           -71.05266926285083,
           1
          ],
          [
           "Financial District",
           42.358149489384964,
           -71.05479106560645,
           1
          ],
          [
           "Financial District",
           42.35858382193583,
           -71.05269740046626,
           1
          ],
          [
           "Financial District",
           42.35859014657661,
           -71.05514432489859,
           1
          ],
          [
           "Financial District",
           42.35864735308525,
           -71.05438976467491,
           1
          ],
          [
           "Financial District",
           42.35871635132407,
           -71.0537119640439,
           1
          ],
          [
           "Financial District",
           42.3592631619682,
           -71.05291766335333,
           1
          ],
          [
           "Financial District",
           42.359319184254645,
           -71.05319415858384,
           1
          ],
          [
           "Government Center",
           42.35929058460621,
           -71.06086325369459,
           1
          ],
          [
           "Government Center",
           42.362494693939475,
           -71.06271024806108,
           1
          ],
          [
           "Government Center",
           42.36277278173111,
           -71.05939337473566,
           1
          ],
          [
           "Harvard Square",
           42.37372431771168,
           -71.12188782813831,
           1
          ],
          [
           "Harvard Square",
           42.373755762249615,
           -71.12211638116534,
           1
          ],
          [
           "Hyde Park",
           42.235941807706816,
           -71.13246485826544,
           1
          ],
          [
           "Hyde Park",
           42.235968547261294,
           -71.13151373566542,
           1
          ],
          [
           "Hyde Park",
           42.23615182173648,
           -71.12721617790893,
           1
          ],
          [
           "Hyde Park",
           42.23679257081057,
           -71.13132970918468,
           1
          ],
          [
           "Hyde Park",
           42.23688869235556,
           -71.13291248005028,
           1
          ],
          [
           "Hyde Park",
           42.244045171969134,
           -71.11786431830197,
           1
          ],
          [
           "Hyde Park",
           42.24448148912343,
           -71.11683436059964,
           1
          ],
          [
           "Hyde Park",
           42.246520316300725,
           -71.1162317738424,
           1
          ],
          [
           "Hyde Park",
           42.25261003313096,
           -71.1161565870788,
           1
          ],
          [
           "Hyde Park",
           42.25486440537459,
           -71.12736660552862,
           1
          ],
          [
           "Hyde Park",
           42.25560610352787,
           -71.12127529128287,
           1
          ],
          [
           "Hyde Park",
           42.25933936767198,
           -71.11780848903986,
           1
          ],
          [
           "Hyde Park",
           42.25970386242009,
           -71.11936524247335,
           1
          ],
          [
           "Hyde Park",
           42.261182947237906,
           -71.11988802680554,
           1
          ],
          [
           "Hyde Park",
           42.26137965403779,
           -71.11797685617259,
           1
          ],
          [
           "Hyde Park",
           42.26224662885471,
           -71.11386579731206,
           1
          ],
          [
           "Hyde Park",
           42.26288685137828,
           -71.1207264475261,
           1
          ],
          [
           "Hyde Park",
           42.263718401625574,
           -71.12021696528252,
           1
          ],
          [
           "Hyde Park",
           42.265197119757644,
           -71.10988075487049,
           1
          ],
          [
           "Hyde Park",
           42.266928193358225,
           -71.10242030832207,
           1
          ],
          [
           "Hyde Park",
           42.26769074086153,
           -71.12566041237746,
           1
          ],
          [
           "Hyde Park",
           42.2677338343861,
           -71.1304655247706,
           1
          ],
          [
           "Hyde Park",
           42.26895526148693,
           -71.103834795558,
           1
          ],
          [
           "Hyde Park",
           42.26998701463762,
           -71.11649405738541,
           1
          ],
          [
           "Hyde Park",
           42.35071128894416,
           -71.0627487600469,
           1
          ],
          [
           "Jamaica Plain",
           42.28825811306717,
           -71.11306691796358,
           1
          ],
          [
           "Jamaica Plain",
           42.28965254884459,
           -71.11472079034709,
           1
          ],
          [
           "Jamaica Plain",
           42.29050283678629,
           -71.11642163691592,
           1
          ],
          [
           "Jamaica Plain",
           42.29098869791822,
           -71.11273710117392,
           1
          ],
          [
           "Jamaica Plain",
           42.29106052288582,
           -71.11593555432006,
           1
          ],
          [
           "Jamaica Plain",
           42.29128816246878,
           -71.11396006312367,
           1
          ],
          [
           "Jamaica Plain",
           42.2924433773244,
           -71.11790285740781,
           1
          ],
          [
           "Jamaica Plain",
           42.29366807552507,
           -71.1178941365324,
           1
          ],
          [
           "Jamaica Plain",
           42.294442148764404,
           -71.1199453778794,
           1
          ],
          [
           "Jamaica Plain",
           42.29552806799693,
           -71.11929019439627,
           1
          ],
          [
           "Jamaica Plain",
           42.295549244538655,
           -71.11354968974973,
           1
          ],
          [
           "Jamaica Plain",
           42.295586946398714,
           -71.11941563945955,
           1
          ],
          [
           "Jamaica Plain",
           42.29559333963887,
           -71.11530145575897,
           1
          ],
          [
           "Jamaica Plain",
           42.29572299757349,
           -71.11942117574478,
           1
          ],
          [
           "Jamaica Plain",
           42.2964450759094,
           -71.11118779742438,
           1
          ],
          [
           "Jamaica Plain",
           42.29661804078575,
           -71.11369880978881,
           1
          ],
          [
           "Jamaica Plain",
           42.297155077033906,
           -71.11190355685281,
           1
          ],
          [
           "Jamaica Plain",
           42.2974047973222,
           -71.1139137340823,
           1
          ],
          [
           "Jamaica Plain",
           42.29763812447256,
           -71.11399252456933,
           1
          ],
          [
           "Jamaica Plain",
           42.29812412303772,
           -71.11413548740815,
           1
          ],
          [
           "Jamaica Plain",
           42.29816032662961,
           -71.11153003037721,
           1
          ],
          [
           "Jamaica Plain",
           42.29847143523319,
           -71.11065808536799,
           1
          ],
          [
           "Jamaica Plain",
           42.298566869256746,
           -71.11239521627073,
           1
          ],
          [
           "Jamaica Plain",
           42.298580472443454,
           -71.11026724947551,
           1
          ],
          [
           "Jamaica Plain",
           42.2987085828295,
           -71.11250952324194,
           1
          ],
          [
           "Jamaica Plain",
           42.29877631582161,
           -71.11159713499715,
           1
          ],
          [
           "Jamaica Plain",
           42.29956291644425,
           -71.11283944617206,
           1
          ],
          [
           "Jamaica Plain",
           42.299587787693476,
           -71.11178023080245,
           1
          ],
          [
           "Jamaica Plain",
           42.299823779229776,
           -71.1125721982785,
           1
          ],
          [
           "Jamaica Plain",
           42.29985744012215,
           -71.11235604348677,
           1
          ],
          [
           "Jamaica Plain",
           42.30026388087917,
           -71.11180739447572,
           1
          ],
          [
           "Jamaica Plain",
           42.300734044135574,
           -71.11431096653907,
           1
          ],
          [
           "Jamaica Plain",
           42.30089711317004,
           -71.1119677817735,
           1
          ],
          [
           "Jamaica Plain",
           42.301890193436364,
           -71.12908357888134,
           1
          ],
          [
           "Jamaica Plain",
           42.30236440084767,
           -71.11490982290198,
           1
          ],
          [
           "Jamaica Plain",
           42.30248683101914,
           -71.11331372851822,
           1
          ],
          [
           "Jamaica Plain",
           42.30334665895726,
           -71.10497371588909,
           1
          ],
          [
           "Jamaica Plain",
           42.30337106614937,
           -71.11500731218838,
           1
          ],
          [
           "Jamaica Plain",
           42.3035452888029,
           -71.10589216211305,
           1
          ],
          [
           "Jamaica Plain",
           42.30361487406617,
           -71.12921449284401,
           1
          ],
          [
           "Jamaica Plain",
           42.30370464676229,
           -71.11397057117235,
           1
          ],
          [
           "Jamaica Plain",
           42.30376309732182,
           -71.1140026250641,
           1
          ],
          [
           "Jamaica Plain",
           42.30398160452899,
           -71.11848461147696,
           1
          ],
          [
           "Jamaica Plain",
           42.303984557617724,
           -71.10449360644688,
           1
          ],
          [
           "Jamaica Plain",
           42.30433800980035,
           -71.10871729533055,
           1
          ],
          [
           "Jamaica Plain",
           42.304424401841324,
           -71.11429863527867,
           1
          ],
          [
           "Jamaica Plain",
           42.30443377187232,
           -71.10967688765845,
           1
          ],
          [
           "Jamaica Plain",
           42.30454928375496,
           -71.11553158945944,
           1
          ],
          [
           "Jamaica Plain",
           42.30455930241627,
           -71.11364252468704,
           1
          ],
          [
           "Jamaica Plain",
           42.30466018864578,
           -71.1088925116655,
           1
          ],
          [
           "Jamaica Plain",
           42.3048433293264,
           -71.10627115826995,
           1
          ],
          [
           "Jamaica Plain",
           42.305034221507675,
           -71.10333144398088,
           1
          ],
          [
           "Jamaica Plain",
           42.305088311340114,
           -71.10735816883991,
           1
          ],
          [
           "Jamaica Plain",
           42.305094658671926,
           -71.11347197529106,
           1
          ],
          [
           "Jamaica Plain",
           42.30510762836565,
           -71.1064329714123,
           1
          ],
          [
           "Jamaica Plain",
           42.305142129994884,
           -71.10732685642546,
           1
          ],
          [
           "Jamaica Plain",
           42.30516878181586,
           -71.11290752873131,
           1
          ],
          [
           "Jamaica Plain",
           42.305376789378734,
           -71.11324413343733,
           1
          ],
          [
           "Jamaica Plain",
           42.30557707947496,
           -71.11367642052262,
           1
          ],
          [
           "Jamaica Plain",
           42.30571166319029,
           -71.1056671002783,
           1
          ],
          [
           "Jamaica Plain",
           42.3058133625616,
           -71.11259651201156,
           1
          ],
          [
           "Jamaica Plain",
           42.30595038846473,
           -71.10489325104669,
           1
          ],
          [
           "Jamaica Plain",
           42.30596576341033,
           -71.1087761022673,
           1
          ],
          [
           "Jamaica Plain",
           42.30598912781584,
           -71.10334861115408,
           1
          ],
          [
           "Jamaica Plain",
           42.306017507714095,
           -71.10953838978847,
           1
          ],
          [
           "Jamaica Plain",
           42.30606393566502,
           -71.11516053902132,
           1
          ],
          [
           "Jamaica Plain",
           42.306172286643054,
           -71.10670344232828,
           1
          ],
          [
           "Jamaica Plain",
           42.30624803195792,
           -71.10890836726516,
           1
          ],
          [
           "Jamaica Plain",
           42.30633268571335,
           -71.11902460456069,
           1
          ],
          [
           "Jamaica Plain",
           42.306396022523614,
           -71.10593528533563,
           1
          ],
          [
           "Jamaica Plain",
           42.30640988856899,
           -71.11151038708401,
           1
          ],
          [
           "Jamaica Plain",
           42.30649689949284,
           -71.1116203010471,
           1
          ],
          [
           "Jamaica Plain",
           42.30653907278417,
           -71.11789285939362,
           1
          ],
          [
           "Jamaica Plain",
           42.306811532274814,
           -71.1105244224708,
           1
          ],
          [
           "Jamaica Plain",
           42.30683414172092,
           -71.11331230827804,
           1
          ],
          [
           "Jamaica Plain",
           42.3068796497014,
           -71.11231783776945,
           1
          ],
          [
           "Jamaica Plain",
           42.30692771656086,
           -71.107893860945,
           1
          ],
          [
           "Jamaica Plain",
           42.30694320005583,
           -71.1140157501951,
           1
          ],
          [
           "Jamaica Plain",
           42.30703672295021,
           -71.10336802125957,
           1
          ],
          [
           "Jamaica Plain",
           42.30704884694953,
           -71.1166241277204,
           1
          ],
          [
           "Jamaica Plain",
           42.30711033673986,
           -71.10582362671403,
           1
          ],
          [
           "Jamaica Plain",
           42.30720226358175,
           -71.11958890231001,
           1
          ],
          [
           "Jamaica Plain",
           42.30725435749261,
           -71.11424733591423,
           1
          ],
          [
           "Jamaica Plain",
           42.30757425614119,
           -71.13463036679991,
           1
          ],
          [
           "Jamaica Plain",
           42.307767972414716,
           -71.11625789047193,
           1
          ],
          [
           "Jamaica Plain",
           42.3078157837662,
           -71.11674523568081,
           1
          ],
          [
           "Jamaica Plain",
           42.30794791179289,
           -71.10929998832164,
           1
          ],
          [
           "Jamaica Plain",
           42.307974813109155,
           -71.11622135298697,
           1
          ],
          [
           "Jamaica Plain",
           42.30826236397657,
           -71.11065976620097,
           1
          ],
          [
           "Jamaica Plain",
           42.308293290029226,
           -71.12399111717572,
           1
          ],
          [
           "Jamaica Plain",
           42.30841063964904,
           -71.10132043298741,
           1
          ],
          [
           "Jamaica Plain",
           42.308615263510774,
           -71.11488311298572,
           1
          ],
          [
           "Jamaica Plain",
           42.308660543894284,
           -71.10156432201525,
           1
          ],
          [
           "Jamaica Plain",
           42.308717208857495,
           -71.11051775662285,
           1
          ],
          [
           "Jamaica Plain",
           42.30873579543035,
           -71.09977036667159,
           1
          ],
          [
           "Jamaica Plain",
           42.30881607884145,
           -71.11392840097395,
           1
          ],
          [
           "Jamaica Plain",
           42.30883693983967,
           -71.11935092313678,
           1
          ],
          [
           "Jamaica Plain",
           42.30885190033849,
           -71.11643175971686,
           1
          ],
          [
           "Jamaica Plain",
           42.308897967555396,
           -71.11868977322706,
           1
          ],
          [
           "Jamaica Plain",
           42.308948421885546,
           -71.11416180689504,
           1
          ],
          [
           "Jamaica Plain",
           42.309049862943375,
           -71.11253858596702,
           1
          ],
          [
           "Jamaica Plain",
           42.309062746277796,
           -71.11435439589225,
           1
          ],
          [
           "Jamaica Plain",
           42.30906284664378,
           -71.11141973305921,
           1
          ],
          [
           "Jamaica Plain",
           42.30907389692646,
           -71.11254191159419,
           1
          ],
          [
           "Jamaica Plain",
           42.30918196271777,
           -71.1104931014882,
           1
          ],
          [
           "Jamaica Plain",
           42.309200042544475,
           -71.11836465855009,
           1
          ],
          [
           "Jamaica Plain",
           42.309312424581954,
           -71.11711989439625,
           1
          ],
          [
           "Jamaica Plain",
           42.30932885567064,
           -71.11764280445091,
           1
          ],
          [
           "Jamaica Plain",
           42.309356585821945,
           -71.11682730260223,
           1
          ],
          [
           "Jamaica Plain",
           42.309478248320744,
           -71.09930721341063,
           1
          ],
          [
           "Jamaica Plain",
           42.309502299330454,
           -71.11675448454865,
           1
          ],
          [
           "Jamaica Plain",
           42.30956049227253,
           -71.10342180495736,
           1
          ],
          [
           "Jamaica Plain",
           42.30957367789852,
           -71.10629240857683,
           1
          ],
          [
           "Jamaica Plain",
           42.309632289697525,
           -71.11621848265172,
           1
          ],
          [
           "Jamaica Plain",
           42.309701158494384,
           -71.11833423971592,
           1
          ],
          [
           "Jamaica Plain",
           42.30977751293719,
           -71.11879574479485,
           1
          ],
          [
           "Jamaica Plain",
           42.30983484647106,
           -71.11457927159456,
           1
          ],
          [
           "Jamaica Plain",
           42.30983835275251,
           -71.10752400155785,
           1
          ],
          [
           "Jamaica Plain",
           42.30988682257417,
           -71.11789702317628,
           1
          ],
          [
           "Jamaica Plain",
           42.309920555941154,
           -71.11072691758285,
           1
          ],
          [
           "Jamaica Plain",
           42.30997682845222,
           -71.10962020956268,
           1
          ],
          [
           "Jamaica Plain",
           42.310008938431984,
           -71.10176364947394,
           1
          ],
          [
           "Jamaica Plain",
           42.31005424705418,
           -71.10711518817013,
           1
          ],
          [
           "Jamaica Plain",
           42.310081941514724,
           -71.11967770213874,
           1
          ],
          [
           "Jamaica Plain",
           42.31012523517614,
           -71.1028771953959,
           1
          ],
          [
           "Jamaica Plain",
           42.31021302681578,
           -71.10143683020078,
           1
          ],
          [
           "Jamaica Plain",
           42.31026209376064,
           -71.11257439993145,
           1
          ],
          [
           "Jamaica Plain",
           42.31039502223525,
           -71.11838026420132,
           1
          ],
          [
           "Jamaica Plain",
           42.3106308513631,
           -71.11184354566159,
           1
          ],
          [
           "Jamaica Plain",
           42.310861936822796,
           -71.09922327493409,
           1
          ],
          [
           "Jamaica Plain",
           42.31097645315618,
           -71.1041618575167,
           1
          ],
          [
           "Jamaica Plain",
           42.3110232774222,
           -71.11899338510045,
           1
          ],
          [
           "Jamaica Plain",
           42.3112105796256,
           -71.10200966765208,
           1
          ],
          [
           "Jamaica Plain",
           42.31121241933621,
           -71.11191178759881,
           1
          ],
          [
           "Jamaica Plain",
           42.31123369710613,
           -71.10343442689604,
           1
          ],
          [
           "Jamaica Plain",
           42.3113139741088,
           -71.1161706912694,
           1
          ],
          [
           "Jamaica Plain",
           42.311437963659955,
           -71.11864462353653,
           1
          ],
          [
           "Jamaica Plain",
           42.311471674493305,
           -71.10529985856851,
           1
          ],
          [
           "Jamaica Plain",
           42.311531156866266,
           -71.09896775692144,
           1
          ],
          [
           "Jamaica Plain",
           42.311581941500414,
           -71.10412648796216,
           1
          ],
          [
           "Jamaica Plain",
           42.31158242973417,
           -71.11170822620524,
           1
          ],
          [
           "Jamaica Plain",
           42.31161779138293,
           -71.10492935003708,
           1
          ],
          [
           "Jamaica Plain",
           42.31161781831933,
           -71.10385272556012,
           1
          ],
          [
           "Jamaica Plain",
           42.3116187482491,
           -71.10910186178728,
           1
          ],
          [
           "Jamaica Plain",
           42.311678909359316,
           -71.10613378330365,
           1
          ],
          [
           "Jamaica Plain",
           42.31169373635401,
           -71.10116460144604,
           1
          ],
          [
           "Jamaica Plain",
           42.311712487300575,
           -71.11818368689809,
           1
          ],
          [
           "Jamaica Plain",
           42.311758624583184,
           -71.11183648946215,
           1
          ],
          [
           "Jamaica Plain",
           42.31179031925349,
           -71.12132702991566,
           1
          ],
          [
           "Jamaica Plain",
           42.311852721337,
           -71.10926318625519,
           1
          ],
          [
           "Jamaica Plain",
           42.31187523227813,
           -71.10988285778794,
           1
          ],
          [
           "Jamaica Plain",
           42.31189728557806,
           -71.10315398376997,
           1
          ],
          [
           "Jamaica Plain",
           42.311909365907724,
           -71.10675529422124,
           1
          ],
          [
           "Jamaica Plain",
           42.31199460127128,
           -71.11045089791808,
           1
          ],
          [
           "Jamaica Plain",
           42.312146916024254,
           -71.10890828395574,
           1
          ],
          [
           "Jamaica Plain",
           42.312220034691656,
           -71.1171256858825,
           1
          ],
          [
           "Jamaica Plain",
           42.31227026019718,
           -71.10086090909755,
           1
          ],
          [
           "Jamaica Plain",
           42.312465870465495,
           -71.10751981004609,
           1
          ],
          [
           "Jamaica Plain",
           42.312540826270975,
           -71.1224634974153,
           1
          ],
          [
           "Jamaica Plain",
           42.31256675906354,
           -71.12607998917959,
           1
          ],
          [
           "Jamaica Plain",
           42.31257952456626,
           -71.10784329213908,
           1
          ],
          [
           "Jamaica Plain",
           42.3126182454674,
           -71.10620541691138,
           1
          ],
          [
           "Jamaica Plain",
           42.312630016865675,
           -71.10439934389252,
           1
          ],
          [
           "Jamaica Plain",
           42.312639317298405,
           -71.10927886274365,
           1
          ],
          [
           "Jamaica Plain",
           42.31265281789585,
           -71.0997233961363,
           1
          ],
          [
           "Jamaica Plain",
           42.31274187654604,
           -71.11201449929162,
           1
          ],
          [
           "Jamaica Plain",
           42.31277908835379,
           -71.10974082171326,
           1
          ],
          [
           "Jamaica Plain",
           42.31299708548862,
           -71.10930512483853,
           1
          ],
          [
           "Jamaica Plain",
           42.31303259057599,
           -71.11202440937612,
           1
          ],
          [
           "Jamaica Plain",
           42.31308411868998,
           -71.10511677573426,
           1
          ],
          [
           "Jamaica Plain",
           42.31314950919129,
           -71.10478823264899,
           1
          ],
          [
           "Jamaica Plain",
           42.3131970326139,
           -71.11832362091809,
           1
          ],
          [
           "Jamaica Plain",
           42.313212477274476,
           -71.10808727743614,
           1
          ],
          [
           "Jamaica Plain",
           42.31337132584918,
           -71.11089129130822,
           1
          ],
          [
           "Jamaica Plain",
           42.313378826174066,
           -71.11718908596617,
           1
          ],
          [
           "Jamaica Plain",
           42.31342150080405,
           -71.10711860330036,
           1
          ],
          [
           "Jamaica Plain",
           42.313430537633096,
           -71.10571836582744,
           1
          ],
          [
           "Jamaica Plain",
           42.31357233912847,
           -71.11381932640091,
           1
          ],
          [
           "Jamaica Plain",
           42.31359160558561,
           -71.12262104873192,
           1
          ],
          [
           "Jamaica Plain",
           42.31362383219926,
           -71.09821200812918,
           1
          ],
          [
           "Jamaica Plain",
           42.31362611091293,
           -71.10819524530064,
           1
          ],
          [
           "Jamaica Plain",
           42.31373707651746,
           -71.11633699407041,
           1
          ],
          [
           "Jamaica Plain",
           42.31378359100291,
           -71.11505147881795,
           1
          ],
          [
           "Jamaica Plain",
           42.313791962580474,
           -71.1033874115732,
           1
          ],
          [
           "Jamaica Plain",
           42.313951405843575,
           -71.11600891554467,
           1
          ],
          [
           "Jamaica Plain",
           42.314035815066525,
           -71.10777892603964,
           1
          ],
          [
           "Jamaica Plain",
           42.314063318277896,
           -71.10544008279768,
           1
          ],
          [
           "Jamaica Plain",
           42.314064798157865,
           -71.09905545857005,
           1
          ],
          [
           "Jamaica Plain",
           42.314083120401115,
           -71.09973816777216,
           1
          ],
          [
           "Jamaica Plain",
           42.31421511820314,
           -71.10940661048757,
           1
          ],
          [
           "Jamaica Plain",
           42.31433571613884,
           -71.11641497800227,
           1
          ],
          [
           "Jamaica Plain",
           42.31437713321705,
           -71.09951455896663,
           1
          ],
          [
           "Jamaica Plain",
           42.314461652910154,
           -71.11391762627707,
           1
          ],
          [
           "Jamaica Plain",
           42.31449926702607,
           -71.1122319203949,
           1
          ],
          [
           "Jamaica Plain",
           42.31451961008171,
           -71.10558689277725,
           1
          ],
          [
           "Jamaica Plain",
           42.31465541166664,
           -71.09929095218234,
           1
          ],
          [
           "Jamaica Plain",
           42.314827484606575,
           -71.11295481151114,
           1
          ],
          [
           "Jamaica Plain",
           42.31509938985096,
           -71.11107897137123,
           1
          ],
          [
           "Jamaica Plain",
           42.31516062399715,
           -71.10606960864865,
           1
          ],
          [
           "Jamaica Plain",
           42.31527368629765,
           -71.10846155035345,
           1
          ],
          [
           "Jamaica Plain",
           42.3152745679209,
           -71.11331605532412,
           1
          ],
          [
           "Jamaica Plain",
           42.315300707630975,
           -71.09976783089705,
           1
          ],
          [
           "Jamaica Plain",
           42.3154779458348,
           -71.09929421406316,
           1
          ],
          [
           "Jamaica Plain",
           42.315499530265065,
           -71.11706562488624,
           1
          ],
          [
           "Jamaica Plain",
           42.31551268554925,
           -71.10157722722015,
           1
          ],
          [
           "Jamaica Plain",
           42.31552925725239,
           -71.10240299583323,
           1
          ],
          [
           "Jamaica Plain",
           42.31556511657293,
           -71.11482700886869,
           1
          ],
          [
           "Jamaica Plain",
           42.3155761411289,
           -71.11305745299592,
           1
          ],
          [
           "Jamaica Plain",
           42.31567994817808,
           -71.11520100639541,
           1
          ],
          [
           "Jamaica Plain",
           42.31569391094086,
           -71.10620874832169,
           1
          ],
          [
           "Jamaica Plain",
           42.31576895997632,
           -71.11289367391335,
           1
          ],
          [
           "Jamaica Plain",
           42.315797659023744,
           -71.11696299856979,
           1
          ],
          [
           "Jamaica Plain",
           42.3158987062291,
           -71.10745634054862,
           1
          ],
          [
           "Jamaica Plain",
           42.31590400933113,
           -71.11404802615597,
           1
          ],
          [
           "Jamaica Plain",
           42.315907278454304,
           -71.11327327945847,
           1
          ],
          [
           "Jamaica Plain",
           42.31591115539129,
           -71.11275691200883,
           1
          ],
          [
           "Jamaica Plain",
           42.315922709721605,
           -71.09957962869748,
           1
          ],
          [
           "Jamaica Plain",
           42.316052291214056,
           -71.09932133876652,
           1
          ],
          [
           "Jamaica Plain",
           42.31627330224815,
           -71.10215681045173,
           1
          ],
          [
           "Jamaica Plain",
           42.31632875548343,
           -71.09909641577437,
           1
          ],
          [
           "Jamaica Plain",
           42.31633720566908,
           -71.1028559173715,
           1
          ],
          [
           "Jamaica Plain",
           42.316423406732014,
           -71.105027092965,
           1
          ],
          [
           "Jamaica Plain",
           42.31643683590325,
           -71.10342311812424,
           1
          ],
          [
           "Jamaica Plain",
           42.31653898569717,
           -71.10431839665927,
           1
          ],
          [
           "Jamaica Plain",
           42.316784624886786,
           -71.10731719179363,
           1
          ],
          [
           "Jamaica Plain",
           42.31679060385281,
           -71.11563042909579,
           1
          ],
          [
           "Jamaica Plain",
           42.31686601781735,
           -71.10254447357468,
           1
          ],
          [
           "Jamaica Plain",
           42.31690480739987,
           -71.10519470648515,
           1
          ],
          [
           "Jamaica Plain",
           42.316912213905745,
           -71.1130254234823,
           1
          ],
          [
           "Jamaica Plain",
           42.31706413362148,
           -71.10358571999897,
           1
          ],
          [
           "Jamaica Plain",
           42.31713375085383,
           -71.10965966211437,
           1
          ],
          [
           "Jamaica Plain",
           42.317300402174936,
           -71.10491020774178,
           1
          ],
          [
           "Jamaica Plain",
           42.31732134712932,
           -71.1083382470032,
           1
          ],
          [
           "Jamaica Plain",
           42.317370192680336,
           -71.11485898821759,
           1
          ],
          [
           "Jamaica Plain",
           42.31738706631696,
           -71.10003065912305,
           1
          ],
          [
           "Jamaica Plain",
           42.31747805970026,
           -71.10819474341311,
           1
          ],
          [
           "Jamaica Plain",
           42.31753771012777,
           -71.10845721836117,
           1
          ],
          [
           "Jamaica Plain",
           42.317729060962684,
           -71.10019198504712,
           1
          ],
          [
           "Jamaica Plain",
           42.317785859724104,
           -71.10513643573292,
           1
          ],
          [
           "Jamaica Plain",
           42.31779832815028,
           -71.10403440260586,
           1
          ],
          [
           "Jamaica Plain",
           42.31795476761437,
           -71.1002042572507,
           1
          ],
          [
           "Jamaica Plain",
           42.31796621180112,
           -71.1115346411253,
           1
          ],
          [
           "Jamaica Plain",
           42.31803897447978,
           -71.11687373250301,
           1
          ],
          [
           "Jamaica Plain",
           42.318054676409226,
           -71.1118693618817,
           1
          ],
          [
           "Jamaica Plain",
           42.318072566888496,
           -71.11267005505267,
           1
          ],
          [
           "Jamaica Plain",
           42.31813877306128,
           -71.1036735352925,
           1
          ],
          [
           "Jamaica Plain",
           42.31838301910418,
           -71.10187809594295,
           1
          ],
          [
           "Jamaica Plain",
           42.31842255393602,
           -71.105505307545,
           1
          ],
          [
           "Jamaica Plain",
           42.31846334578228,
           -71.10792704855353,
           1
          ],
          [
           "Jamaica Plain",
           42.318501214026405,
           -71.11451133583604,
           1
          ],
          [
           "Jamaica Plain",
           42.3185688067565,
           -71.11415408323548,
           1
          ],
          [
           "Jamaica Plain",
           42.318577570955185,
           -71.1062777972917,
           1
          ],
          [
           "Jamaica Plain",
           42.31858053839557,
           -71.10678001942449,
           1
          ],
          [
           "Jamaica Plain",
           42.318635400684855,
           -71.10640627596929,
           1
          ],
          [
           "Jamaica Plain",
           42.318676992266276,
           -71.100333066673,
           1
          ],
          [
           "Jamaica Plain",
           42.31874257570903,
           -71.11599745541506,
           1
          ],
          [
           "Jamaica Plain",
           42.31881358606432,
           -71.10321896739352,
           1
          ],
          [
           "Jamaica Plain",
           42.318859647590706,
           -71.11451513447908,
           1
          ],
          [
           "Jamaica Plain",
           42.319226619133296,
           -71.10886890206302,
           1
          ],
          [
           "Jamaica Plain",
           42.31923482819862,
           -71.10501593588094,
           1
          ],
          [
           "Jamaica Plain",
           42.319239160320095,
           -71.10624048636811,
           1
          ],
          [
           "Jamaica Plain",
           42.31926520385325,
           -71.11324623810819,
           1
          ],
          [
           "Jamaica Plain",
           42.319474233279415,
           -71.10981262493169,
           1
          ],
          [
           "Jamaica Plain",
           42.31951000434093,
           -71.10537660326158,
           1
          ],
          [
           "Jamaica Plain",
           42.319510898734436,
           -71.11460121899208,
           1
          ],
          [
           "Jamaica Plain",
           42.31961968865941,
           -71.10482911031056,
           1
          ],
          [
           "Jamaica Plain",
           42.31967562232483,
           -71.10497281246552,
           1
          ],
          [
           "Jamaica Plain",
           42.31968622416286,
           -71.11205826620998,
           1
          ],
          [
           "Jamaica Plain",
           42.31968702097964,
           -71.11296924688942,
           1
          ],
          [
           "Jamaica Plain",
           42.31978116658569,
           -71.1046702228502,
           1
          ],
          [
           "Jamaica Plain",
           42.32002043052011,
           -71.1045979616031,
           1
          ],
          [
           "Jamaica Plain",
           42.320022523679384,
           -71.10594049773768,
           1
          ],
          [
           "Jamaica Plain",
           42.32004366635828,
           -71.10784415823343,
           1
          ],
          [
           "Jamaica Plain",
           42.32038118596349,
           -71.11270172682764,
           1
          ],
          [
           "Jamaica Plain",
           42.320510860484134,
           -71.11215759278208,
           1
          ],
          [
           "Jamaica Plain",
           42.320809392430675,
           -71.10730266023941,
           1
          ],
          [
           "Jamaica Plain",
           42.32085835010096,
           -71.11249877013331,
           1
          ],
          [
           "Jamaica Plain",
           42.32123276979549,
           -71.11568853186063,
           1
          ],
          [
           "Jamaica Plain",
           42.32133486634611,
           -71.1077732004827,
           1
          ],
          [
           "Jamaica Plain",
           42.32134118362715,
           -71.10588595618334,
           1
          ],
          [
           "Jamaica Plain",
           42.321364951420186,
           -71.11323105918619,
           1
          ],
          [
           "Jamaica Plain",
           42.321374508340455,
           -71.10605960468905,
           1
          ],
          [
           "Jamaica Plain",
           42.32139006767074,
           -71.10885209574056,
           1
          ],
          [
           "Jamaica Plain",
           42.321414748913774,
           -71.1067641717667,
           1
          ],
          [
           "Jamaica Plain",
           42.321520836480815,
           -71.10741009190527,
           1
          ],
          [
           "Jamaica Plain",
           42.321577937137754,
           -71.1141153320651,
           1
          ],
          [
           "Jamaica Plain",
           42.321619908461145,
           -71.10550967539857,
           1
          ],
          [
           "Jamaica Plain",
           42.321731854687144,
           -71.11186967797744,
           1
          ],
          [
           "Jamaica Plain",
           42.3219193625954,
           -71.1104717880297,
           1
          ],
          [
           "Jamaica Plain",
           42.322198384693365,
           -71.10629670951586,
           1
          ],
          [
           "Jamaica Plain",
           42.32235541314952,
           -71.10672991341261,
           1
          ],
          [
           "Jamaica Plain",
           42.32243105263224,
           -71.1132655769392,
           1
          ],
          [
           "Jamaica Plain",
           42.32249608513066,
           -71.11475792071663,
           1
          ],
          [
           "Jamaica Plain",
           42.32267197982334,
           -71.10078611527362,
           1
          ],
          [
           "Jamaica Plain",
           42.32267988827825,
           -71.11561971775167,
           1
          ],
          [
           "Jamaica Plain",
           42.322747312138354,
           -71.11033370632222,
           1
          ],
          [
           "Jamaica Plain",
           42.32284647416693,
           -71.10517194647886,
           1
          ],
          [
           "Jamaica Plain",
           42.323095687396346,
           -71.10851426561025,
           1
          ],
          [
           "Jamaica Plain",
           42.32324289956977,
           -71.11357115025135,
           1
          ],
          [
           "Jamaica Plain",
           42.32327560623326,
           -71.1070588160843,
           1
          ],
          [
           "Jamaica Plain",
           42.323437396382296,
           -71.1139753696747,
           1
          ],
          [
           "Jamaica Plain",
           42.32357026201424,
           -71.10670813435179,
           1
          ],
          [
           "Jamaica Plain",
           42.323942224420435,
           -71.10820204241452,
           1
          ],
          [
           "Jamaica Plain",
           42.324432177328205,
           -71.1078903320761,
           1
          ],
          [
           "Jamaica Plain",
           42.32451388795766,
           -71.10540620416036,
           1
          ],
          [
           "Jamaica Plain",
           42.3247317393277,
           -71.10791787889553,
           1
          ],
          [
           "Jamaica Plain",
           42.324891279593785,
           -71.11446553563087,
           1
          ],
          [
           "Jamaica Plain",
           42.32498596629097,
           -71.10549496200198,
           1
          ],
          [
           "Jamaica Plain",
           42.32504873048671,
           -71.1062960870443,
           1
          ],
          [
           "Jamaica Plain",
           42.32508878303933,
           -71.10722979809752,
           1
          ],
          [
           "Jamaica Plain",
           42.32512115569664,
           -71.11292465179741,
           1
          ],
          [
           "Jamaica Plain",
           42.32527016657306,
           -71.10701088601905,
           1
          ],
          [
           "Jamaica Plain",
           42.325511669688346,
           -71.11320967171939,
           1
          ],
          [
           "Jamaica Plain",
           42.325668119032656,
           -71.10543388992956,
           1
          ],
          [
           "Leather District",
           42.34933742803182,
           -71.0566868110075,
           1
          ],
          [
           "Leather District",
           42.34968123878315,
           -71.05680924511469,
           1
          ],
          [
           "Leather District",
           42.3504168336011,
           -71.05789450409064,
           1
          ],
          [
           "Leather District",
           42.350784941466905,
           -71.05601805181777,
           1
          ],
          [
           "Leather District",
           42.35125052243031,
           -71.05893024712475,
           1
          ],
          [
           "Leather District",
           42.35132194985031,
           -71.05765499381603,
           1
          ],
          [
           "Leather District",
           42.35144811572914,
           -71.05866958788957,
           1
          ],
          [
           "Leather District",
           42.351765729822496,
           -71.0570491779424,
           1
          ],
          [
           "Mattapan",
           42.27042654260594,
           -71.07947367013973,
           1
          ],
          [
           "Mattapan",
           42.27090114978417,
           -71.07875030650055,
           1
          ],
          [
           "Mattapan",
           42.2713657724051,
           -71.07785732941949,
           1
          ],
          [
           "Mattapan",
           42.277242693201025,
           -71.08359319282587,
           1
          ],
          [
           "Mattapan",
           42.281245029708735,
           -71.08604188300467,
           1
          ],
          [
           "Mattapan",
           42.282535052886175,
           -71.08625683097071,
           1
          ],
          [
           "Mattapan",
           42.28373701341802,
           -71.08581155946561,
           1
          ],
          [
           "Mattapan",
           42.28457494902813,
           -71.09531867826995,
           1
          ],
          [
           "Mattapan",
           42.28458582286679,
           -71.082778885208,
           1
          ],
          [
           "Mattapan",
           42.2855770478626,
           -71.08317315502501,
           1
          ],
          [
           "Mattapan",
           42.28603662995216,
           -71.08942825628974,
           1
          ],
          [
           "Mattapan",
           42.28632626853483,
           -71.09002338623566,
           1
          ],
          [
           "Mattapan",
           42.28635521843565,
           -71.09483015089907,
           1
          ],
          [
           "Mattapan",
           42.286640491248676,
           -71.08803894674584,
           1
          ],
          [
           "Mattapan",
           42.297116410348025,
           -71.09248294983793,
           1
          ],
          [
           "Mattapan",
           42.29767879153994,
           -71.08078194423855,
           1
          ],
          [
           "Mattapan",
           42.29996395631385,
           -71.08060444242611,
           1
          ],
          [
           "Mattapan",
           42.30049134803525,
           -71.08063858524858,
           1
          ],
          [
           "Mattapan",
           42.30088320910919,
           -71.08189710640713,
           1
          ],
          [
           "Mattapan",
           42.301461777901686,
           -71.08099789756763,
           1
          ],
          [
           "Mission Hill",
           42.32726918388393,
           -71.09800593457369,
           1
          ],
          [
           "Mission Hill",
           42.3273959644559,
           -71.10508282460825,
           1
          ],
          [
           "Mission Hill",
           42.32741024620903,
           -71.09931468957616,
           1
          ],
          [
           "Mission Hill",
           42.327458873762716,
           -71.09931845165326,
           1
          ],
          [
           "Mission Hill",
           42.327775050161655,
           -71.09882993741036,
           1
          ],
          [
           "Mission Hill",
           42.32790891088525,
           -71.10270494704687,
           1
          ],
          [
           "Mission Hill",
           42.32805295961436,
           -71.10766569680597,
           1
          ],
          [
           "Mission Hill",
           42.32813376207179,
           -71.10714859372881,
           1
          ],
          [
           "Mission Hill",
           42.32816472463539,
           -71.10569505857579,
           1
          ],
          [
           "Mission Hill",
           42.328265478773005,
           -71.1031099875802,
           1
          ],
          [
           "Mission Hill",
           42.3284392686725,
           -71.09790691443641,
           1
          ],
          [
           "Mission Hill",
           42.32849574343943,
           -71.10903338984062,
           1
          ],
          [
           "Mission Hill",
           42.32857987397953,
           -71.09805472661651,
           1
          ],
          [
           "Mission Hill",
           42.3288669969322,
           -71.10974475055329,
           1
          ],
          [
           "Mission Hill",
           42.32907475055905,
           -71.10342383185092,
           1
          ],
          [
           "Mission Hill",
           42.32915952745835,
           -71.10099811156975,
           1
          ],
          [
           "Mission Hill",
           42.32918401669792,
           -71.10061942482041,
           1
          ],
          [
           "Mission Hill",
           42.32935031808286,
           -71.1038940465677,
           1
          ],
          [
           "Mission Hill",
           42.32939203897631,
           -71.10981426405894,
           1
          ],
          [
           "Mission Hill",
           42.3297708947072,
           -71.10300214644862,
           1
          ],
          [
           "Mission Hill",
           42.33000151862129,
           -71.11219829247533,
           1
          ],
          [
           "Mission Hill",
           42.33000599091878,
           -71.11276646861832,
           1
          ],
          [
           "Mission Hill",
           42.33004817902593,
           -71.09852689772488,
           1
          ],
          [
           "Mission Hill",
           42.33008157486145,
           -71.10310101113842,
           1
          ],
          [
           "Mission Hill",
           42.33024144460524,
           -71.10468772708755,
           1
          ],
          [
           "Mission Hill",
           42.330355203685706,
           -71.10296323700399,
           1
          ],
          [
           "Mission Hill",
           42.330482874568,
           -71.10650652595727,
           1
          ],
          [
           "Mission Hill",
           42.330598918734076,
           -71.09725003327694,
           1
          ],
          [
           "Mission Hill",
           42.33061297566674,
           -71.1118462450954,
           1
          ],
          [
           "Mission Hill",
           42.33064668329789,
           -71.10584251856362,
           1
          ],
          [
           "Mission Hill",
           42.330688772284844,
           -71.09877610730857,
           1
          ],
          [
           "Mission Hill",
           42.33070273607674,
           -71.09999868362856,
           1
          ],
          [
           "Mission Hill",
           42.33072487183699,
           -71.10446641759258,
           1
          ],
          [
           "Mission Hill",
           42.330743217800276,
           -71.1030220474477,
           1
          ],
          [
           "Mission Hill",
           42.330850676438864,
           -71.09655381597145,
           1
          ],
          [
           "Mission Hill",
           42.33087018524642,
           -71.1043659956843,
           1
          ],
          [
           "Mission Hill",
           42.33091894635664,
           -71.1087362882022,
           1
          ],
          [
           "Mission Hill",
           42.331287164432794,
           -71.10049923089404,
           1
          ],
          [
           "Mission Hill",
           42.33128999398088,
           -71.10269410257068,
           1
          ],
          [
           "Mission Hill",
           42.33145771450857,
           -71.10907279875214,
           1
          ],
          [
           "Mission Hill",
           42.33155444871214,
           -71.0962878721131,
           1
          ],
          [
           "Mission Hill",
           42.3316098720629,
           -71.11137608903677,
           1
          ],
          [
           "Mission Hill",
           42.33163113142332,
           -71.09588697824026,
           1
          ],
          [
           "Mission Hill",
           42.33175204793444,
           -71.10559902923352,
           1
          ],
          [
           "Mission Hill",
           42.33175609091467,
           -71.10749841712051,
           1
          ],
          [
           "Mission Hill",
           42.33185848770472,
           -71.11195581484823,
           1
          ],
          [
           "Mission Hill",
           42.33186187945024,
           -71.11217701588377,
           1
          ],
          [
           "Mission Hill",
           42.331866500367425,
           -71.1098433298534,
           1
          ],
          [
           "Mission Hill",
           42.33192694022545,
           -71.11127381322933,
           1
          ],
          [
           "Mission Hill",
           42.33194159132484,
           -71.10207875571817,
           1
          ],
          [
           "Mission Hill",
           42.3320279524064,
           -71.10022476338676,
           1
          ],
          [
           "Mission Hill",
           42.33215157576381,
           -71.10674178342134,
           1
          ],
          [
           "Mission Hill",
           42.33218318025737,
           -71.09989420032309,
           1
          ],
          [
           "Mission Hill",
           42.33220056975924,
           -71.10172331046074,
           1
          ],
          [
           "Mission Hill",
           42.33228947881412,
           -71.11145871679565,
           1
          ],
          [
           "Mission Hill",
           42.33230551431416,
           -71.10073194830291,
           1
          ],
          [
           "Mission Hill",
           42.33232514947065,
           -71.10058162355831,
           1
          ],
          [
           "Mission Hill",
           42.33242122223453,
           -71.10732196401753,
           1
          ],
          [
           "Mission Hill",
           42.33253220985536,
           -71.09814589395016,
           1
          ],
          [
           "Mission Hill",
           42.332588068389846,
           -71.10068445938673,
           1
          ],
          [
           "Mission Hill",
           42.33269248333824,
           -71.10152380428332,
           1
          ],
          [
           "Mission Hill",
           42.332823544853774,
           -71.10280316008014,
           1
          ],
          [
           "Mission Hill",
           42.332854128708256,
           -71.1011504927296,
           1
          ],
          [
           "Mission Hill",
           42.33285419276235,
           -71.10123471727375,
           1
          ],
          [
           "Mission Hill",
           42.33289333349645,
           -71.10862041259496,
           1
          ],
          [
           "Mission Hill",
           42.332912093567174,
           -71.10243170590721,
           1
          ],
          [
           "Mission Hill",
           42.33295757858177,
           -71.1001005250145,
           1
          ],
          [
           "Mission Hill",
           42.332965977815256,
           -71.11066826717925,
           1
          ],
          [
           "Mission Hill",
           42.333093666121634,
           -71.10820555597844,
           1
          ],
          [
           "Mission Hill",
           42.33312217027335,
           -71.10238263012424,
           1
          ],
          [
           "Mission Hill",
           42.333173550531924,
           -71.10683935870469,
           1
          ],
          [
           "Mission Hill",
           42.33317899447556,
           -71.10249896276378,
           1
          ],
          [
           "Mission Hill",
           42.33320208572329,
           -71.10146471422755,
           1
          ],
          [
           "Mission Hill",
           42.333230180175455,
           -71.1018110081669,
           1
          ],
          [
           "Mission Hill",
           42.33336456830139,
           -71.09999220363608,
           1
          ],
          [
           "Mission Hill",
           42.333541804322245,
           -71.10146830649997,
           1
          ],
          [
           "Mission Hill",
           42.33354189851089,
           -71.10021747687979,
           1
          ],
          [
           "Mission Hill",
           42.33355814397967,
           -71.10942495730387,
           1
          ],
          [
           "Mission Hill",
           42.33363628786899,
           -71.11102997441894,
           1
          ],
          [
           "Mission Hill",
           42.333681739622975,
           -71.10151731844184,
           1
          ],
          [
           "Mission Hill",
           42.33370381572525,
           -71.10145425986323,
           1
          ],
          [
           "Mission Hill",
           42.333752503997395,
           -71.10654012092837,
           1
          ],
          [
           "Mission Hill",
           42.33376385933934,
           -71.10079693531384,
           1
          ],
          [
           "Mission Hill",
           42.3338038426129,
           -71.09617170360276,
           1
          ],
          [
           "Mission Hill",
           42.333843113188315,
           -71.10181769806175,
           1
          ],
          [
           "Mission Hill",
           42.33388414252892,
           -71.10040464747296,
           1
          ],
          [
           "Mission Hill",
           42.33393473005611,
           -71.10313500972191,
           1
          ],
          [
           "Mission Hill",
           42.33395700353453,
           -71.10229828387979,
           1
          ],
          [
           "Mission Hill",
           42.33399284980339,
           -71.1044900544699,
           1
          ],
          [
           "Mission Hill",
           42.334028860193904,
           -71.10193051721376,
           1
          ],
          [
           "Mission Hill",
           42.334081077460304,
           -71.10377646236957,
           1
          ],
          [
           "Mission Hill",
           42.33424187581221,
           -71.09798769340145,
           1
          ],
          [
           "Mission Hill",
           42.33435512841624,
           -71.10298914383577,
           1
          ],
          [
           "Mission Hill",
           42.33435923902745,
           -71.10209201284177,
           1
          ],
          [
           "Mission Hill",
           42.33441953819978,
           -71.10268932653712,
           1
          ],
          [
           "Mission Hill",
           42.334549034333506,
           -71.10296058223194,
           1
          ],
          [
           "Mission Hill",
           42.33467769835338,
           -71.10251313770223,
           1
          ],
          [
           "Mission Hill",
           42.334751085727895,
           -71.09627417944942,
           1
          ],
          [
           "Mission Hill",
           42.334833331317675,
           -71.10146655561927,
           1
          ],
          [
           "Mission Hill",
           42.33497263914917,
           -71.09995701146728,
           1
          ],
          [
           "Mission Hill",
           42.33515913715047,
           -71.10032459813883,
           1
          ],
          [
           "Mission Hill",
           42.335178839163135,
           -71.10149178764377,
           1
          ],
          [
           "Mission Hill",
           42.3352960343266,
           -71.10146236865883,
           1
          ],
          [
           "North End",
           42.36102238918389,
           -71.05276752955335,
           1
          ],
          [
           "North End",
           42.361531670448926,
           -71.0537301513333,
           1
          ],
          [
           "North End",
           42.36182817877078,
           -71.05248303684002,
           1
          ],
          [
           "North End",
           42.36188289681091,
           -71.05296259185997,
           1
          ],
          [
           "North End",
           42.36199306901067,
           -71.05052296735359,
           1
          ],
          [
           "North End",
           42.362039331106686,
           -71.04985305278991,
           1
          ],
          [
           "North End",
           42.36235119602448,
           -71.05150191371273,
           1
          ],
          [
           "North End",
           42.36253938074189,
           -71.05372693052654,
           1
          ],
          [
           "North End",
           42.362585459203565,
           -71.05565490462764,
           1
          ],
          [
           "North End",
           42.362628729779146,
           -71.05373334539482,
           1
          ],
          [
           "North End",
           42.362861594492266,
           -71.05569932035438,
           1
          ],
          [
           "North End",
           42.36296395331412,
           -71.05608132274628,
           1
          ],
          [
           "North End",
           42.3630127707613,
           -71.05176378181494,
           1
          ],
          [
           "North End",
           42.36303225681681,
           -71.05088801303481,
           1
          ],
          [
           "North End",
           42.363129559129135,
           -71.05315937078815,
           1
          ],
          [
           "North End",
           42.3632181952717,
           -71.05144793079053,
           1
          ],
          [
           "North End",
           42.363365249484055,
           -71.05482187868908,
           1
          ],
          [
           "North End",
           42.36342826533969,
           -71.05527287496305,
           1
          ],
          [
           "North End",
           42.363456015901434,
           -71.05720716569732,
           1
          ],
          [
           "North End",
           42.36354716049731,
           -71.05122799559616,
           1
          ],
          [
           "North End",
           42.363615034186346,
           -71.05375512091334,
           1
          ],
          [
           "North End",
           42.363623412479036,
           -71.05496966507421,
           1
          ],
          [
           "North End",
           42.36366047776044,
           -71.05023194381583,
           1
          ],
          [
           "North End",
           42.36378220194202,
           -71.0556432174484,
           1
          ],
          [
           "North End",
           42.36378841343679,
           -71.05502675683724,
           1
          ],
          [
           "North End",
           42.36381157911924,
           -71.05342285282114,
           1
          ],
          [
           "North End",
           42.36381372618179,
           -71.05159627177609,
           1
          ],
          [
           "North End",
           42.363815249331324,
           -71.05277960301132,
           1
          ],
          [
           "North End",
           42.36388432196618,
           -71.0576493657875,
           1
          ],
          [
           "North End",
           42.36388747644132,
           -71.05199168639473,
           1
          ],
          [
           "North End",
           42.363947098899224,
           -71.05121358833368,
           1
          ],
          [
           "North End",
           42.363954289106545,
           -71.05158689704922,
           1
          ],
          [
           "North End",
           42.363961395228145,
           -71.05462384037729,
           1
          ],
          [
           "North End",
           42.36397760074736,
           -71.04953482591641,
           1
          ],
          [
           "North End",
           42.36398159000662,
           -71.0503089596237,
           1
          ],
          [
           "North End",
           42.36399220621725,
           -71.05488132772018,
           1
          ],
          [
           "North End",
           42.364012249693715,
           -71.0568106808558,
           1
          ],
          [
           "North End",
           42.36420990160985,
           -71.0540773775443,
           1
          ],
          [
           "North End",
           42.36424351384748,
           -71.05617538252366,
           1
          ],
          [
           "North End",
           42.364259474407476,
           -71.05590350849737,
           1
          ],
          [
           "North End",
           42.364292530191435,
           -71.05452105334297,
           1
          ],
          [
           "North End",
           42.36440844658047,
           -71.05784259444194,
           1
          ],
          [
           "North End",
           42.36442861088293,
           -71.05601661847706,
           1
          ],
          [
           "North End",
           42.36444820170816,
           -71.05756044133952,
           1
          ],
          [
           "North End",
           42.364543846160494,
           -71.05326897239355,
           1
          ],
          [
           "North End",
           42.36467280126704,
           -71.05575617983634,
           1
          ],
          [
           "North End",
           42.364735243335424,
           -71.0541282046383,
           1
          ],
          [
           "North End",
           42.3647517257113,
           -71.05228017156112,
           1
          ],
          [
           "North End",
           42.364824148913655,
           -71.05370724459699,
           1
          ],
          [
           "North End",
           42.36484711642732,
           -71.05233441465951,
           1
          ],
          [
           "North End",
           42.364847135865844,
           -71.05300913753507,
           1
          ],
          [
           "North End",
           42.364866927590604,
           -71.0576906537523,
           1
          ],
          [
           "North End",
           42.36492961523601,
           -71.05645064810787,
           1
          ],
          [
           "North End",
           42.36495522535647,
           -71.0571931614339,
           1
          ],
          [
           "North End",
           42.36502856964341,
           -71.05216156634644,
           1
          ],
          [
           "North End",
           42.36503183045132,
           -71.0509852807683,
           1
          ],
          [
           "North End",
           42.365082941090975,
           -71.0556096058036,
           1
          ],
          [
           "North End",
           42.36508624429828,
           -71.0581572181063,
           1
          ],
          [
           "North End",
           42.36509127285064,
           -71.05552534087606,
           1
          ],
          [
           "North End",
           42.36509661155355,
           -71.0536460038337,
           1
          ],
          [
           "North End",
           42.36515136322868,
           -71.05571069569143,
           1
          ],
          [
           "North End",
           42.36515136677236,
           -71.05679220058173,
           1
          ],
          [
           "North End",
           42.36516568906178,
           -71.0569439247423,
           1
          ],
          [
           "North End",
           42.365189611639146,
           -71.05536089324784,
           1
          ],
          [
           "North End",
           42.365200545948426,
           -71.05823467208316,
           1
          ],
          [
           "North End",
           42.36523984386283,
           -71.05213404975486,
           1
          ],
          [
           "North End",
           42.365298397876174,
           -71.05467504749075,
           1
          ],
          [
           "North End",
           42.365375304014826,
           -71.05716528513047,
           1
          ],
          [
           "North End",
           42.36539015346572,
           -71.05438197261003,
           1
          ],
          [
           "North End",
           42.36539333738614,
           -71.05534796706897,
           1
          ],
          [
           "North End",
           42.36541467862179,
           -71.05610957783179,
           1
          ],
          [
           "North End",
           42.36542862591981,
           -71.05218804570609,
           1
          ],
          [
           "North End",
           42.36543143382386,
           -71.05735140792984,
           1
          ],
          [
           "North End",
           42.365468834510295,
           -71.0519644460137,
           1
          ],
          [
           "North End",
           42.36555488748691,
           -71.05452259028152,
           1
          ],
          [
           "North End",
           42.36561866703261,
           -71.0569766850338,
           1
          ],
          [
           "North End",
           42.36564449319875,
           -71.0553714303057,
           1
          ],
          [
           "North End",
           42.36565753825271,
           -71.0558817276351,
           1
          ],
          [
           "North End",
           42.365662988414094,
           -71.05130540181472,
           1
          ],
          [
           "North End",
           42.36567956847562,
           -71.05666097451632,
           1
          ],
          [
           "North End",
           42.365707475949435,
           -71.05770806053515,
           1
          ],
          [
           "North End",
           42.36570948284029,
           -71.05560297770907,
           1
          ],
          [
           "North End",
           42.36572429281523,
           -71.05838780711574,
           1
          ],
          [
           "North End",
           42.365732035913574,
           -71.05300052780038,
           1
          ],
          [
           "North End",
           42.36573321833043,
           -71.05535836461945,
           1
          ],
          [
           "North End",
           42.365739996132476,
           -71.05541507194255,
           1
          ],
          [
           "North End",
           42.36578313183777,
           -71.05337556191989,
           1
          ],
          [
           "North End",
           42.36591324976417,
           -71.0543166266631,
           1
          ],
          [
           "North End",
           42.365918523536095,
           -71.0531419142005,
           1
          ],
          [
           "North End",
           42.36592932232204,
           -71.05660255147694,
           1
          ],
          [
           "North End",
           42.36595643952457,
           -71.052682097302,
           1
          ],
          [
           "North End",
           42.36608243548662,
           -71.05278059734233,
           1
          ],
          [
           "North End",
           42.3660901411692,
           -71.0525546517861,
           1
          ],
          [
           "North End",
           42.366101969767044,
           -71.05192080847964,
           1
          ],
          [
           "North End",
           42.36614827335293,
           -71.05257865342544,
           1
          ],
          [
           "North End",
           42.366168884406925,
           -71.05040048545088,
           1
          ],
          [
           "North End",
           42.36617915685983,
           -71.0543313618705,
           1
          ],
          [
           "North End",
           42.36620466307457,
           -71.05523086105592,
           1
          ],
          [
           "North End",
           42.36632685323933,
           -71.05434376780721,
           1
          ],
          [
           "North End",
           42.36638187981247,
           -71.05587868288845,
           1
          ],
          [
           "North End",
           42.366384275272964,
           -71.05704197004533,
           1
          ],
          [
           "North End",
           42.366393306362255,
           -71.05536891439705,
           1
          ],
          [
           "North End",
           42.3664654444147,
           -71.05375655569645,
           1
          ],
          [
           "North End",
           42.36652294982745,
           -71.05679191922822,
           1
          ],
          [
           "North End",
           42.36652442067575,
           -71.05213169295045,
           1
          ],
          [
           "North End",
           42.36665816267125,
           -71.05192849676709,
           1
          ],
          [
           "North End",
           42.366660144819434,
           -71.05209407170254,
           1
          ],
          [
           "North End",
           42.36666039095179,
           -71.05315577538694,
           1
          ],
          [
           "North End",
           42.36677260940947,
           -71.05759193084558,
           1
          ],
          [
           "North End",
           42.36684600716925,
           -71.05118641450538,
           1
          ],
          [
           "North End",
           42.366924076057856,
           -71.05607592477958,
           1
          ],
          [
           "North End",
           42.36702083461885,
           -71.05420896843188,
           1
          ],
          [
           "North End",
           42.36707113984843,
           -71.05364659498184,
           1
          ],
          [
           "North End",
           42.367222855305855,
           -71.05736032911761,
           1
          ],
          [
           "North End",
           42.3673258809032,
           -71.05478010069913,
           1
          ],
          [
           "North End",
           42.367358767475295,
           -71.05565367554546,
           1
          ],
          [
           "North End",
           42.36758116315518,
           -71.05611277750177,
           1
          ],
          [
           "North End",
           42.3675854905296,
           -71.05630475149884,
           1
          ],
          [
           "North End",
           42.367846823328854,
           -71.05300114479144,
           1
          ],
          [
           "North End",
           42.36796047199003,
           -71.05572927482358,
           1
          ],
          [
           "North End",
           42.36809389768917,
           -71.05671598077609,
           1
          ],
          [
           "North End",
           42.36853097239647,
           -71.05362604937963,
           1
          ],
          [
           "North End",
           42.368580987916985,
           -71.05358771207213,
           1
          ],
          [
           "North End",
           42.36863498806691,
           -71.05699527150583,
           1
          ],
          [
           "North End",
           42.36868250392821,
           -71.05430825519377,
           1
          ],
          [
           "Roslindale",
           42.27440801253166,
           -71.12529404441553,
           1
          ],
          [
           "Roslindale",
           42.27493019121742,
           -71.13062800634724,
           1
          ],
          [
           "Roslindale",
           42.275637199479654,
           -71.12480041713683,
           1
          ],
          [
           "Roslindale",
           42.27571563204639,
           -71.13013942666514,
           1
          ],
          [
           "Roslindale",
           42.27636367614069,
           -71.13643292507432,
           1
          ],
          [
           "Roslindale",
           42.27683095063724,
           -71.12955973831468,
           1
          ],
          [
           "Roslindale",
           42.276912922929995,
           -71.12823284429416,
           1
          ],
          [
           "Roslindale",
           42.276968619499286,
           -71.11775586431584,
           1
          ],
          [
           "Roslindale",
           42.27896822197632,
           -71.13671455617596,
           1
          ],
          [
           "Roslindale",
           42.27917609759368,
           -71.13277179664853,
           1
          ],
          [
           "Roslindale",
           42.27964781834151,
           -71.13605872909109,
           1
          ],
          [
           "Roslindale",
           42.280278913054104,
           -71.13586963457317,
           1
          ],
          [
           "Roslindale",
           42.280528126236185,
           -71.13084254103526,
           1
          ],
          [
           "Roslindale",
           42.2814520694321,
           -71.12925004404066,
           1
          ],
          [
           "Roslindale",
           42.281748516890026,
           -71.14031783726143,
           1
          ],
          [
           "Roslindale",
           42.281941832424685,
           -71.13337190191741,
           1
          ],
          [
           "Roslindale",
           42.28194609607024,
           -71.14102161135577,
           1
          ],
          [
           "Roslindale",
           42.28208581195228,
           -71.1333486774579,
           1
          ],
          [
           "Roslindale",
           42.28214228250037,
           -71.12904915306451,
           1
          ],
          [
           "Roslindale",
           42.282224755841604,
           -71.11518855890074,
           1
          ],
          [
           "Roslindale",
           42.28228162657036,
           -71.11681747458199,
           1
          ],
          [
           "Roslindale",
           42.28261879577949,
           -71.13306792912681,
           1
          ],
          [
           "Roslindale",
           42.28290545627205,
           -71.13267673899495,
           1
          ],
          [
           "Roslindale",
           42.28389087384849,
           -71.13140826651366,
           1
          ],
          [
           "Roslindale",
           42.28451220982457,
           -71.1362580468337,
           1
          ],
          [
           "Roslindale",
           42.284561507299415,
           -71.11972634316602,
           1
          ],
          [
           "Roslindale",
           42.28556002712625,
           -71.1239986992945,
           1
          ],
          [
           "Roslindale",
           42.285877639201935,
           -71.12490955692161,
           1
          ],
          [
           "Roslindale",
           42.28606772927463,
           -71.13236250334809,
           1
          ],
          [
           "Roslindale",
           42.286240821867416,
           -71.13437396457161,
           1
          ],
          [
           "Roslindale",
           42.28626473620894,
           -71.13706513072117,
           1
          ],
          [
           "Roslindale",
           42.286448197788786,
           -71.13932538848039,
           1
          ],
          [
           "Roslindale",
           42.287025610360985,
           -71.13353878797959,
           1
          ],
          [
           "Roslindale",
           42.28759769917666,
           -71.13448153404433,
           1
          ],
          [
           "Roslindale",
           42.287641034701096,
           -71.12988286590424,
           1
          ],
          [
           "Roslindale",
           42.288820283584535,
           -71.1395101021012,
           1
          ],
          [
           "Roslindale",
           42.289071070855776,
           -71.12823296377442,
           1
          ],
          [
           "Roslindale",
           42.28922069154087,
           -71.13071326524191,
           1
          ],
          [
           "Roslindale",
           42.28967076428995,
           -71.13728640869121,
           1
          ],
          [
           "Roslindale",
           42.28997231000651,
           -71.13614631892551,
           1
          ],
          [
           "Roslindale",
           42.29061655718749,
           -71.13273461483398,
           1
          ],
          [
           "Roslindale",
           42.290903928902345,
           -71.13023771355206,
           1
          ],
          [
           "Roslindale",
           42.29110718003285,
           -71.13133846374734,
           1
          ],
          [
           "Roslindale",
           42.291519991700966,
           -71.13185776978565,
           1
          ],
          [
           "Roslindale",
           42.291689800769035,
           -71.13189277475922,
           1
          ],
          [
           "Roslindale",
           42.29172341146307,
           -71.13155602161845,
           1
          ],
          [
           "Roslindale",
           42.29181491557826,
           -71.13158793430709,
           1
          ],
          [
           "Roslindale",
           42.29223824022419,
           -71.13449706289938,
           1
          ],
          [
           "Roslindale",
           42.29243788665679,
           -71.13576525374667,
           1
          ],
          [
           "Roslindale",
           42.29403534422037,
           -71.13223724631055,
           1
          ],
          [
           "Roxbury",
           42.306290232435174,
           -71.082711498545,
           1
          ],
          [
           "Roxbury",
           42.307605043672524,
           -71.07976943518204,
           1
          ],
          [
           "Roxbury",
           42.30829282796033,
           -71.0766416675654,
           1
          ],
          [
           "Roxbury",
           42.30956345317556,
           -71.08709090008675,
           1
          ],
          [
           "Roxbury",
           42.31065739915734,
           -71.08493655866502,
           1
          ],
          [
           "Roxbury",
           42.31076765933597,
           -71.08626930861664,
           1
          ],
          [
           "Roxbury",
           42.31111498345879,
           -71.08654090736889,
           1
          ],
          [
           "Roxbury",
           42.31133579153138,
           -71.08512821179606,
           1
          ],
          [
           "Roxbury",
           42.311896610846375,
           -71.07336742551375,
           1
          ],
          [
           "Roxbury",
           42.313914307706206,
           -71.09274008827924,
           1
          ],
          [
           "Roxbury",
           42.31434403922422,
           -71.07350159629783,
           1
          ],
          [
           "Roxbury",
           42.315888273572405,
           -71.07199504196936,
           1
          ],
          [
           "Roxbury",
           42.3161082725762,
           -71.07411923664307,
           1
          ],
          [
           "Roxbury",
           42.31633898628723,
           -71.07923884196165,
           1
          ],
          [
           "Roxbury",
           42.31643567095953,
           -71.09391225257157,
           1
          ],
          [
           "Roxbury",
           42.316457982913974,
           -71.07951952826994,
           1
          ],
          [
           "Roxbury",
           42.317108736138465,
           -71.08077882265508,
           1
          ],
          [
           "Roxbury",
           42.31740245059692,
           -71.07361200426739,
           1
          ],
          [
           "Roxbury",
           42.317683707701576,
           -71.08876225798197,
           1
          ],
          [
           "Roxbury",
           42.31793468131503,
           -71.07922630786388,
           1
          ],
          [
           "Roxbury",
           42.320759146753694,
           -71.06861133782047,
           1
          ],
          [
           "Roxbury",
           42.32106313800365,
           -71.07531901432675,
           1
          ],
          [
           "Roxbury",
           42.321188688506616,
           -71.07501039982907,
           1
          ],
          [
           "Roxbury",
           42.321581648142576,
           -71.09047217750756,
           1
          ],
          [
           "Roxbury",
           42.32172827344671,
           -71.07460812493156,
           1
          ],
          [
           "Roxbury",
           42.32295992334007,
           -71.06985374731195,
           1
          ],
          [
           "Roxbury",
           42.32348049239181,
           -71.094926770222,
           1
          ],
          [
           "Roxbury",
           42.32392154881352,
           -71.07958213027628,
           1
          ],
          [
           "Roxbury",
           42.324039000484525,
           -71.07999508907358,
           1
          ],
          [
           "Roxbury",
           42.324049733232776,
           -71.09068730206711,
           1
          ],
          [
           "Roxbury",
           42.324227178779715,
           -71.08004848188634,
           1
          ],
          [
           "Roxbury",
           42.32446331697158,
           -71.08605943748721,
           1
          ],
          [
           "Roxbury",
           42.32460041087129,
           -71.09799858351171,
           1
          ],
          [
           "Roxbury",
           42.32464780047054,
           -71.08869369998291,
           1
          ],
          [
           "Roxbury",
           42.324796040496345,
           -71.09341288903684,
           1
          ],
          [
           "Roxbury",
           42.324969670645864,
           -71.0894888766103,
           1
          ],
          [
           "Roxbury",
           42.32509557087669,
           -71.09621956635128,
           1
          ],
          [
           "Roxbury",
           42.32513754124609,
           -71.09264112004337,
           1
          ],
          [
           "Roxbury",
           42.32535454842778,
           -71.08133426855406,
           1
          ],
          [
           "Roxbury",
           42.3255276644084,
           -71.09404138454056,
           1
          ],
          [
           "Roxbury",
           42.325543164544975,
           -71.0975705683488,
           1
          ],
          [
           "Roxbury",
           42.325552759808225,
           -71.08705705401749,
           1
          ],
          [
           "Roxbury",
           42.325592426403276,
           -71.09739570510834,
           1
          ],
          [
           "Roxbury",
           42.32561121993109,
           -71.08131715784819,
           1
          ],
          [
           "Roxbury",
           42.325841851882,
           -71.0892685010551,
           1
          ],
          [
           "Roxbury",
           42.325848848014985,
           -71.09636804257896,
           1
          ],
          [
           "Roxbury",
           42.325871996042544,
           -71.07755315524274,
           1
          ],
          [
           "Roxbury",
           42.325997054557135,
           -71.07877370147436,
           1
          ],
          [
           "Roxbury",
           42.32610819693375,
           -71.08181294835627,
           1
          ],
          [
           "Roxbury",
           42.326142212195286,
           -71.0884044797577,
           1
          ],
          [
           "Roxbury",
           42.32634611259964,
           -71.06907964538719,
           1
          ],
          [
           "Roxbury",
           42.32642042056992,
           -71.09013270547341,
           1
          ],
          [
           "Roxbury",
           42.32656999382864,
           -71.08279766298716,
           1
          ],
          [
           "Roxbury",
           42.326786716280985,
           -71.07701299367034,
           1
          ],
          [
           "Roxbury",
           42.32685151777795,
           -71.09354561759915,
           1
          ],
          [
           "Roxbury",
           42.32701651734077,
           -71.08146902307013,
           1
          ],
          [
           "Roxbury",
           42.32725296292973,
           -71.07558887205052,
           1
          ],
          [
           "Roxbury",
           42.32738352205208,
           -71.09471433492095,
           1
          ],
          [
           "Roxbury",
           42.32753474893862,
           -71.08295350482562,
           1
          ],
          [
           "Roxbury",
           42.327574278422865,
           -71.09210877544719,
           1
          ],
          [
           "Roxbury",
           42.32770254357949,
           -71.09341583442527,
           1
          ],
          [
           "Roxbury",
           42.328078811425534,
           -71.09619934319932,
           1
          ],
          [
           "Roxbury",
           42.32819243642796,
           -71.09404877118986,
           1
          ],
          [
           "Roxbury",
           42.32827181538714,
           -71.09443187811075,
           1
          ],
          [
           "Roxbury",
           42.32852347771993,
           -71.09539243911993,
           1
          ],
          [
           "Roxbury",
           42.329090902213956,
           -71.0945725037219,
           1
          ],
          [
           "Roxbury",
           42.32923125205885,
           -71.07975835758485,
           1
          ],
          [
           "Roxbury",
           42.32943011281621,
           -71.09307508487933,
           1
          ],
          [
           "Roxbury",
           42.32945376089083,
           -71.09308986191863,
           1
          ],
          [
           "Roxbury",
           42.329527287817655,
           -71.09198968675086,
           1
          ],
          [
           "Roxbury",
           42.329530048891094,
           -71.09275134846088,
           1
          ],
          [
           "Roxbury",
           42.32955196801566,
           -71.09324127038984,
           1
          ],
          [
           "Roxbury",
           42.329607165131385,
           -71.09340591312728,
           1
          ],
          [
           "Roxbury",
           42.32964014965104,
           -71.09274148875555,
           1
          ],
          [
           "Roxbury",
           42.32964653698351,
           -71.09502741816267,
           1
          ],
          [
           "Roxbury",
           42.32974333158483,
           -71.09185430857579,
           1
          ],
          [
           "Roxbury",
           42.329808504236226,
           -71.09559469348262,
           1
          ],
          [
           "Roxbury",
           42.329940605699676,
           -71.093505106791,
           1
          ],
          [
           "Roxbury",
           42.329998356538034,
           -71.09480356376261,
           1
          ],
          [
           "Roxbury",
           42.33000608786648,
           -71.09193883686889,
           1
          ],
          [
           "Roxbury",
           42.33018209890577,
           -71.09337406427696,
           1
          ],
          [
           "Roxbury",
           42.33031843619188,
           -71.09405535499072,
           1
          ],
          [
           "Roxbury",
           42.330322673596335,
           -71.08009631965359,
           1
          ],
          [
           "Roxbury",
           42.3308783051999,
           -71.09298435361652,
           1
          ],
          [
           "Roxbury",
           42.33103846389946,
           -71.0945587373842,
           1
          ],
          [
           "Roxbury",
           42.33329530225683,
           -71.07815404379751,
           1
          ],
          [
           "Roxbury",
           42.33418300789131,
           -71.08132919011919,
           1
          ],
          [
           "Roxbury",
           42.33473045146216,
           -71.07692750135247,
           1
          ],
          [
           "Roxbury",
           42.335292619607465,
           -71.08686083420011,
           1
          ],
          [
           "Roxbury",
           42.335398292513936,
           -71.08259403248233,
           1
          ],
          [
           "Roxbury",
           42.335659436334154,
           -71.08520380113175,
           1
          ],
          [
           "Roxbury",
           42.33588187857079,
           -71.08310262017217,
           1
          ],
          [
           "Roxbury",
           42.3363154341175,
           -71.08437459693069,
           1
          ],
          [
           "Roxbury",
           42.33638942716317,
           -71.08660455381315,
           1
          ],
          [
           "Roxbury",
           42.33646144050078,
           -71.08270026400285,
           1
          ],
          [
           "Roxbury",
           42.33656432115304,
           -71.08414056558688,
           1
          ],
          [
           "Roxbury",
           42.33713488988796,
           -71.0838133214568,
           1
          ],
          [
           "Roxbury",
           42.33740472736663,
           -71.07842744186746,
           1
          ],
          [
           "Roxbury",
           42.337671730031595,
           -71.08033835068223,
           1
          ],
          [
           "Roxbury",
           42.337771099956534,
           -71.08090100747117,
           1
          ],
          [
           "Roxbury",
           42.3377838298766,
           -71.07967634450445,
           1
          ],
          [
           "Roxbury",
           42.33814027315353,
           -71.08000805615907,
           1
          ],
          [
           "Roxbury",
           42.33823990254319,
           -71.08171734317412,
           1
          ],
          [
           "Roxbury",
           42.33832831242464,
           -71.0813246595963,
           1
          ],
          [
           "Roxbury",
           42.338523684937726,
           -71.07984587928212,
           1
          ],
          [
           "Roxbury",
           42.33862580103696,
           -71.08331520044518,
           1
          ],
          [
           "Roxbury",
           42.338918487612865,
           -71.08396839257223,
           1
          ],
          [
           "Roxbury",
           42.33903880877507,
           -71.08104419980938,
           1
          ],
          [
           "Roxbury",
           42.339099936616456,
           -71.0805557382492,
           1
          ],
          [
           "Roxbury",
           42.339232558534334,
           -71.08141307165798,
           1
          ],
          [
           "Roxbury",
           42.33929253496528,
           -71.08074914915147,
           1
          ],
          [
           "Roxbury",
           42.339621398631614,
           -71.08188076112297,
           1
          ],
          [
           "Roxbury",
           42.339793473451174,
           -71.08226443474979,
           1
          ],
          [
           "Roxbury",
           42.34000151774785,
           -71.08129895423689,
           1
          ],
          [
           "Roxbury",
           42.34036913051988,
           -71.08227084416177,
           1
          ],
          [
           "Roxbury",
           42.340772787243274,
           -71.0821753661577,
           1
          ],
          [
           "Somerville",
           42.374689005699274,
           -71.07443975853336,
           1
          ],
          [
           "Somerville",
           42.38096769530488,
           -71.0837948899967,
           1
          ],
          [
           "Somerville",
           42.381141769456,
           -71.08188006830251,
           1
          ],
          [
           "Somerville",
           42.3826812520672,
           -71.08571963808129,
           1
          ],
          [
           "Somerville",
           42.38496528480538,
           -71.08352723669331,
           1
          ],
          [
           "Somerville",
           42.38522634694089,
           -71.0809226260808,
           1
          ],
          [
           "Somerville",
           42.38551619172461,
           -71.08025597318345,
           1
          ],
          [
           "Somerville",
           42.3862181002087,
           -71.08157049144913,
           1
          ],
          [
           "Somerville",
           42.38680886643717,
           -71.08269543804683,
           1
          ],
          [
           "Somerville",
           42.38756052389122,
           -71.08223596503024,
           1
          ],
          [
           "Somerville",
           42.387643515627815,
           -71.07964873098422,
           1
          ],
          [
           "Somerville",
           42.38774100685,
           -71.07989660919445,
           1
          ],
          [
           "Somerville",
           42.38788781183007,
           -71.08065371917631,
           1
          ],
          [
           "South Boston",
           42.323757059606585,
           -71.0518117264636,
           1
          ],
          [
           "South Boston",
           42.3278286077205,
           -71.05397737227379,
           1
          ],
          [
           "South Boston",
           42.328163175898936,
           -71.05719194700788,
           1
          ],
          [
           "South Boston",
           42.328253796464246,
           -71.05703601187467,
           1
          ],
          [
           "South Boston",
           42.328533955308366,
           -71.05385853923919,
           1
          ],
          [
           "South Boston",
           42.32906352830442,
           -71.05335996397733,
           1
          ],
          [
           "South Boston",
           42.329403725033046,
           -71.0545329779365,
           1
          ],
          [
           "South Boston",
           42.32952659959334,
           -71.05843788571705,
           1
          ],
          [
           "South Boston",
           42.32963890001429,
           -71.0551071405621,
           1
          ],
          [
           "South Boston",
           42.32995529992397,
           -71.05758626674961,
           1
          ],
          [
           "South Boston",
           42.329975582040476,
           -71.05910152805583,
           1
          ],
          [
           "South Boston",
           42.329982177723494,
           -71.05617128371799,
           1
          ],
          [
           "South Boston",
           42.329994585582796,
           -71.05172341371099,
           1
          ],
          [
           "South Boston",
           42.329996271004724,
           -71.05431805538187,
           1
          ],
          [
           "South Boston",
           42.33017748493645,
           -71.05234811016862,
           1
          ],
          [
           "South Boston",
           42.33024548528313,
           -71.05546171192677,
           1
          ],
          [
           "South Boston",
           42.33024778729353,
           -71.05491185341863,
           1
          ],
          [
           "South Boston",
           42.33025092146309,
           -71.05624024290628,
           1
          ],
          [
           "South Boston",
           42.330459875805175,
           -71.04291441908008,
           1
          ],
          [
           "South Boston",
           42.330523001075115,
           -71.05759290599715,
           1
          ],
          [
           "South Boston",
           42.330624720313466,
           -71.05557966912491,
           1
          ],
          [
           "South Boston",
           42.330628327436926,
           -71.05314779730331,
           1
          ],
          [
           "South Boston",
           42.330663724571146,
           -71.03984208025665,
           1
          ],
          [
           "South Boston",
           42.33078385360875,
           -71.04688869915472,
           1
          ],
          [
           "South Boston",
           42.33084494929657,
           -71.05246030853044,
           1
          ],
          [
           "South Boston",
           42.330929835488185,
           -71.04146397218635,
           1
          ],
          [
           "South Boston",
           42.33093408705157,
           -71.05548827562198,
           1
          ],
          [
           "South Boston",
           42.33107925948273,
           -71.05695659427147,
           1
          ],
          [
           "South Boston",
           42.331239624461496,
           -71.04175689790169,
           1
          ],
          [
           "South Boston",
           42.331261331813714,
           -71.04614760600882,
           1
          ],
          [
           "South Boston",
           42.33133862557465,
           -71.05694520080219,
           1
          ],
          [
           "South Boston",
           42.331375952950346,
           -71.04201158979151,
           1
          ],
          [
           "South Boston",
           42.33138452828469,
           -71.04516439345413,
           1
          ],
          [
           "South Boston",
           42.331424294876975,
           -71.03473526337976,
           1
          ],
          [
           "South Boston",
           42.33146036491765,
           -71.05311290494872,
           1
          ],
          [
           "South Boston",
           42.33147627539743,
           -71.0488877810927,
           1
          ],
          [
           "South Boston",
           42.33160048623615,
           -71.0363541380956,
           1
          ],
          [
           "South Boston",
           42.33160331667402,
           -71.0553630183722,
           1
          ],
          [
           "South Boston",
           42.33178080806839,
           -71.05236165172633,
           1
          ],
          [
           "South Boston",
           42.33179070101675,
           -71.03818897627632,
           1
          ],
          [
           "South Boston",
           42.331815594677366,
           -71.0339866673833,
           1
          ],
          [
           "South Boston",
           42.33202883122871,
           -71.03764391190559,
           1
          ],
          [
           "South Boston",
           42.33217337307697,
           -71.04835898763461,
           1
          ],
          [
           "South Boston",
           42.33224602383325,
           -71.05213789204774,
           1
          ],
          [
           "South Boston",
           42.33224719358164,
           -71.03865606283041,
           1
          ],
          [
           "South Boston",
           42.332309392956674,
           -71.04335595068373,
           1
          ],
          [
           "South Boston",
           42.33235823445015,
           -71.03139654309788,
           1
          ],
          [
           "South Boston",
           42.332405223171094,
           -71.05115381528239,
           1
          ],
          [
           "South Boston",
           42.33245351844386,
           -71.03504885347681,
           1
          ],
          [
           "South Boston",
           42.33248366863032,
           -71.0494173039353,
           1
          ],
          [
           "South Boston",
           42.33251098608657,
           -71.03508240366455,
           1
          ],
          [
           "South Boston",
           42.33261326985817,
           -71.05485326102094,
           1
          ],
          [
           "South Boston",
           42.33273192726593,
           -71.04153712764575,
           1
          ],
          [
           "South Boston",
           42.33291855705918,
           -71.03072386178795,
           1
          ],
          [
           "South Boston",
           42.333020901619975,
           -71.05220254948755,
           1
          ],
          [
           "South Boston",
           42.33302950717018,
           -71.05208722478616,
           1
          ],
          [
           "South Boston",
           42.33304405129921,
           -71.02920970459782,
           1
          ],
          [
           "South Boston",
           42.33305541140794,
           -71.04840479578142,
           1
          ],
          [
           "South Boston",
           42.333231355501475,
           -71.04932743634572,
           1
          ],
          [
           "South Boston",
           42.33324331178137,
           -71.04199974359747,
           1
          ],
          [
           "South Boston",
           42.33345441034461,
           -71.04789353494206,
           1
          ],
          [
           "South Boston",
           42.33353514970417,
           -71.04847848951837,
           1
          ],
          [
           "South Boston",
           42.33381827570387,
           -71.03319599741654,
           1
          ],
          [
           "South Boston",
           42.334095921610604,
           -71.02828761012364,
           1
          ],
          [
           "South Boston",
           42.334109819461176,
           -71.04507028895371,
           1
          ],
          [
           "South Boston",
           42.33412268684929,
           -71.05505481605249,
           1
          ],
          [
           "South Boston",
           42.33416628046455,
           -71.02951494198125,
           1
          ],
          [
           "South Boston",
           42.334180295487094,
           -71.04426144229467,
           1
          ],
          [
           "South Boston",
           42.334243409926216,
           -71.02855061688773,
           1
          ],
          [
           "South Boston",
           42.33433585528535,
           -71.05025631414823,
           1
          ],
          [
           "South Boston",
           42.33433822499891,
           -71.04482923530661,
           1
          ],
          [
           "South Boston",
           42.33445095138171,
           -71.04741151427504,
           1
          ],
          [
           "South Boston",
           42.334774636083004,
           -71.04995357863713,
           1
          ],
          [
           "South Boston",
           42.33477750511096,
           -71.04858112472684,
           1
          ],
          [
           "South Boston",
           42.33482118045168,
           -71.04921200631978,
           1
          ],
          [
           "South Boston",
           42.334837827076456,
           -71.02973676984534,
           1
          ],
          [
           "South Boston",
           42.33484370143602,
           -71.04995024546783,
           1
          ],
          [
           "South Boston",
           42.33501761258235,
           -71.05488150907073,
           1
          ],
          [
           "South Boston",
           42.33504141722876,
           -71.04858296773342,
           1
          ],
          [
           "South Boston",
           42.33505569922202,
           -71.04078590059036,
           1
          ],
          [
           "South Boston",
           42.33516961159432,
           -71.05454873786275,
           1
          ],
          [
           "South Boston",
           42.335242930329564,
           -71.04390495863206,
           1
          ],
          [
           "South Boston",
           42.335285827808406,
           -71.03525810532975,
           1
          ],
          [
           "South Boston",
           42.33534049125617,
           -71.03599034517583,
           1
          ],
          [
           "South Boston",
           42.33535159134493,
           -71.04741304834127,
           1
          ],
          [
           "South Boston",
           42.33549622814182,
           -71.05522404193539,
           1
          ],
          [
           "South Boston",
           42.335501177074015,
           -71.03201440586754,
           1
          ],
          [
           "South Boston",
           42.33569468861506,
           -71.05126740362168,
           1
          ],
          [
           "South Boston",
           42.335802491276425,
           -71.04408290550603,
           1
          ],
          [
           "South Boston",
           42.335805357171424,
           -71.04492603266044,
           1
          ],
          [
           "South Boston",
           42.3358565593375,
           -71.04589502553836,
           1
          ],
          [
           "South Boston",
           42.33590741768553,
           -71.05536568379574,
           1
          ],
          [
           "South Boston",
           42.336041146779756,
           -71.05393261932984,
           1
          ],
          [
           "South Boston",
           42.33605903461718,
           -71.04592438249078,
           1
          ],
          [
           "South Boston",
           42.33614380780508,
           -71.0355307694372,
           1
          ],
          [
           "South Boston",
           42.33615856090103,
           -71.04535763081809,
           1
          ],
          [
           "South Boston",
           42.33618018931916,
           -71.0278145465076,
           1
          ],
          [
           "South Boston",
           42.33641688875214,
           -71.04769353865366,
           1
          ],
          [
           "South Boston",
           42.3364362023916,
           -71.03931171805912,
           1
          ],
          [
           "South Boston",
           42.336440319502,
           -71.02874377838845,
           1
          ],
          [
           "South Boston",
           42.33644061602067,
           -71.05330121775305,
           1
          ],
          [
           "South Boston",
           42.33650945261115,
           -71.05513580998142,
           1
          ],
          [
           "South Boston",
           42.33661676750965,
           -71.04541966631726,
           1
          ],
          [
           "South Boston",
           42.33673999221773,
           -71.04212152939326,
           1
          ],
          [
           "South Boston",
           42.33675031106581,
           -71.0453721457687,
           1
          ],
          [
           "South Boston",
           42.3367633666129,
           -71.04521564447495,
           1
          ],
          [
           "South Boston",
           42.33677696370721,
           -71.03816267013691,
           1
          ],
          [
           "South Boston",
           42.336854784194614,
           -71.04693753507685,
           1
          ],
          [
           "South Boston",
           42.3369367563682,
           -71.05070276078446,
           1
          ],
          [
           "South Boston",
           42.3369384946583,
           -71.04818783913608,
           1
          ],
          [
           "South Boston",
           42.33713728852802,
           -71.05199220982796,
           1
          ],
          [
           "South Boston",
           42.33716824951226,
           -71.05140040583754,
           1
          ],
          [
           "South Boston",
           42.337463317801536,
           -71.04509796259279,
           1
          ],
          [
           "South Boston",
           42.33750282445426,
           -71.04778102479536,
           1
          ],
          [
           "South Boston",
           42.337520031904056,
           -71.04209234319397,
           1
          ],
          [
           "South Boston",
           42.337647990032565,
           -71.04500814305119,
           1
          ],
          [
           "South Boston",
           42.337748368505004,
           -71.05145392599944,
           1
          ],
          [
           "South Boston",
           42.33775519216514,
           -71.04743667507499,
           1
          ],
          [
           "South Boston",
           42.33789988402018,
           -71.04321872298976,
           1
          ],
          [
           "South Boston",
           42.3379167606542,
           -71.027013243917,
           1
          ],
          [
           "South Boston",
           42.33794927260482,
           -71.04194174244199,
           1
          ],
          [
           "South Boston",
           42.33799885378824,
           -71.03858635473816,
           1
          ],
          [
           "South Boston",
           42.338128381972105,
           -71.02810867404439,
           1
          ],
          [
           "South Boston",
           42.33828239696045,
           -71.05227309453551,
           1
          ],
          [
           "South Boston",
           42.33870449510884,
           -71.05309134821903,
           1
          ],
          [
           "South Boston",
           42.338879311431654,
           -71.04715368443095,
           1
          ],
          [
           "South Boston",
           42.33897710652312,
           -71.05089379773115,
           1
          ],
          [
           "South Boston",
           42.33897720812363,
           -71.05090218252278,
           1
          ],
          [
           "South Boston",
           42.33898338782244,
           -71.03739947222141,
           1
          ],
          [
           "South Boston",
           42.339194005113036,
           -71.04967212701762,
           1
          ],
          [
           "South Boston",
           42.33923217332808,
           -71.04786861398398,
           1
          ],
          [
           "South Boston",
           42.339323531966826,
           -71.05150316819869,
           1
          ],
          [
           "South Boston",
           42.3393527484172,
           -71.05035150728222,
           1
          ],
          [
           "South Boston",
           42.33962035784557,
           -71.05130743997775,
           1
          ],
          [
           "South Boston",
           42.33964959616425,
           -71.04625093764452,
           1
          ],
          [
           "South Boston",
           42.33965408475997,
           -71.0432125348146,
           1
          ],
          [
           "South Boston",
           42.339796601678245,
           -71.04881413982253,
           1
          ],
          [
           "South Boston",
           42.339827373272016,
           -71.04960193515929,
           1
          ],
          [
           "South Boston",
           42.3401731382821,
           -71.04762982202215,
           1
          ],
          [
           "South Boston",
           42.34039504377331,
           -71.05373508935921,
           1
          ],
          [
           "South Boston",
           42.34052212405643,
           -71.05027108576147,
           1
          ],
          [
           "South Boston",
           42.34052677189968,
           -71.04866215302377,
           1
          ],
          [
           "South Boston",
           42.34065578626915,
           -71.05116632026306,
           1
          ],
          [
           "South Boston",
           42.34072765135468,
           -71.05025788872314,
           1
          ],
          [
           "South Boston",
           42.3409830303676,
           -71.05023467583233,
           1
          ],
          [
           "South Boston",
           42.341526195858435,
           -71.05559391808956,
           1
          ],
          [
           "South Boston",
           42.34152699616863,
           -71.05715198556584,
           1
          ],
          [
           "South Boston",
           42.34152977744907,
           -71.05241108165737,
           1
          ],
          [
           "South Boston",
           42.34179199646733,
           -71.05273625857795,
           1
          ],
          [
           "South Boston",
           42.34225206974772,
           -71.0571151945043,
           1
          ],
          [
           "South Boston",
           42.342906702135636,
           -71.05602136191048,
           1
          ],
          [
           "South Boston",
           42.34299781780269,
           -71.05229787297336,
           1
          ],
          [
           "South Boston",
           42.343049288229096,
           -71.05566569303353,
           1
          ],
          [
           "South Boston",
           42.34316182672657,
           -71.05568054611193,
           1
          ],
          [
           "South Boston",
           42.34316505771691,
           -71.05338760443428,
           1
          ],
          [
           "South Boston",
           42.34321885892198,
           -71.0571412078833,
           1
          ],
          [
           "South Boston",
           42.34330906568572,
           -71.05546521448478,
           1
          ],
          [
           "South Boston",
           42.34331686142797,
           -71.0573838545967,
           1
          ],
          [
           "South Boston",
           42.34355022122581,
           -71.04470069473939,
           1
          ],
          [
           "South Boston",
           42.34360257219158,
           -71.04289056156057,
           1
          ],
          [
           "South Boston",
           42.343758846280366,
           -71.04466103277916,
           1
          ],
          [
           "South Boston",
           42.34463372577217,
           -71.04381815265671,
           1
          ],
          [
           "South Boston",
           42.345413960731605,
           -71.04285916182394,
           1
          ],
          [
           "South Boston",
           42.34708322939053,
           -71.03810333583584,
           1
          ],
          [
           "South Boston",
           42.34726159104224,
           -71.03895153223617,
           1
          ],
          [
           "South Boston",
           42.34737348795917,
           -71.05029601946282,
           1
          ],
          [
           "South Boston",
           42.347382815379966,
           -71.03855591875042,
           1
          ],
          [
           "South Boston",
           42.347423781607695,
           -71.03920811734163,
           1
          ],
          [
           "South Boston",
           42.34753135150385,
           -71.03748395930195,
           1
          ],
          [
           "South Boston",
           42.34768777452176,
           -71.03736622006824,
           1
          ],
          [
           "South Boston",
           42.34781422735855,
           -71.03870201631844,
           1
          ],
          [
           "South Boston",
           42.34800058222892,
           -71.04818192087524,
           1
          ],
          [
           "South Boston",
           42.3481479350192,
           -71.05026474420748,
           1
          ],
          [
           "South Boston",
           42.348358429576,
           -71.03987509788972,
           1
          ],
          [
           "South Boston",
           42.34844285220544,
           -71.03707218098128,
           1
          ],
          [
           "South Boston",
           42.34849536977529,
           -71.04817175089313,
           1
          ],
          [
           "South Boston",
           42.34863981957308,
           -71.03766942330198,
           1
          ],
          [
           "South Boston",
           42.34866731626357,
           -71.04154002724752,
           1
          ],
          [
           "South Boston",
           42.34883037208861,
           -71.03845058949348,
           1
          ],
          [
           "South Boston",
           42.34901372062141,
           -71.03934391367198,
           1
          ],
          [
           "South Boston",
           42.349158419057545,
           -71.05006483688034,
           1
          ],
          [
           "South Boston",
           42.349329496023344,
           -71.04903144406734,
           1
          ],
          [
           "South Boston",
           42.349506095500395,
           -71.04761291955536,
           1
          ],
          [
           "South Boston",
           42.34961830428685,
           -71.04944794787927,
           1
          ],
          [
           "South Boston",
           42.349768624774384,
           -71.05102752921492,
           1
          ],
          [
           "South Boston",
           42.35018684626768,
           -71.04878430369364,
           1
          ],
          [
           "South Boston",
           42.35043114054602,
           -71.05093441745022,
           1
          ],
          [
           "South Boston",
           42.35067613654681,
           -71.04617638169022,
           1
          ],
          [
           "South Boston",
           42.35090823601296,
           -71.04660060374252,
           1
          ],
          [
           "South Boston",
           42.35093487305158,
           -71.04836752696419,
           1
          ],
          [
           "South Boston",
           42.351194732714426,
           -71.04712501016105,
           1
          ],
          [
           "South Boston",
           42.35130499494265,
           -71.04765233362149,
           1
          ],
          [
           "South Boston",
           42.35132519058514,
           -71.0463973183474,
           1
          ],
          [
           "South Boston",
           42.35138082069445,
           -71.04783142647351,
           1
          ],
          [
           "South Boston",
           42.35140331689556,
           -71.04650400765064,
           1
          ],
          [
           "South Boston",
           42.35140689647919,
           -71.04737738042367,
           1
          ],
          [
           "South Boston",
           42.35141568723189,
           -71.04584520025251,
           1
          ],
          [
           "South Boston",
           42.35143517151065,
           -71.04635493402698,
           1
          ],
          [
           "South Boston",
           42.351504217341365,
           -71.04568942376987,
           1
          ],
          [
           "South Boston",
           42.35165088435188,
           -71.04582204210597,
           1
          ],
          [
           "South Boston",
           42.35166473410764,
           -71.04800299113269,
           1
          ],
          [
           "South Boston",
           42.35171692181447,
           -71.0472571770762,
           1
          ],
          [
           "South Boston",
           42.35194789894098,
           -71.04655412548513,
           1
          ],
          [
           "South Boston",
           42.352008332223996,
           -71.04786228033406,
           1
          ],
          [
           "South Boston",
           42.352426591780656,
           -71.04256213591216,
           1
          ],
          [
           "South Boston",
           42.35261241348886,
           -71.04651821928854,
           1
          ],
          [
           "South Boston",
           42.352625417231664,
           -71.04744291537813,
           1
          ],
          [
           "South Boston",
           42.352644551715905,
           -71.04570060522596,
           1
          ],
          [
           "South Boston",
           42.3527392865174,
           -71.04762548012108,
           1
          ],
          [
           "South Boston",
           42.35291853236243,
           -71.04803082411857,
           1
          ],
          [
           "South Boston",
           42.353046358641045,
           -71.0466642167258,
           1
          ],
          [
           "South Boston",
           42.353298025497644,
           -71.0476397224102,
           1
          ],
          [
           "South Boston",
           42.35331087209511,
           -71.04600110247998,
           1
          ],
          [
           "South Boston",
           42.35331124490168,
           -71.04719418586498,
           1
          ],
          [
           "South Boston",
           42.353356229595335,
           -71.04782901263067,
           1
          ],
          [
           "South Boston",
           42.37615402151752,
           -71.0381974177387,
           1
          ],
          [
           "South End",
           42.33519276568347,
           -71.0749509404685,
           1
          ],
          [
           "South End",
           42.33533589134802,
           -71.07425652058345,
           1
          ],
          [
           "South End",
           42.33538409043661,
           -71.07521683508621,
           1
          ],
          [
           "South End",
           42.33547303703897,
           -71.0750210198741,
           1
          ],
          [
           "South End",
           42.33569268282436,
           -71.0746321058278,
           1
          ],
          [
           "South End",
           42.335947617175776,
           -71.0751658937791,
           1
          ],
          [
           "South End",
           42.33596696281348,
           -71.07508978371679,
           1
          ],
          [
           "South End",
           42.336058672771635,
           -71.07476967504456,
           1
          ],
          [
           "South End",
           42.33608007227669,
           -71.07425896492398,
           1
          ],
          [
           "South End",
           42.336172232175024,
           -71.0754272361867,
           1
          ],
          [
           "South End",
           42.336185144549226,
           -71.07342145580922,
           1
          ],
          [
           "South End",
           42.33627763773672,
           -71.07431077125244,
           1
          ],
          [
           "South End",
           42.336281548393224,
           -71.06903945639355,
           1
          ],
          [
           "South End",
           42.336326709397284,
           -71.07415654665085,
           1
          ],
          [
           "South End",
           42.33634779246965,
           -71.07665638181408,
           1
          ],
          [
           "South End",
           42.33650485031658,
           -71.0756964118257,
           1
          ],
          [
           "South End",
           42.33651865916773,
           -71.0696988629383,
           1
          ],
          [
           "South End",
           42.33659485343961,
           -71.07603148953406,
           1
          ],
          [
           "South End",
           42.33666003931315,
           -71.07502392758799,
           1
          ],
          [
           "South End",
           42.33671249560704,
           -71.07545754027247,
           1
          ],
          [
           "South End",
           42.336760458154714,
           -71.07576188649263,
           1
          ],
          [
           "South End",
           42.33679018285152,
           -71.07545931453197,
           1
          ],
          [
           "South End",
           42.33679501814413,
           -71.07648754166487,
           1
          ],
          [
           "South End",
           42.336832594946884,
           -71.06949729685238,
           1
          ],
          [
           "South End",
           42.336852722964395,
           -71.07306169541253,
           1
          ],
          [
           "South End",
           42.33690761745749,
           -71.0774773031623,
           1
          ],
          [
           "South End",
           42.33699527728718,
           -71.07436551262174,
           1
          ],
          [
           "South End",
           42.33710999881372,
           -71.07713064126249,
           1
          ],
          [
           "South End",
           42.33713722400331,
           -71.07672504507882,
           1
          ],
          [
           "South End",
           42.33716187471486,
           -71.07611332285876,
           1
          ],
          [
           "South End",
           42.33716831362333,
           -71.07499568755941,
           1
          ],
          [
           "South End",
           42.3372339026448,
           -71.0697730547217,
           1
          ],
          [
           "South End",
           42.337263656169746,
           -71.07632731501351,
           1
          ],
          [
           "South End",
           42.33745063900357,
           -71.07636722141864,
           1
          ],
          [
           "South End",
           42.33745977503256,
           -71.0746241517216,
           1
          ],
          [
           "South End",
           42.33750207844881,
           -71.07653797940841,
           1
          ],
          [
           "South End",
           42.3376273677204,
           -71.07394702802685,
           1
          ],
          [
           "South End",
           42.337661246627015,
           -71.07280867691911,
           1
          ],
          [
           "South End",
           42.33767012629468,
           -71.07640773355523,
           1
          ],
          [
           "South End",
           42.33767182556047,
           -71.06988900199926,
           1
          ],
          [
           "South End",
           42.338040843470274,
           -71.07574541079221,
           1
          ],
          [
           "South End",
           42.3380745881418,
           -71.07532867247558,
           1
          ],
          [
           "South End",
           42.33811321506902,
           -71.07821869860777,
           1
          ],
          [
           "South End",
           42.338139257931346,
           -71.0756268168095,
           1
          ],
          [
           "South End",
           42.33816148609245,
           -71.0681538431211,
           1
          ],
          [
           "South End",
           42.33816881242794,
           -71.07495053295358,
           1
          ],
          [
           "South End",
           42.3381795920964,
           -71.06462945503596,
           1
          ],
          [
           "South End",
           42.33825951176984,
           -71.0709154570732,
           1
          ],
          [
           "South End",
           42.3382832754688,
           -71.07136230916439,
           1
          ],
          [
           "South End",
           42.33830139487766,
           -71.07794455451216,
           1
          ],
          [
           "South End",
           42.33831659589648,
           -71.07690856396708,
           1
          ],
          [
           "South End",
           42.33831709434265,
           -71.0765863728929,
           1
          ],
          [
           "South End",
           42.338323186341185,
           -71.07629653396533,
           1
          ],
          [
           "South End",
           42.33833506722896,
           -71.0709052372564,
           1
          ],
          [
           "South End",
           42.33838120920071,
           -71.07496368669906,
           1
          ],
          [
           "South End",
           42.33857762791107,
           -71.06929003595755,
           1
          ],
          [
           "South End",
           42.33865083495421,
           -71.07058959947231,
           1
          ],
          [
           "South End",
           42.339022082444096,
           -71.07704210917748,
           1
          ],
          [
           "South End",
           42.33909385934611,
           -71.07900523916493,
           1
          ],
          [
           "South End",
           42.33914265660413,
           -71.07978997672878,
           1
          ],
          [
           "South End",
           42.33918321632019,
           -71.07818450213287,
           1
          ],
          [
           "South End",
           42.33930896325949,
           -71.06495498840539,
           1
          ],
          [
           "South End",
           42.339370862299816,
           -71.08025759344305,
           1
          ],
          [
           "South End",
           42.339434851669424,
           -71.08005787284273,
           1
          ],
          [
           "South End",
           42.339544636587625,
           -71.07387035555206,
           1
          ],
          [
           "South End",
           42.33960911395865,
           -71.07998675927278,
           1
          ],
          [
           "South End",
           42.33971998113592,
           -71.07510804361488,
           1
          ],
          [
           "South End",
           42.3397545430106,
           -71.07900429883713,
           1
          ],
          [
           "South End",
           42.33981502500543,
           -71.07770093493704,
           1
          ],
          [
           "South End",
           42.33982700547539,
           -71.07419475613311,
           1
          ],
          [
           "South End",
           42.33996516682,
           -71.0751420222178,
           1
          ],
          [
           "South End",
           42.34021512126599,
           -71.07499793976649,
           1
          ],
          [
           "South End",
           42.340245203198684,
           -71.07663628342726,
           1
          ],
          [
           "South End",
           42.340323325982965,
           -71.0757153441531,
           1
          ],
          [
           "South End",
           42.340331495073336,
           -71.08041359860917,
           1
          ],
          [
           "South End",
           42.34036818739428,
           -71.08015135949631,
           1
          ],
          [
           "South End",
           42.34042312379683,
           -71.07512874452547,
           1
          ],
          [
           "South End",
           42.340459373635674,
           -71.08035799061796,
           1
          ],
          [
           "South End",
           42.340536970144,
           -71.07174927428004,
           1
          ],
          [
           "South End",
           42.34055091680753,
           -71.07510738195886,
           1
          ],
          [
           "South End",
           42.34066934297081,
           -71.07689917005895,
           1
          ],
          [
           "South End",
           42.34071458337621,
           -71.07406084459463,
           1
          ],
          [
           "South End",
           42.34075399526022,
           -71.08183367653695,
           1
          ],
          [
           "South End",
           42.34076181577172,
           -71.08022287878723,
           1
          ],
          [
           "South End",
           42.34079541636332,
           -71.0807041719754,
           1
          ],
          [
           "South End",
           42.34094316789322,
           -71.07704194672662,
           1
          ],
          [
           "South End",
           42.340961204246724,
           -71.06641320666542,
           1
          ],
          [
           "South End",
           42.340986953402,
           -71.07972834630348,
           1
          ],
          [
           "South End",
           42.34099239012987,
           -71.08019689079354,
           1
          ],
          [
           "South End",
           42.34105938439816,
           -71.08073924259249,
           1
          ],
          [
           "South End",
           42.341111243859274,
           -71.07029310873192,
           1
          ],
          [
           "South End",
           42.34113339953168,
           -71.0800111913047,
           1
          ],
          [
           "South End",
           42.34116166144551,
           -71.07697592547242,
           1
          ],
          [
           "South End",
           42.34121174361634,
           -71.07955074559071,
           1
          ],
          [
           "South End",
           42.341220300742066,
           -71.07532969141522,
           1
          ],
          [
           "South End",
           42.34124312129233,
           -71.06691067139785,
           1
          ],
          [
           "South End",
           42.34126176465926,
           -71.07719172451444,
           1
          ],
          [
           "South End",
           42.341369565015626,
           -71.07886725564434,
           1
          ],
          [
           "South End",
           42.34140859449171,
           -71.08173066438553,
           1
          ],
          [
           "South End",
           42.341412009543056,
           -71.08113734051851,
           1
          ],
          [
           "South End",
           42.3414449942222,
           -71.080511439692,
           1
          ],
          [
           "South End",
           42.341457418397546,
           -71.07640609858423,
           1
          ],
          [
           "South End",
           42.34150455105753,
           -71.08087505967704,
           1
          ],
          [
           "South End",
           42.341630055485524,
           -71.07388633098988,
           1
          ],
          [
           "South End",
           42.3416958890559,
           -71.0688922481789,
           1
          ],
          [
           "South End",
           42.34175231690293,
           -71.07533351392034,
           1
          ],
          [
           "South End",
           42.341763226574905,
           -71.07539721966455,
           1
          ],
          [
           "South End",
           42.34178015511022,
           -71.08004973669456,
           1
          ],
          [
           "South End",
           42.341795024647546,
           -71.07566431880906,
           1
          ],
          [
           "South End",
           42.34179689334264,
           -71.07819514226415,
           1
          ],
          [
           "South End",
           42.341804981809375,
           -71.07982968478547,
           1
          ],
          [
           "South End",
           42.341836063774885,
           -71.06475387663066,
           1
          ],
          [
           "South End",
           42.34187597892178,
           -71.07814908549496,
           1
          ],
          [
           "South End",
           42.34188979998796,
           -71.07254314770427,
           1
          ],
          [
           "South End",
           42.34191276179271,
           -71.07153788949805,
           1
          ],
          [
           "South End",
           42.341914194874114,
           -71.08080630405638,
           1
          ],
          [
           "South End",
           42.34193791016164,
           -71.07873717795975,
           1
          ],
          [
           "South End",
           42.34195414470815,
           -71.06994870141153,
           1
          ],
          [
           "South End",
           42.34197616045519,
           -71.08127587091947,
           1
          ],
          [
           "South End",
           42.34198708233029,
           -71.07970168974757,
           1
          ],
          [
           "South End",
           42.342034712206896,
           -71.0725641864423,
           1
          ],
          [
           "South End",
           42.3422176149657,
           -71.06976148628466,
           1
          ],
          [
           "South End",
           42.34222018183153,
           -71.08026312638313,
           1
          ],
          [
           "South End",
           42.34230308536128,
           -71.08036333667405,
           1
          ],
          [
           "South End",
           42.342334596351975,
           -71.07311989062913,
           1
          ],
          [
           "South End",
           42.34237255365213,
           -71.07922266232886,
           1
          ],
          [
           "South End",
           42.34237399125715,
           -71.0756014945988,
           1
          ],
          [
           "South End",
           42.34241482588717,
           -71.0745193431245,
           1
          ],
          [
           "South End",
           42.34242389811297,
           -71.07909612860908,
           1
          ],
          [
           "South End",
           42.34245930867989,
           -71.07890447746666,
           1
          ],
          [
           "South End",
           42.342532854851854,
           -71.0705170592166,
           1
          ],
          [
           "South End",
           42.34258199617985,
           -71.07650344409146,
           1
          ],
          [
           "South End",
           42.342585901583185,
           -71.07969075832185,
           1
          ],
          [
           "South End",
           42.34259444459376,
           -71.07942070179357,
           1
          ],
          [
           "South End",
           42.34266914158189,
           -71.06957670158452,
           1
          ],
          [
           "South End",
           42.34269698618983,
           -71.0754573598207,
           1
          ],
          [
           "South End",
           42.34276160581032,
           -71.07469313198952,
           1
          ],
          [
           "South End",
           42.34284812399638,
           -71.07212170900222,
           1
          ],
          [
           "South End",
           42.34285804910194,
           -71.07339304532253,
           1
          ],
          [
           "South End",
           42.342895591284595,
           -71.0742316809028,
           1
          ],
          [
           "South End",
           42.342936329428575,
           -71.07345338392714,
           1
          ],
          [
           "South End",
           42.34299962554208,
           -71.06594437369185,
           1
          ],
          [
           "South End",
           42.34306172286721,
           -71.07275113869639,
           1
          ],
          [
           "South End",
           42.343094950510995,
           -71.07979757211612,
           1
          ],
          [
           "South End",
           42.34310593315024,
           -71.06896984690701,
           1
          ],
          [
           "South End",
           42.343119505297864,
           -71.07585049962194,
           1
          ],
          [
           "South End",
           42.34312857447157,
           -71.08114078745443,
           1
          ],
          [
           "South End",
           42.3431761338457,
           -71.07708426973839,
           1
          ],
          [
           "South End",
           42.343209881894154,
           -71.07776036316244,
           1
          ],
          [
           "South End",
           42.3432306210891,
           -71.07748715400449,
           1
          ],
          [
           "South End",
           42.34327133266448,
           -71.08126679922505,
           1
          ],
          [
           "South End",
           42.34327954116151,
           -71.07987037936746,
           1
          ],
          [
           "South End",
           42.343355553677895,
           -71.06571608927693,
           1
          ],
          [
           "South End",
           42.34336278530577,
           -71.07803853970401,
           1
          ],
          [
           "South End",
           42.34337256743142,
           -71.0695136811169,
           1
          ],
          [
           "South End",
           42.343384513713204,
           -71.06881167812554,
           1
          ],
          [
           "South End",
           42.34339171303941,
           -71.0751778404017,
           1
          ],
          [
           "South End",
           42.34339888479836,
           -71.07888540346383,
           1
          ],
          [
           "South End",
           42.34341272279628,
           -71.0760400813346,
           1
          ],
          [
           "South End",
           42.34341555548842,
           -71.07951597072665,
           1
          ],
          [
           "South End",
           42.34342894519076,
           -71.07400280761591,
           1
          ],
          [
           "South End",
           42.34343207030431,
           -71.0729121344843,
           1
          ],
          [
           "South End",
           42.34343806690266,
           -71.07688355946277,
           1
          ],
          [
           "South End",
           42.343440579314475,
           -71.07737512203144,
           1
          ],
          [
           "South End",
           42.343453595018936,
           -71.07966122077806,
           1
          ],
          [
           "South End",
           42.34346177505992,
           -71.0641953929085,
           1
          ],
          [
           "South End",
           42.34348781143775,
           -71.07680165158365,
           1
          ],
          [
           "South End",
           42.34362090082919,
           -71.067992576338,
           1
          ],
          [
           "South End",
           42.34362445699148,
           -71.07729754504166,
           1
          ],
          [
           "South End",
           42.34363867841807,
           -71.07023501053978,
           1
          ],
          [
           "South End",
           42.34364179499233,
           -71.07572452164456,
           1
          ],
          [
           "South End",
           42.343641871311775,
           -71.07690397186802,
           1
          ],
          [
           "South End",
           42.3436420563734,
           -71.07096861790879,
           1
          ],
          [
           "South End",
           42.343648810368656,
           -71.07912481988458,
           1
          ],
          [
           "South End",
           42.343659187452296,
           -71.07210303740261,
           1
          ],
          [
           "South End",
           42.34366470397222,
           -71.07562188480422,
           1
          ],
          [
           "South End",
           42.34367970626481,
           -71.07700348905995,
           1
          ],
          [
           "South End",
           42.34369552432539,
           -71.07810031710835,
           1
          ],
          [
           "South End",
           42.34370147448126,
           -71.06921832742043,
           1
          ],
          [
           "South End",
           42.34376716995201,
           -71.07493705450555,
           1
          ],
          [
           "South End",
           42.34379199602544,
           -71.07285898792072,
           1
          ],
          [
           "South End",
           42.343809798315526,
           -71.06929087357383,
           1
          ],
          [
           "South End",
           42.34382074445443,
           -71.07536874784437,
           1
          ],
          [
           "South End",
           42.343841430642414,
           -71.07182663613271,
           1
          ],
          [
           "South End",
           42.34384167237561,
           -71.07007468831209,
           1
          ],
          [
           "South End",
           42.34385225246118,
           -71.07925307675536,
           1
          ],
          [
           "South End",
           42.343861907373025,
           -71.07419704066525,
           1
          ],
          [
           "South End",
           42.34387421592756,
           -71.07417158346134,
           1
          ],
          [
           "South End",
           42.343891016905964,
           -71.06948267335083,
           1
          ],
          [
           "South End",
           42.343981163258455,
           -71.06485660685141,
           1
          ],
          [
           "South End",
           42.34399514430829,
           -71.07656683740849,
           1
          ],
          [
           "South End",
           42.34402060645204,
           -71.0742996276532,
           1
          ],
          [
           "South End",
           42.344025101552944,
           -71.0771651608005,
           1
          ],
          [
           "South End",
           42.3440320608932,
           -71.07408004988413,
           1
          ],
          [
           "South End",
           42.344036153924435,
           -71.0788917256318,
           1
          ],
          [
           "South End",
           42.344036641896075,
           -71.07639142583984,
           1
          ],
          [
           "South End",
           42.344073038033464,
           -71.07532811185658,
           1
          ],
          [
           "South End",
           42.34407347137525,
           -71.07785150050033,
           1
          ],
          [
           "South End",
           42.344124982631705,
           -71.0704830352942,
           1
          ],
          [
           "South End",
           42.344140993510656,
           -71.07226296920034,
           1
          ],
          [
           "South End",
           42.344147141072774,
           -71.07272570198928,
           1
          ],
          [
           "South End",
           42.344181628261964,
           -71.07143716063726,
           1
          ],
          [
           "South End",
           42.34418593142552,
           -71.07608517014641,
           1
          ],
          [
           "South End",
           42.34419543393126,
           -71.07363010738126,
           1
          ],
          [
           "South End",
           42.34420619792674,
           -71.07222801800599,
           1
          ],
          [
           "South End",
           42.344222185798436,
           -71.07537505592731,
           1
          ],
          [
           "South End",
           42.34422661526431,
           -71.0778781826634,
           1
          ],
          [
           "South End",
           42.344256363227885,
           -71.06330675289584,
           1
          ],
          [
           "South End",
           42.34426013201698,
           -71.06652566121373,
           1
          ],
          [
           "South End",
           42.344288819643246,
           -71.06304997042761,
           1
          ],
          [
           "South End",
           42.34430213679429,
           -71.06899694278945,
           1
          ],
          [
           "South End",
           42.34433316579844,
           -71.07106172025055,
           1
          ],
          [
           "South End",
           42.344350088259674,
           -71.06362034342176,
           1
          ],
          [
           "South End",
           42.34437307871689,
           -71.06457653067581,
           1
          ],
          [
           "South End",
           42.34443021942535,
           -71.06251624726225,
           1
          ],
          [
           "South End",
           42.34445532804108,
           -71.07411174414845,
           1
          ],
          [
           "South End",
           42.34447431637321,
           -71.07698271329764,
           1
          ],
          [
           "South End",
           42.34450691880606,
           -71.07389618778237,
           1
          ],
          [
           "South End",
           42.344513125529645,
           -71.07422168503966,
           1
          ],
          [
           "South End",
           42.344581950417215,
           -71.07551295903802,
           1
          ],
          [
           "South End",
           42.344676797679256,
           -71.07762314805531,
           1
          ],
          [
           "South End",
           42.344684651438115,
           -71.07663303521966,
           1
          ],
          [
           "South End",
           42.34473147773382,
           -71.07090818312652,
           1
          ],
          [
           "South End",
           42.34474482784281,
           -71.07705983965717,
           1
          ],
          [
           "South End",
           42.34474517673787,
           -71.07025685651888,
           1
          ],
          [
           "South End",
           42.344764119372726,
           -71.07276299016534,
           1
          ],
          [
           "South End",
           42.344795393058796,
           -71.06325925824873,
           1
          ],
          [
           "South End",
           42.34482585933533,
           -71.07687463262259,
           1
          ],
          [
           "South End",
           42.34485438176257,
           -71.07276955097228,
           1
          ],
          [
           "South End",
           42.34485682989903,
           -71.06210730087227,
           1
          ],
          [
           "South End",
           42.34487888239292,
           -71.06312885220463,
           1
          ],
          [
           "South End",
           42.34490729984276,
           -71.07523415062045,
           1
          ],
          [
           "South End",
           42.34494301766899,
           -71.06745954101547,
           1
          ],
          [
           "South End",
           42.34494492926521,
           -71.07599093732362,
           1
          ],
          [
           "South End",
           42.34495654198742,
           -71.07485746185634,
           1
          ],
          [
           "South End",
           42.34499777117262,
           -71.07253947669034,
           1
          ],
          [
           "South End",
           42.345002980504304,
           -71.07747015790487,
           1
          ],
          [
           "South End",
           42.34502803026525,
           -71.07666326608363,
           1
          ],
          [
           "South End",
           42.345039484346174,
           -71.06213504834885,
           1
          ],
          [
           "South End",
           42.34504558170755,
           -71.07576543977316,
           1
          ],
          [
           "South End",
           42.34506923068747,
           -71.07883957651161,
           1
          ],
          [
           "South End",
           42.345078825964585,
           -71.07740009533862,
           1
          ],
          [
           "South End",
           42.34511319689578,
           -71.07225420882385,
           1
          ],
          [
           "South End",
           42.345134095463145,
           -71.07513462335173,
           1
          ],
          [
           "South End",
           42.345159717726546,
           -71.071673467821,
           1
          ],
          [
           "South End",
           42.34518662586733,
           -71.07229518334229,
           1
          ],
          [
           "South End",
           42.34520109955025,
           -71.07882827612877,
           1
          ],
          [
           "South End",
           42.34521620497881,
           -71.07185952728959,
           1
          ],
          [
           "South End",
           42.34522988307238,
           -71.07282284007427,
           1
          ],
          [
           "South End",
           42.34529647641143,
           -71.0774881773436,
           1
          ],
          [
           "South End",
           42.34531492337171,
           -71.07496560667472,
           1
          ],
          [
           "South End",
           42.345352029176055,
           -71.07355081681294,
           1
          ],
          [
           "South End",
           42.345385114835494,
           -71.0636227290942,
           1
          ],
          [
           "South End",
           42.3453930785548,
           -71.06303905951947,
           1
          ],
          [
           "South End",
           42.34541183438231,
           -71.07566909983646,
           1
          ],
          [
           "South End",
           42.34541906784078,
           -71.0771109253581,
           1
          ],
          [
           "South End",
           42.34549102547901,
           -71.06242223492261,
           1
          ],
          [
           "South End",
           42.34549157039425,
           -71.074562288104,
           1
          ],
          [
           "South End",
           42.34549639046378,
           -71.06207974341547,
           1
          ],
          [
           "South End",
           42.34551716169836,
           -71.06939492583994,
           1
          ],
          [
           "South End",
           42.34555475485465,
           -71.0615748419913,
           1
          ],
          [
           "South End",
           42.34556791104973,
           -71.07735542129099,
           1
          ],
          [
           "South End",
           42.34557311589929,
           -71.07761895850723,
           1
          ],
          [
           "South End",
           42.345584259735475,
           -71.07668643519287,
           1
          ],
          [
           "South End",
           42.345594484534246,
           -71.07488059741611,
           1
          ],
          [
           "South End",
           42.34560256185624,
           -71.07571070452711,
           1
          ],
          [
           "South End",
           42.34561286613293,
           -71.07698748474715,
           1
          ],
          [
           "South End",
           42.34562568447279,
           -71.06321265493553,
           1
          ],
          [
           "South End",
           42.34565356501126,
           -71.0765050295693,
           1
          ],
          [
           "South End",
           42.345678693852854,
           -71.06943202335499,
           1
          ],
          [
           "South End",
           42.34576674071476,
           -71.06318918678608,
           1
          ],
          [
           "South End",
           42.345790453343284,
           -71.06343694207712,
           1
          ],
          [
           "South End",
           42.34592824984945,
           -71.07398023416009,
           1
          ],
          [
           "South End",
           42.345949989203206,
           -71.07248994635422,
           1
          ],
          [
           "South End",
           42.34606839151711,
           -71.0764613920838,
           1
          ],
          [
           "South End",
           42.34618796317229,
           -71.07314898454436,
           1
          ],
          [
           "South End",
           42.346233037483046,
           -71.07363869991637,
           1
          ],
          [
           "South End",
           42.34632376109648,
           -71.06301626598292,
           1
          ],
          [
           "South End",
           42.3463399059288,
           -71.06438062261992,
           1
          ],
          [
           "South End",
           42.346342417037384,
           -71.06385899400674,
           1
          ],
          [
           "South End",
           42.34641699535807,
           -71.07314861196369,
           1
          ],
          [
           "South End",
           42.34642847317033,
           -71.07502990080344,
           1
          ],
          [
           "South End",
           42.346432694710224,
           -71.07091582400858,
           1
          ],
          [
           "South End",
           42.346436512306994,
           -71.07480755845373,
           1
          ],
          [
           "South End",
           42.34650892135457,
           -71.07337174856316,
           1
          ],
          [
           "South End",
           42.34661693742443,
           -71.07387660058951,
           1
          ],
          [
           "South End",
           42.34663651268857,
           -71.07398974952609,
           1
          ],
          [
           "South End",
           42.34667378780709,
           -71.07549847242363,
           1
          ],
          [
           "South End",
           42.34685534038649,
           -71.07214127361344,
           1
          ],
          [
           "South End",
           42.34703197813619,
           -71.06957015026913,
           1
          ],
          [
           "South End",
           42.34707029449362,
           -71.07089195770527,
           1
          ],
          [
           "South End",
           42.347079923983,
           -71.07361071300343,
           1
          ],
          [
           "South End",
           42.34714203274801,
           -71.07442764918473,
           1
          ],
          [
           "South End",
           42.347152582645776,
           -71.0719031165681,
           1
          ],
          [
           "South End",
           42.34717117812328,
           -71.07129740210965,
           1
          ],
          [
           "South End",
           42.34740737719368,
           -71.07267288697845,
           1
          ],
          [
           "South End",
           42.34747332897543,
           -71.07334293945296,
           1
          ],
          [
           "South End",
           42.34748545246121,
           -71.0731259265208,
           1
          ],
          [
           "Theater District",
           42.350277053667625,
           -71.06521008189175,
           1
          ],
          [
           "Theater District",
           42.35030998335048,
           -71.06534209046265,
           1
          ],
          [
           "Theater District",
           42.3503315029418,
           -71.0650031207999,
           1
          ],
          [
           "Theater District",
           42.35056387033249,
           -71.06565364219793,
           1
          ],
          [
           "Theater District",
           42.35057185007228,
           -71.06422773039341,
           1
          ],
          [
           "Theater District",
           42.350594032018186,
           -71.06534688915714,
           1
          ],
          [
           "Theater District",
           42.350760764387324,
           -71.06585080123416,
           1
          ],
          [
           "Theater District",
           42.35102338783037,
           -71.0637930258652,
           1
          ],
          [
           "Theater District",
           42.35108655849663,
           -71.0652709333712,
           1
          ],
          [
           "Theater District",
           42.35119541515407,
           -71.06371813598751,
           1
          ],
          [
           "Theater District",
           42.35122665932927,
           -71.06408080672719,
           1
          ],
          [
           "Theater District",
           42.35133653411735,
           -71.06556203490102,
           1
          ],
          [
           "Theater District",
           42.3514930695486,
           -71.06518757068073,
           1
          ],
          [
           "Theater District",
           42.351582874206116,
           -71.06534601202635,
           1
          ],
          [
           "Theater District",
           42.35162293153461,
           -71.06685883272657,
           1
          ],
          [
           "Theater District",
           42.35175907694844,
           -71.06320945486445,
           1
          ],
          [
           "Theater District",
           42.3517764189996,
           -71.06368056789918,
           1
          ],
          [
           "Theater District",
           42.35187963304116,
           -71.06418052773833,
           1
          ],
          [
           "Theater District",
           42.35192217360375,
           -71.06567999045147,
           1
          ],
          [
           "Theater District",
           42.35197725363815,
           -71.06272740805204,
           1
          ],
          [
           "Theater District",
           42.35204722237334,
           -71.06413405225246,
           1
          ],
          [
           "Theater District",
           42.3524017689002,
           -71.06346104645667,
           1
          ],
          [
           "Theater District",
           42.3524270264849,
           -71.0645334850395,
           1
          ],
          [
           "Theater District",
           42.35257068706528,
           -71.0636043071628,
           1
          ],
          [
           "Theater District",
           42.35264997462747,
           -71.06317955731629,
           1
          ],
          [
           "Theater District",
           42.35267903104372,
           -71.0640903405246,
           1
          ],
          [
           "Theater District",
           42.352706806306976,
           -71.06338443326806,
           1
          ],
          [
           "Theater District",
           42.35281503332993,
           -71.06371270045744,
           1
          ],
          [
           "Theater District",
           42.352840770749374,
           -71.06260645631285,
           1
          ],
          [
           "Theater District",
           42.35290753515081,
           -71.06339267625212,
           1
          ],
          [
           "Theater District",
           42.35300316607308,
           -71.06361936390222,
           1
          ],
          [
           "Theater District",
           42.353186230047726,
           -71.0625964807123,
           1
          ],
          [
           "Theater District",
           42.35364833681216,
           -71.06173783805114,
           1
          ],
          [
           "West End",
           42.35880310715034,
           -71.06972215883614,
           1
          ],
          [
           "West End",
           42.36169550538031,
           -71.06575767216657,
           1
          ],
          [
           "West End",
           42.362049957861295,
           -71.0634040680806,
           1
          ],
          [
           "West End",
           42.3622516640254,
           -71.06804507757398,
           1
          ],
          [
           "West End",
           42.36256483589406,
           -71.0636978263333,
           1
          ],
          [
           "West End",
           42.36270729704196,
           -71.06547333129386,
           1
          ],
          [
           "West End",
           42.362708186637704,
           -71.06330692934294,
           1
          ],
          [
           "West End",
           42.36318985341243,
           -71.06910537918141,
           1
          ],
          [
           "West End",
           42.36327128472357,
           -71.06943159807113,
           1
          ],
          [
           "West End",
           42.363291307506536,
           -71.06710681709838,
           1
          ],
          [
           "West End",
           42.36334248637794,
           -71.06997794387378,
           1
          ],
          [
           "West End",
           42.363408005140684,
           -71.06763390122244,
           1
          ],
          [
           "West End",
           42.36342019650638,
           -71.07108145608237,
           1
          ],
          [
           "West End",
           42.363603834323456,
           -71.07035471181379,
           1
          ],
          [
           "West End",
           42.36372540039418,
           -71.06815872074992,
           1
          ],
          [
           "West End",
           42.36379198928958,
           -71.06400908925353,
           1
          ],
          [
           "West End",
           42.363802658237674,
           -71.06776691309119,
           1
          ],
          [
           "West End",
           42.36385227244247,
           -71.06469885843521,
           1
          ],
          [
           "West End",
           42.36386502353799,
           -71.06895043843967,
           1
          ],
          [
           "West End",
           42.36401181647057,
           -71.0678241233974,
           1
          ],
          [
           "West End",
           42.36402595184928,
           -71.05949255382585,
           1
          ],
          [
           "West End",
           42.36404531328841,
           -71.06478588150799,
           1
          ],
          [
           "West End",
           42.364087486174064,
           -71.05942866658201,
           1
          ],
          [
           "West End",
           42.3641571120472,
           -71.06811908941427,
           1
          ],
          [
           "West End",
           42.364174844900226,
           -71.06320412284416,
           1
          ],
          [
           "West End",
           42.364188494262656,
           -71.05878820518811,
           1
          ],
          [
           "West End",
           42.364194918040496,
           -71.06430056689483,
           1
          ],
          [
           "West End",
           42.36425275901321,
           -71.05958574525586,
           1
          ],
          [
           "West End",
           42.36427675343777,
           -71.0592995488237,
           1
          ],
          [
           "West End",
           42.36428350076047,
           -71.06535458734923,
           1
          ],
          [
           "West End",
           42.364290528112214,
           -71.06837611724218,
           1
          ],
          [
           "West End",
           42.36431611458808,
           -71.06107518741497,
           1
          ],
          [
           "West End",
           42.36434318493671,
           -71.06077179693705,
           1
          ],
          [
           "West End",
           42.36435857501135,
           -71.06953390564962,
           1
          ],
          [
           "West End",
           42.36436488962654,
           -71.06348724765368,
           1
          ],
          [
           "West End",
           42.36443313550078,
           -71.06039046179252,
           1
          ],
          [
           "West End",
           42.36451713943761,
           -71.06356100211109,
           1
          ],
          [
           "West End",
           42.36459424641549,
           -71.06548310163456,
           1
          ],
          [
           "West End",
           42.3646675827611,
           -71.06108001075276,
           1
          ],
          [
           "West End",
           42.364668042853936,
           -71.06942445347282,
           1
          ],
          [
           "West End",
           42.36471355463015,
           -71.06062807787244,
           1
          ],
          [
           "West End",
           42.364795850531934,
           -71.07010306472651,
           1
          ],
          [
           "West End",
           42.364801672919455,
           -71.06865495357738,
           1
          ],
          [
           "West End",
           42.36480762291193,
           -71.0689303934233,
           1
          ],
          [
           "West End",
           42.3648189588525,
           -71.06907671576316,
           1
          ],
          [
           "West End",
           42.36483197133771,
           -71.0639087327483,
           1
          ],
          [
           "West End",
           42.364861898081934,
           -71.06715419186051,
           1
          ],
          [
           "West End",
           42.364944979709705,
           -71.06766819894484,
           1
          ],
          [
           "West End",
           42.3649990040976,
           -71.0597040527482,
           1
          ],
          [
           "West End",
           42.365029189554676,
           -71.06913786758388,
           1
          ],
          [
           "West End",
           42.36511606061526,
           -71.06926304774595,
           1
          ],
          [
           "West End",
           42.36512257188307,
           -71.06859844486101,
           1
          ],
          [
           "West End",
           42.36513193449141,
           -71.06975166423223,
           1
          ],
          [
           "West End",
           42.365147439070256,
           -71.06754832855776,
           1
          ],
          [
           "West End",
           42.36523377941854,
           -71.0677963849673,
           1
          ],
          [
           "West End",
           42.36534119834248,
           -71.06101106410634,
           1
          ],
          [
           "West End",
           42.36542676778461,
           -71.06773017706558,
           1
          ],
          [
           "West End",
           42.36547467904622,
           -71.06891649349022,
           1
          ],
          [
           "West End",
           42.36550572317064,
           -71.0681813624302,
           1
          ],
          [
           "West End",
           42.36571169298575,
           -71.06023043086395,
           1
          ],
          [
           "West End",
           42.365740636714285,
           -71.05984695855581,
           1
          ],
          [
           "West End",
           42.36590513441662,
           -71.06089339441036,
           1
          ],
          [
           "West End",
           42.36596731344965,
           -71.05953501624145,
           1
          ],
          [
           "West End",
           42.366233081540976,
           -71.05904009105518,
           1
          ],
          [
           "West End",
           42.36623457702698,
           -71.06784618110888,
           1
          ],
          [
           "West End",
           42.36626828412615,
           -71.05897663005086,
           1
          ],
          [
           "West End",
           42.36669453190779,
           -71.06633635403648,
           1
          ],
          [
           "West End",
           42.366816400810286,
           -71.0645852489717,
           1
          ],
          [
           "West Roxbury",
           42.263385659608225,
           -71.15365616404101,
           1
          ],
          [
           "West Roxbury",
           42.26344340728242,
           -71.14864175608962,
           1
          ],
          [
           "West Roxbury",
           42.26960582795846,
           -71.16404356684191,
           1
          ],
          [
           "West Roxbury",
           42.270662026898755,
           -71.16875139859292,
           1
          ],
          [
           "West Roxbury",
           42.271745147344056,
           -71.16148454283409,
           1
          ],
          [
           "West Roxbury",
           42.271761311820285,
           -71.1675924126962,
           1
          ],
          [
           "West Roxbury",
           42.27190840248023,
           -71.14780586950026,
           1
          ],
          [
           "West Roxbury",
           42.272456697257006,
           -71.16863144666411,
           1
          ],
          [
           "West Roxbury",
           42.272605834880025,
           -71.1466903299697,
           1
          ],
          [
           "West Roxbury",
           42.27307168640065,
           -71.14653442057656,
           1
          ],
          [
           "West Roxbury",
           42.27391129602972,
           -71.16761654416736,
           1
          ],
          [
           "West Roxbury",
           42.2740855479012,
           -71.16879200051908,
           1
          ],
          [
           "West Roxbury",
           42.27426066859584,
           -71.16704388685726,
           1
          ],
          [
           "West Roxbury",
           42.27427278569533,
           -71.16860805844178,
           1
          ],
          [
           "West Roxbury",
           42.276095454847095,
           -71.16250419223144,
           1
          ],
          [
           "West Roxbury",
           42.27700841791601,
           -71.14533107240824,
           1
          ],
          [
           "West Roxbury",
           42.27737752102145,
           -71.1435708718744,
           1
          ],
          [
           "West Roxbury",
           42.27753724788013,
           -71.14347839569456,
           1
          ],
          [
           "West Roxbury",
           42.27782354851931,
           -71.16211725828838,
           1
          ],
          [
           "West Roxbury",
           42.27795631554848,
           -71.1618076172348,
           1
          ],
          [
           "West Roxbury",
           42.2800955909269,
           -71.16076254472407,
           1
          ],
          [
           "West Roxbury",
           42.28075653676517,
           -71.1532143565036,
           1
          ],
          [
           "West Roxbury",
           42.28641216060653,
           -71.1537157402528,
           1
          ],
          [
           "West Roxbury",
           42.287193705326956,
           -71.1681597440516,
           1
          ],
          [
           "West Roxbury",
           42.2890902367753,
           -71.16785455993056,
           1
          ],
          [
           "West Roxbury",
           42.29018543786325,
           -71.15637538377736,
           1
          ],
          [
           "West Roxbury",
           42.29030248309397,
           -71.16061241070659,
           1
          ],
          [
           "West Roxbury",
           42.29052559198051,
           -71.14105591088914,
           1
          ],
          [
           "West Roxbury",
           42.291180768063775,
           -71.15316226886526,
           1
          ],
          [
           "West Roxbury",
           42.291988226419356,
           -71.14110860733061,
           1
          ],
          [
           "West Roxbury",
           42.29402266959167,
           -71.1513576586947,
           1
          ],
          [
           "West Roxbury",
           42.29419542694481,
           -71.13817106436234,
           1
          ],
          [
           "West Roxbury",
           42.295118297185226,
           -71.14877023989011,
           1
          ],
          [
           "West Roxbury",
           42.29561418875152,
           -71.14608079770588,
           1
          ],
          [
           "West Roxbury",
           42.29955321546439,
           -71.12913835315713,
           1
          ]
         ],
         "index": [
          0,
          1,
          2,
          3,
          4,
          5,
          6,
          7,
          8,
          9,
          10,
          11,
          12,
          13,
          14,
          15,
          16,
          17,
          18,
          19,
          20,
          21,
          22,
          23,
          24,
          25,
          26,
          27,
          28,
          29,
          30,
          31,
          32,
          33,
          34,
          35,
          36,
          37,
          38,
          39,
          40,
          41,
          42,
          43,
          44,
          45,
          46,
          47,
          48,
          49,
          50,
          51,
          52,
          53,
          54,
          55,
          56,
          57,
          58,
          59,
          60,
          61,
          62,
          63,
          64,
          65,
          66,
          67,
          68,
          69,
          70,
          71,
          72,
          73,
          74,
          75,
          76,
          77,
          78,
          79,
          80,
          81,
          82,
          83,
          84,
          85,
          86,
          87,
          88,
          89,
          90,
          91,
          92,
          93,
          94,
          95,
          96,
          97,
          98,
          99,
          100,
          101,
          102,
          103,
          104,
          105,
          106,
          107,
          108,
          109,
          110,
          111,
          112,
          113,
          114,
          115,
          116,
          117,
          118,
          119,
          120,
          121,
          122,
          123,
          124,
          125,
          126,
          127,
          128,
          129,
          130,
          131,
          132,
          133,
          134,
          135,
          136,
          137,
          138,
          139,
          140,
          141,
          142,
          143,
          144,
          145,
          146,
          147,
          148,
          149,
          150,
          151,
          152,
          153,
          154,
          155,
          156,
          157,
          158,
          159,
          160,
          161,
          162,
          163,
          164,
          165,
          166,
          167,
          168,
          169,
          170,
          171,
          172,
          173,
          174,
          175,
          176,
          177,
          178,
          179,
          180,
          181,
          182,
          183,
          184,
          185,
          186,
          187,
          188,
          189,
          190,
          191,
          192,
          193,
          194,
          195,
          196,
          197,
          198,
          199,
          200,
          201,
          202,
          203,
          204,
          205,
          206,
          207,
          208,
          209,
          210,
          211,
          212,
          213,
          214,
          215,
          216,
          217,
          218,
          219,
          220,
          221,
          222,
          223,
          224,
          225,
          226,
          227,
          228,
          229,
          230,
          231,
          232,
          233,
          234,
          235,
          236,
          237,
          238,
          239,
          240,
          241,
          242,
          243,
          244,
          245,
          246,
          247,
          248,
          249,
          250,
          251,
          252,
          253,
          254,
          255,
          256,
          257,
          258,
          259,
          260,
          261,
          262,
          263,
          264,
          265,
          266,
          267,
          268,
          269,
          270,
          271,
          272,
          273,
          274,
          275,
          276,
          277,
          278,
          279,
          280,
          281,
          282,
          283,
          284,
          285,
          286,
          287,
          288,
          289,
          290,
          291,
          292,
          293,
          294,
          295,
          296,
          297,
          298,
          299,
          300,
          301,
          302,
          303,
          304,
          305,
          306,
          307,
          308,
          309,
          310,
          311,
          312,
          313,
          314,
          315,
          316,
          317,
          318,
          319,
          320,
          321,
          322,
          323,
          324,
          325,
          326,
          327,
          328,
          329,
          330,
          331,
          332,
          333,
          334,
          335,
          336,
          337,
          338,
          339,
          340,
          341,
          342,
          343,
          344,
          345,
          346,
          347,
          348,
          349,
          350,
          351,
          352,
          353,
          354,
          355,
          356,
          357,
          358,
          359,
          360,
          361,
          362,
          363,
          364,
          365,
          366,
          367,
          368,
          369,
          370,
          371,
          372,
          373,
          374,
          375,
          376,
          377,
          378,
          379,
          380,
          381,
          382,
          383,
          384,
          385,
          386,
          387,
          388,
          389,
          390,
          391,
          392,
          393,
          394,
          395,
          396,
          397,
          398,
          399,
          400,
          401,
          402,
          403,
          404,
          405,
          406,
          407,
          408,
          409,
          410,
          411,
          412,
          413,
          414,
          415,
          416,
          417,
          418,
          419,
          420,
          421,
          422,
          423,
          424,
          425,
          426,
          427,
          428,
          429,
          430,
          431,
          432,
          433,
          434,
          435,
          436,
          437,
          438,
          439,
          440,
          441,
          442,
          443,
          444,
          445,
          446,
          447,
          448,
          449,
          450,
          451,
          452,
          453,
          454,
          455,
          456,
          457,
          458,
          459,
          460,
          461,
          462,
          463,
          464,
          465,
          466,
          467,
          468,
          469,
          470,
          471,
          472,
          473,
          474,
          475,
          476,
          477,
          478,
          479,
          480,
          481,
          482,
          483,
          484,
          485,
          486,
          487,
          488,
          489,
          490,
          491,
          492,
          493,
          494,
          495,
          496,
          497,
          498,
          499,
          500,
          501,
          502,
          503,
          504,
          505,
          506,
          507,
          508,
          509,
          510,
          511,
          512,
          513,
          514,
          515,
          516,
          517,
          518,
          519,
          520,
          521,
          522,
          523,
          524,
          525,
          526,
          527,
          528,
          529,
          530,
          531,
          532,
          533,
          534,
          535,
          536,
          537,
          538,
          539,
          540,
          541,
          542,
          543,
          544,
          545,
          546,
          547,
          548,
          549,
          550,
          551,
          552,
          553,
          554,
          555,
          556,
          557,
          558,
          559,
          560,
          561,
          562,
          563,
          564,
          565,
          566,
          567,
          568,
          569,
          570,
          571,
          572,
          573,
          574,
          575,
          576,
          577,
          578,
          579,
          580,
          581,
          582,
          583,
          584,
          585,
          586,
          587,
          588,
          589,
          590,
          591,
          592,
          593,
          594,
          595,
          596,
          597,
          598,
          599,
          600,
          601,
          602,
          603,
          604,
          605,
          606,
          607,
          608,
          609,
          610,
          611,
          612,
          613,
          614,
          615,
          616,
          617,
          618,
          619,
          620,
          621,
          622,
          623,
          624,
          625,
          626,
          627,
          628,
          629,
          630,
          631,
          632,
          633,
          634,
          635,
          636,
          637,
          638,
          639,
          640,
          641,
          642,
          643,
          644,
          645,
          646,
          647,
          648,
          649,
          650,
          651,
          652,
          653,
          654,
          655,
          656,
          657,
          658,
          659,
          660,
          661,
          662,
          663,
          664,
          665,
          666,
          667,
          668,
          669,
          670,
          671,
          672,
          673,
          674,
          675,
          676,
          677,
          678,
          679,
          680,
          681,
          682,
          683,
          684,
          685,
          686,
          687,
          688,
          689,
          690,
          691,
          692,
          693,
          694,
          695,
          696,
          697,
          698,
          699,
          700,
          701,
          702,
          703,
          704,
          705,
          706,
          707,
          708,
          709,
          710,
          711,
          712,
          713,
          714,
          715,
          716,
          717,
          718,
          719,
          720,
          721,
          722,
          723,
          724,
          725,
          726,
          727,
          728,
          729,
          730,
          731,
          732,
          733,
          734,
          735,
          736,
          737,
          738,
          739,
          740,
          741,
          742,
          743,
          744,
          745,
          746,
          747,
          748,
          749,
          750,
          751,
          752,
          753,
          754,
          755,
          756,
          757,
          758,
          759,
          760,
          761,
          762,
          763,
          764,
          765,
          766,
          767,
          768,
          769,
          770,
          771,
          772,
          773,
          774,
          775,
          776,
          777,
          778,
          779,
          780,
          781,
          782,
          783,
          784,
          785,
          786,
          787,
          788,
          789,
          790,
          791,
          792,
          793,
          794,
          795,
          796,
          797,
          798,
          799,
          800,
          801,
          802,
          803,
          804,
          805,
          806,
          807,
          808,
          809,
          810,
          811,
          812,
          813,
          814,
          815,
          816,
          817,
          818,
          819,
          820,
          821,
          822,
          823,
          824,
          825,
          826,
          827,
          828,
          829,
          830,
          831,
          832,
          833,
          834,
          835,
          836,
          837,
          838,
          839,
          840,
          841,
          842,
          843,
          844,
          845,
          846,
          847,
          848,
          849,
          850,
          851,
          852,
          853,
          854,
          855,
          856,
          857,
          858,
          859,
          860,
          861,
          862,
          863,
          864,
          865,
          866,
          867,
          868,
          869,
          870,
          871,
          872,
          873,
          874,
          875,
          876,
          877,
          878,
          879,
          880,
          881,
          882,
          883,
          884,
          885,
          886,
          887,
          888,
          889,
          890,
          891,
          892,
          893,
          894,
          895,
          896,
          897,
          898,
          899,
          900,
          901,
          902,
          903,
          904,
          905,
          906,
          907,
          908,
          909,
          910,
          911,
          912,
          913,
          914,
          915,
          916,
          917,
          918,
          919,
          920,
          921,
          922,
          923,
          924,
          925,
          926,
          927,
          928,
          929,
          930,
          931,
          932,
          933,
          934,
          935,
          936,
          937,
          938,
          939,
          940,
          941,
          942,
          943,
          944,
          945,
          946,
          947,
          948,
          949,
          950,
          951,
          952,
          953,
          954,
          955,
          956,
          957,
          958,
          959,
          960,
          961,
          962,
          963,
          964,
          965,
          966,
          967,
          968,
          969,
          970,
          971,
          972,
          973,
          974,
          975,
          976,
          977,
          978,
          979,
          980,
          981,
          982,
          983,
          984,
          985,
          986,
          987,
          988,
          989,
          990,
          991,
          992,
          993,
          994,
          995,
          996,
          997,
          998,
          999,
          1000,
          1001,
          1002,
          1003,
          1004,
          1005,
          1006,
          1007,
          1008,
          1009,
          1010,
          1011,
          1012,
          1013,
          1014,
          1015,
          1016,
          1017,
          1018,
          1019,
          1020,
          1021,
          1022,
          1023,
          1024,
          1025,
          1026,
          1027,
          1028,
          1029,
          1030,
          1031,
          1032,
          1033,
          1034,
          1035,
          1036,
          1037,
          1038,
          1039,
          1040,
          1041,
          1042,
          1043,
          1044,
          1045,
          1046,
          1047,
          1048,
          1049,
          1050,
          1051,
          1052,
          1053,
          1054,
          1055,
          1056,
          1057,
          1058,
          1059,
          1060,
          1061,
          1062,
          1063,
          1064,
          1065,
          1066,
          1067,
          1068,
          1069,
          1070,
          1071,
          1072,
          1073,
          1074,
          1075,
          1076,
          1077,
          1078,
          1079,
          1080,
          1081,
          1082,
          1083,
          1084,
          1085,
          1086,
          1087,
          1088,
          1089,
          1090,
          1091,
          1092,
          1093,
          1094,
          1095,
          1096,
          1097,
          1098,
          1099,
          1100,
          1101,
          1102,
          1103,
          1104,
          1105,
          1106,
          1107,
          1108,
          1109,
          1110,
          1111,
          1112,
          1113,
          1114,
          1115,
          1116,
          1117,
          1118,
          1119,
          1120,
          1121,
          1122,
          1123,
          1124,
          1125,
          1126,
          1127,
          1128,
          1129,
          1130,
          1131,
          1132,
          1133,
          1134,
          1135,
          1136,
          1137,
          1138,
          1139,
          1140,
          1141,
          1142,
          1143,
          1144,
          1145,
          1146,
          1147,
          1148,
          1149,
          1150,
          1151,
          1152,
          1153,
          1154,
          1155,
          1156,
          1157,
          1158,
          1159,
          1160,
          1161,
          1162,
          1163,
          1164,
          1165,
          1166,
          1167,
          1168,
          1169,
          1170,
          1171,
          1172,
          1173,
          1174,
          1175,
          1176,
          1177,
          1178,
          1179,
          1180,
          1181,
          1182,
          1183,
          1184,
          1185,
          1186,
          1187,
          1188,
          1189,
          1190,
          1191,
          1192,
          1193,
          1194,
          1195,
          1196,
          1197,
          1198,
          1199,
          1200,
          1201,
          1202,
          1203,
          1204,
          1205,
          1206,
          1207,
          1208,
          1209,
          1210,
          1211,
          1212,
          1213,
          1214,
          1215,
          1216,
          1217,
          1218,
          1219,
          1220,
          1221,
          1222,
          1223,
          1224,
          1225,
          1226,
          1227,
          1228,
          1229,
          1230,
          1231,
          1232,
          1233,
          1234,
          1235,
          1236,
          1237,
          1238,
          1239,
          1240,
          1241,
          1242,
          1243,
          1244,
          1245,
          1246,
          1247,
          1248,
          1249,
          1250,
          1251,
          1252,
          1253,
          1254,
          1255,
          1256,
          1257,
          1258,
          1259,
          1260,
          1261,
          1262,
          1263,
          1264,
          1265,
          1266,
          1267,
          1268,
          1269,
          1270,
          1271,
          1272,
          1273,
          1274,
          1275,
          1276,
          1277,
          1278,
          1279,
          1280,
          1281,
          1282,
          1283,
          1284,
          1285,
          1286,
          1287,
          1288,
          1289,
          1290,
          1291,
          1292,
          1293,
          1294,
          1295,
          1296,
          1297,
          1298,
          1299,
          1300,
          1301,
          1302,
          1303,
          1304,
          1305,
          1306,
          1307,
          1308,
          1309,
          1310,
          1311,
          1312,
          1313,
          1314,
          1315,
          1316,
          1317,
          1318,
          1319,
          1320,
          1321,
          1322,
          1323,
          1324,
          1325,
          1326,
          1327,
          1328,
          1329,
          1330,
          1331,
          1332,
          1333,
          1334,
          1335,
          1336,
          1337,
          1338,
          1339,
          1340,
          1341,
          1342,
          1343,
          1344,
          1345,
          1346,
          1347,
          1348,
          1349,
          1350,
          1351,
          1352,
          1353,
          1354,
          1355,
          1356,
          1357,
          1358,
          1359,
          1360,
          1361,
          1362,
          1363,
          1364,
          1365,
          1366,
          1367,
          1368,
          1369,
          1370,
          1371,
          1372,
          1373,
          1374,
          1375,
          1376,
          1377,
          1378,
          1379,
          1380,
          1381,
          1382,
          1383,
          1384,
          1385,
          1386,
          1387,
          1388,
          1389,
          1390,
          1391,
          1392,
          1393,
          1394,
          1395,
          1396,
          1397,
          1398,
          1399,
          1400,
          1401,
          1402,
          1403,
          1404,
          1405,
          1406,
          1407,
          1408,
          1409,
          1410,
          1411,
          1412,
          1413,
          1414,
          1415,
          1416,
          1417,
          1418,
          1419,
          1420,
          1421,
          1422,
          1423,
          1424,
          1425,
          1426,
          1427,
          1428,
          1429,
          1430,
          1431,
          1432,
          1433,
          1434,
          1435,
          1436,
          1437,
          1438,
          1439,
          1440,
          1441,
          1442,
          1443,
          1444,
          1445,
          1446,
          1447,
          1448,
          1449,
          1450,
          1451,
          1452,
          1453,
          1454,
          1455,
          1456,
          1457,
          1458,
          1459,
          1460,
          1461,
          1462,
          1463,
          1464,
          1465,
          1466,
          1467,
          1468,
          1469,
          1470,
          1471,
          1472,
          1473,
          1474,
          1475,
          1476,
          1477,
          1478,
          1479,
          1480,
          1481,
          1482,
          1483,
          1484,
          1485,
          1486,
          1487,
          1488,
          1489,
          1490,
          1491,
          1492,
          1493,
          1494,
          1495,
          1496,
          1497,
          1498,
          1499,
          1500,
          1501,
          1502,
          1503,
          1504,
          1505,
          1506,
          1507,
          1508,
          1509,
          1510,
          1511,
          1512,
          1513,
          1514,
          1515,
          1516,
          1517,
          1518,
          1519,
          1520,
          1521,
          1522,
          1523,
          1524,
          1525,
          1526,
          1527,
          1528,
          1529,
          1530,
          1531,
          1532,
          1533,
          1534,
          1535,
          1536,
          1537,
          1538,
          1539,
          1540,
          1541,
          1542,
          1543,
          1544,
          1545,
          1546,
          1547,
          1548,
          1549,
          1550,
          1551,
          1552,
          1553,
          1554,
          1555,
          1556,
          1557,
          1558,
          1559,
          1560,
          1561,
          1562,
          1563,
          1564,
          1565,
          1566,
          1567,
          1568,
          1569,
          1570,
          1571,
          1572,
          1573,
          1574,
          1575,
          1576,
          1577,
          1578,
          1579,
          1580,
          1581,
          1582,
          1583,
          1584,
          1585,
          1586,
          1587,
          1588,
          1589,
          1590,
          1591,
          1592,
          1593,
          1594,
          1595,
          1596,
          1597,
          1598,
          1599,
          1600,
          1601,
          1602,
          1603,
          1604,
          1605,
          1606,
          1607,
          1608,
          1609,
          1610,
          1611,
          1612,
          1613,
          1614,
          1615,
          1616,
          1617,
          1618,
          1619,
          1620,
          1621,
          1622,
          1623,
          1624,
          1625,
          1626,
          1627,
          1628,
          1629,
          1630,
          1631,
          1632,
          1633,
          1634,
          1635,
          1636,
          1637,
          1638,
          1639,
          1640,
          1641,
          1642,
          1643,
          1644,
          1645,
          1646,
          1647,
          1648,
          1649,
          1650,
          1651,
          1652,
          1653,
          1654,
          1655,
          1656,
          1657,
          1658,
          1659,
          1660,
          1661,
          1662,
          1663,
          1664,
          1665,
          1666,
          1667,
          1668,
          1669,
          1670,
          1671,
          1672,
          1673,
          1674,
          1675,
          1676,
          1677,
          1678,
          1679,
          1680,
          1681,
          1682,
          1683,
          1684,
          1685,
          1686,
          1687,
          1688,
          1689,
          1690,
          1691,
          1692,
          1693,
          1694,
          1695,
          1696,
          1697,
          1698,
          1699,
          1700,
          1701,
          1702,
          1703,
          1704,
          1705,
          1706,
          1707,
          1708,
          1709,
          1710,
          1711,
          1712,
          1713,
          1714,
          1715,
          1716,
          1717,
          1718,
          1719,
          1720,
          1721,
          1722,
          1723,
          1724,
          1725,
          1726,
          1727,
          1728,
          1729,
          1730,
          1731,
          1732,
          1733,
          1734,
          1735,
          1736,
          1737,
          1738,
          1739,
          1740,
          1741,
          1742,
          1743,
          1744,
          1745,
          1746,
          1747,
          1748,
          1749,
          1750,
          1751,
          1752,
          1753,
          1754,
          1755,
          1756,
          1757,
          1758,
          1759,
          1760,
          1761,
          1762,
          1763,
          1764,
          1765,
          1766,
          1767,
          1768,
          1769,
          1770,
          1771,
          1772,
          1773,
          1774,
          1775,
          1776,
          1777,
          1778,
          1779,
          1780,
          1781,
          1782,
          1783,
          1784,
          1785,
          1786,
          1787,
          1788,
          1789,
          1790,
          1791,
          1792,
          1793,
          1794,
          1795,
          1796,
          1797,
          1798,
          1799,
          1800,
          1801,
          1802,
          1803,
          1804,
          1805,
          1806,
          1807,
          1808,
          1809,
          1810,
          1811,
          1812,
          1813,
          1814,
          1815,
          1816,
          1817,
          1818,
          1819,
          1820,
          1821,
          1822,
          1823,
          1824,
          1825,
          1826,
          1827,
          1828,
          1829,
          1830,
          1831,
          1832,
          1833,
          1834,
          1835,
          1836,
          1837,
          1838,
          1839,
          1840,
          1841,
          1842,
          1843,
          1844,
          1845,
          1846,
          1847,
          1848,
          1849,
          1850,
          1851,
          1852,
          1853,
          1854,
          1855,
          1856,
          1857,
          1858,
          1859,
          1860,
          1861,
          1862,
          1863,
          1864,
          1865,
          1866,
          1867,
          1868,
          1869,
          1870,
          1871,
          1872,
          1873,
          1874,
          1875,
          1876,
          1877,
          1878,
          1879,
          1880,
          1881,
          1882,
          1883,
          1884,
          1885,
          1886,
          1887,
          1888,
          1889,
          1890,
          1891,
          1892,
          1893,
          1894,
          1895,
          1896,
          1897,
          1898,
          1899,
          1900,
          1901,
          1902,
          1903,
          1904,
          1905,
          1906,
          1907,
          1908,
          1909,
          1910,
          1911,
          1912,
          1913,
          1914,
          1915,
          1916,
          1917,
          1918,
          1919,
          1920,
          1921,
          1922,
          1923,
          1924,
          1925,
          1926,
          1927,
          1928,
          1929,
          1930,
          1931,
          1932,
          1933,
          1934,
          1935,
          1936,
          1937,
          1938,
          1939,
          1940,
          1941,
          1942,
          1943,
          1944,
          1945,
          1946,
          1947,
          1948,
          1949,
          1950,
          1951,
          1952,
          1953,
          1954,
          1955,
          1956,
          1957,
          1958,
          1959,
          1960,
          1961,
          1962,
          1963,
          1964,
          1965,
          1966,
          1967,
          1968,
          1969,
          1970,
          1971,
          1972,
          1973,
          1974,
          1975,
          1976,
          1977,
          1978,
          1979,
          1980,
          1981,
          1982,
          1983,
          1984,
          1985,
          1986,
          1987,
          1988,
          1989,
          1990,
          1991,
          1992,
          1993,
          1994,
          1995,
          1996,
          1997,
          1998,
          1999,
          2000,
          2001,
          2002,
          2003,
          2004,
          2005,
          2006,
          2007,
          2008,
          2009,
          2010,
          2011,
          2012,
          2013,
          2014,
          2015,
          2016,
          2017,
          2018,
          2019,
          2020,
          2021,
          2022,
          2023,
          2024,
          2025,
          2026,
          2027,
          2028,
          2029,
          2030,
          2031,
          2032,
          2033,
          2034,
          2035,
          2036,
          2037,
          2038,
          2039,
          2040,
          2041,
          2042,
          2043,
          2044,
          2045,
          2046,
          2047,
          2048,
          2049,
          2050,
          2051,
          2052,
          2053,
          2054,
          2055,
          2056,
          2057,
          2058,
          2059,
          2060,
          2061,
          2062,
          2063,
          2064,
          2065,
          2066,
          2067,
          2068,
          2069,
          2070,
          2071,
          2072,
          2073,
          2074,
          2075,
          2076,
          2077,
          2078,
          2079,
          2080,
          2081,
          2082,
          2083,
          2084,
          2085,
          2086,
          2087,
          2088,
          2089,
          2090,
          2091,
          2092,
          2093,
          2094,
          2095,
          2096,
          2097,
          2098,
          2099,
          2100,
          2101,
          2102,
          2103,
          2104,
          2105,
          2106,
          2107,
          2108,
          2109,
          2110,
          2111,
          2112,
          2113,
          2114,
          2115,
          2116,
          2117,
          2118,
          2119,
          2120,
          2121,
          2122,
          2123,
          2124,
          2125,
          2126,
          2127,
          2128,
          2129,
          2130,
          2131,
          2132,
          2133,
          2134,
          2135,
          2136,
          2137,
          2138,
          2139,
          2140,
          2141,
          2142,
          2143,
          2144,
          2145,
          2146,
          2147,
          2148,
          2149,
          2150,
          2151,
          2152,
          2153,
          2154,
          2155,
          2156,
          2157,
          2158,
          2159,
          2160,
          2161,
          2162,
          2163,
          2164,
          2165,
          2166,
          2167,
          2168,
          2169,
          2170,
          2171,
          2172,
          2173,
          2174,
          2175,
          2176,
          2177,
          2178,
          2179,
          2180,
          2181,
          2182,
          2183,
          2184,
          2185,
          2186,
          2187,
          2188,
          2189,
          2190,
          2191,
          2192,
          2193,
          2194,
          2195,
          2196,
          2197,
          2198,
          2199,
          2200,
          2201,
          2202,
          2203,
          2204,
          2205,
          2206,
          2207,
          2208,
          2209,
          2210,
          2211,
          2212,
          2213,
          2214,
          2215,
          2216,
          2217,
          2218,
          2219,
          2220,
          2221,
          2222,
          2223,
          2224,
          2225,
          2226,
          2227,
          2228,
          2229,
          2230,
          2231,
          2232,
          2233,
          2234,
          2235,
          2236,
          2237,
          2238,
          2239,
          2240,
          2241,
          2242,
          2243,
          2244,
          2245,
          2246,
          2247,
          2248,
          2249,
          2250,
          2251,
          2252,
          2253,
          2254,
          2255,
          2256,
          2257,
          2258,
          2259,
          2260,
          2261,
          2262,
          2263,
          2264,
          2265,
          2266,
          2267,
          2268,
          2269,
          2270,
          2271,
          2272,
          2273,
          2274,
          2275,
          2276,
          2277,
          2278,
          2279,
          2280,
          2281,
          2282,
          2283,
          2284,
          2285,
          2286,
          2287,
          2288,
          2289,
          2290,
          2291,
          2292,
          2293,
          2294,
          2295,
          2296,
          2297,
          2298,
          2299,
          2300,
          2301,
          2302,
          2303,
          2304,
          2305,
          2306,
          2307,
          2308,
          2309,
          2310,
          2311,
          2312,
          2313,
          2314,
          2315,
          2316,
          2317,
          2318,
          2319,
          2320,
          2321,
          2322,
          2323,
          2324,
          2325,
          2326,
          2327,
          2328,
          2329,
          2330,
          2331,
          2332,
          2333,
          2334,
          2335,
          2336,
          2337,
          2338,
          2339,
          2340,
          2341,
          2342,
          2343,
          2344,
          2345,
          2346,
          2347,
          2348,
          2349,
          2350,
          2351,
          2352,
          2353,
          2354,
          2355,
          2356,
          2357,
          2358,
          2359,
          2360,
          2361,
          2362,
          2363,
          2364,
          2365,
          2366,
          2367,
          2368,
          2369,
          2370,
          2371,
          2372,
          2373,
          2374,
          2375,
          2376,
          2377,
          2378,
          2379,
          2380,
          2381,
          2382,
          2383,
          2384,
          2385,
          2386,
          2387,
          2388,
          2389,
          2390,
          2391,
          2392,
          2393,
          2394,
          2395,
          2396,
          2397,
          2398,
          2399,
          2400,
          2401,
          2402,
          2403,
          2404,
          2405,
          2406,
          2407,
          2408,
          2409,
          2410,
          2411,
          2412,
          2413,
          2414,
          2415,
          2416,
          2417,
          2418,
          2419,
          2420,
          2421,
          2422,
          2423,
          2424,
          2425,
          2426,
          2427,
          2428,
          2429,
          2430,
          2431,
          2432,
          2433,
          2434,
          2435,
          2436,
          2437,
          2438,
          2439,
          2440,
          2441,
          2442,
          2443,
          2444,
          2445,
          2446,
          2447,
          2448,
          2449,
          2450,
          2451,
          2452,
          2453,
          2454,
          2455,
          2456,
          2457,
          2458,
          2459,
          2460,
          2461,
          2462,
          2463,
          2464,
          2465,
          2466,
          2467,
          2468,
          2469,
          2470,
          2471,
          2472,
          2473,
          2474,
          2475,
          2476,
          2477,
          2478,
          2479,
          2480,
          2481,
          2482,
          2483,
          2484,
          2485,
          2486,
          2487,
          2488,
          2489,
          2490,
          2491,
          2492,
          2493,
          2494,
          2495,
          2496,
          2497,
          2498,
          2499,
          2500,
          2501,
          2502,
          2503,
          2504,
          2505,
          2506,
          2507,
          2508,
          2509,
          2510,
          2511,
          2512,
          2513,
          2514,
          2515,
          2516,
          2517,
          2518,
          2519,
          2520,
          2521,
          2522,
          2523,
          2524,
          2525,
          2526,
          2527,
          2528,
          2529,
          2530,
          2531,
          2532,
          2533,
          2534,
          2535,
          2536,
          2537,
          2538,
          2539,
          2540,
          2541,
          2542,
          2543,
          2544,
          2545,
          2546,
          2547,
          2548,
          2549,
          2550,
          2551,
          2552,
          2553,
          2554,
          2555,
          2556,
          2557,
          2558,
          2559,
          2560,
          2561,
          2562,
          2563,
          2564,
          2565,
          2566,
          2567,
          2568,
          2569,
          2570,
          2571,
          2572,
          2573,
          2574,
          2575,
          2576,
          2577,
          2578,
          2579,
          2580,
          2581,
          2582,
          2583,
          2584,
          2585,
          2586,
          2587,
          2588,
          2589,
          2590,
          2591,
          2592,
          2593,
          2594,
          2595,
          2596,
          2597,
          2598,
          2599,
          2600,
          2601,
          2602,
          2603,
          2604,
          2605,
          2606,
          2607,
          2608,
          2609,
          2610,
          2611,
          2612,
          2613,
          2614,
          2615,
          2616,
          2617,
          2618,
          2619,
          2620,
          2621,
          2622,
          2623,
          2624,
          2625,
          2626,
          2627,
          2628,
          2629,
          2630,
          2631,
          2632,
          2633,
          2634,
          2635,
          2636,
          2637,
          2638,
          2639,
          2640,
          2641,
          2642,
          2643,
          2644,
          2645,
          2646,
          2647,
          2648,
          2649,
          2650,
          2651,
          2652,
          2653,
          2654,
          2655,
          2656,
          2657,
          2658,
          2659,
          2660,
          2661,
          2662,
          2663,
          2664,
          2665,
          2666,
          2667,
          2668,
          2669,
          2670,
          2671,
          2672,
          2673,
          2674,
          2675,
          2676,
          2677,
          2678,
          2679,
          2680,
          2681,
          2682,
          2683,
          2684,
          2685,
          2686,
          2687,
          2688,
          2689,
          2690,
          2691,
          2692,
          2693,
          2694,
          2695,
          2696,
          2697,
          2698,
          2699,
          2700,
          2701,
          2702,
          2703,
          2704,
          2705,
          2706,
          2707,
          2708,
          2709,
          2710,
          2711,
          2712,
          2713,
          2714,
          2715,
          2716,
          2717,
          2718,
          2719,
          2720,
          2721,
          2722,
          2723,
          2724,
          2725,
          2726,
          2727,
          2728,
          2729,
          2730,
          2731,
          2732,
          2733,
          2734,
          2735,
          2736,
          2737,
          2738,
          2739,
          2740,
          2741,
          2742,
          2743,
          2744,
          2745,
          2746,
          2747,
          2748,
          2749,
          2750,
          2751,
          2752,
          2753,
          2754,
          2755,
          2756,
          2757,
          2758,
          2759,
          2760,
          2761,
          2762,
          2763,
          2764,
          2765,
          2766,
          2767,
          2768,
          2769,
          2770,
          2771,
          2772,
          2773,
          2774,
          2775,
          2776,
          2777,
          2778,
          2779,
          2780,
          2781,
          2782,
          2783,
          2784,
          2785,
          2786,
          2787,
          2788,
          2789,
          2790,
          2791,
          2792,
          2793,
          2794,
          2795,
          2796,
          2797,
          2798,
          2799,
          2800,
          2801,
          2802,
          2803,
          2804,
          2805,
          2806,
          2807,
          2808,
          2809,
          2810,
          2811,
          2812,
          2813,
          2814,
          2815,
          2816,
          2817,
          2818,
          2819,
          2820,
          2821,
          2822,
          2823,
          2824,
          2825,
          2826,
          2827,
          2828,
          2829,
          2830,
          2831,
          2832,
          2833,
          2834,
          2835,
          2836,
          2837,
          2838,
          2839,
          2840,
          2841,
          2842,
          2843,
          2844,
          2845,
          2846,
          2847,
          2848,
          2849,
          2850,
          2851,
          2852,
          2853,
          2854,
          2855,
          2856,
          2857,
          2858,
          2859,
          2860,
          2861,
          2862,
          2863,
          2864,
          2865,
          2866,
          2867,
          2868,
          2869,
          2870,
          2871,
          2872,
          2873,
          2874,
          2875,
          2876,
          2877,
          2878,
          2879,
          2880,
          2881,
          2882,
          2883,
          2884,
          2885,
          2886,
          2887,
          2888,
          2889,
          2890,
          2891,
          2892,
          2893,
          2894,
          2895,
          2896,
          2897,
          2898,
          2899,
          2900,
          2901,
          2902,
          2903,
          2904,
          2905,
          2906,
          2907,
          2908,
          2909,
          2910,
          2911,
          2912,
          2913,
          2914,
          2915,
          2916,
          2917,
          2918,
          2919,
          2920,
          2921,
          2922,
          2923,
          2924,
          2925,
          2926,
          2927,
          2928,
          2929,
          2930,
          2931,
          2932,
          2933,
          2934,
          2935,
          2936,
          2937,
          2938,
          2939,
          2940,
          2941,
          2942,
          2943,
          2944,
          2945,
          2946,
          2947,
          2948,
          2949,
          2950,
          2951,
          2952,
          2953,
          2954,
          2955,
          2956,
          2957,
          2958,
          2959,
          2960,
          2961,
          2962,
          2963,
          2964,
          2965,
          2966,
          2967,
          2968,
          2969,
          2970,
          2971,
          2972,
          2973,
          2974,
          2975,
          2976,
          2977,
          2978,
          2979,
          2980,
          2981,
          2982,
          2983,
          2984,
          2985,
          2986,
          2987,
          2988,
          2989,
          2990,
          2991,
          2992,
          2993,
          2994,
          2995,
          2996,
          2997,
          2998,
          2999,
          3000,
          3001,
          3002,
          3003,
          3004,
          3005,
          3006,
          3007,
          3008,
          3009,
          3010,
          3011,
          3012,
          3013,
          3014,
          3015,
          3016,
          3017,
          3018,
          3019,
          3020,
          3021,
          3022,
          3023,
          3024,
          3025,
          3026,
          3027,
          3028,
          3029,
          3030,
          3031,
          3032,
          3033,
          3034,
          3035,
          3036,
          3037,
          3038,
          3039,
          3040,
          3041
         ]
        }
       },
       "height": 500,
       "layout": "IPY_MODEL_26731467235f4b6693566559768e4953",
       "value": "Hello World!"
      }
     }
    },
    "version_major": 2,
    "version_minor": 0
   }
  }
 },
 "nbformat": 4,
 "nbformat_minor": 2
}
